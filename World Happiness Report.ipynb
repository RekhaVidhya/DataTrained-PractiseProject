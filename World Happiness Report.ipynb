{
 "cells": [
  {
   "cell_type": "code",
   "execution_count": 69,
   "id": "32303c37",
   "metadata": {},
   "outputs": [],
   "source": [
    "import io\n",
    "import numpy as np\n",
    "import math\n",
    "import matplotlib.pyplot as plt\n",
    "import pandas as pd\n",
    "import seaborn as sns\n",
    "import sklearn"
   ]
  },
  {
   "cell_type": "code",
   "execution_count": 44,
   "id": "bcf2a7bf",
   "metadata": {},
   "outputs": [
    {
     "data": {
      "text/plain": [
       "Index(['Country', 'Region', 'Happiness Rank', 'Happiness Score',\n",
       "       'Standard Error', 'Economy (GDP per Capita)', 'Family',\n",
       "       'Health (Life Expectancy)', 'Freedom', 'Trust (Government Corruption)',\n",
       "       'Generosity', 'Dystopia Residual'],\n",
       "      dtype='object')"
      ]
     },
     "execution_count": 44,
     "metadata": {},
     "output_type": "execute_result"
    }
   ],
   "source": [
    "Data=pd.read_csv(\"https://raw.githubusercontent.com/dsrscientist/DSData/master/happiness_score_dataset.csv\")\n",
    "Data.columns"
   ]
  },
  {
   "cell_type": "code",
   "execution_count": 5,
   "id": "05cf2f07",
   "metadata": {},
   "outputs": [
    {
     "data": {
      "text/html": [
       "<div>\n",
       "<style scoped>\n",
       "    .dataframe tbody tr th:only-of-type {\n",
       "        vertical-align: middle;\n",
       "    }\n",
       "\n",
       "    .dataframe tbody tr th {\n",
       "        vertical-align: top;\n",
       "    }\n",
       "\n",
       "    .dataframe thead th {\n",
       "        text-align: right;\n",
       "    }\n",
       "</style>\n",
       "<table border=\"1\" class=\"dataframe\">\n",
       "  <thead>\n",
       "    <tr style=\"text-align: right;\">\n",
       "      <th></th>\n",
       "      <th>Country</th>\n",
       "      <th>Region</th>\n",
       "      <th>Happiness Rank</th>\n",
       "      <th>Happiness Score</th>\n",
       "      <th>Standard Error</th>\n",
       "      <th>Economy (GDP per Capita)</th>\n",
       "      <th>Family</th>\n",
       "      <th>Health (Life Expectancy)</th>\n",
       "      <th>Freedom</th>\n",
       "      <th>Trust (Government Corruption)</th>\n",
       "      <th>Generosity</th>\n",
       "      <th>Dystopia Residual</th>\n",
       "    </tr>\n",
       "  </thead>\n",
       "  <tbody>\n",
       "    <tr>\n",
       "      <th>0</th>\n",
       "      <td>Switzerland</td>\n",
       "      <td>Western Europe</td>\n",
       "      <td>1</td>\n",
       "      <td>7.587</td>\n",
       "      <td>0.03411</td>\n",
       "      <td>1.39651</td>\n",
       "      <td>1.34951</td>\n",
       "      <td>0.94143</td>\n",
       "      <td>0.66557</td>\n",
       "      <td>0.41978</td>\n",
       "      <td>0.29678</td>\n",
       "      <td>2.51738</td>\n",
       "    </tr>\n",
       "    <tr>\n",
       "      <th>1</th>\n",
       "      <td>Iceland</td>\n",
       "      <td>Western Europe</td>\n",
       "      <td>2</td>\n",
       "      <td>7.561</td>\n",
       "      <td>0.04884</td>\n",
       "      <td>1.30232</td>\n",
       "      <td>1.40223</td>\n",
       "      <td>0.94784</td>\n",
       "      <td>0.62877</td>\n",
       "      <td>0.14145</td>\n",
       "      <td>0.43630</td>\n",
       "      <td>2.70201</td>\n",
       "    </tr>\n",
       "    <tr>\n",
       "      <th>2</th>\n",
       "      <td>Denmark</td>\n",
       "      <td>Western Europe</td>\n",
       "      <td>3</td>\n",
       "      <td>7.527</td>\n",
       "      <td>0.03328</td>\n",
       "      <td>1.32548</td>\n",
       "      <td>1.36058</td>\n",
       "      <td>0.87464</td>\n",
       "      <td>0.64938</td>\n",
       "      <td>0.48357</td>\n",
       "      <td>0.34139</td>\n",
       "      <td>2.49204</td>\n",
       "    </tr>\n",
       "    <tr>\n",
       "      <th>3</th>\n",
       "      <td>Norway</td>\n",
       "      <td>Western Europe</td>\n",
       "      <td>4</td>\n",
       "      <td>7.522</td>\n",
       "      <td>0.03880</td>\n",
       "      <td>1.45900</td>\n",
       "      <td>1.33095</td>\n",
       "      <td>0.88521</td>\n",
       "      <td>0.66973</td>\n",
       "      <td>0.36503</td>\n",
       "      <td>0.34699</td>\n",
       "      <td>2.46531</td>\n",
       "    </tr>\n",
       "    <tr>\n",
       "      <th>4</th>\n",
       "      <td>Canada</td>\n",
       "      <td>North America</td>\n",
       "      <td>5</td>\n",
       "      <td>7.427</td>\n",
       "      <td>0.03553</td>\n",
       "      <td>1.32629</td>\n",
       "      <td>1.32261</td>\n",
       "      <td>0.90563</td>\n",
       "      <td>0.63297</td>\n",
       "      <td>0.32957</td>\n",
       "      <td>0.45811</td>\n",
       "      <td>2.45176</td>\n",
       "    </tr>\n",
       "  </tbody>\n",
       "</table>\n",
       "</div>"
      ],
      "text/plain": [
       "       Country          Region  Happiness Rank  Happiness Score  \\\n",
       "0  Switzerland  Western Europe               1            7.587   \n",
       "1      Iceland  Western Europe               2            7.561   \n",
       "2      Denmark  Western Europe               3            7.527   \n",
       "3       Norway  Western Europe               4            7.522   \n",
       "4       Canada   North America               5            7.427   \n",
       "\n",
       "   Standard Error  Economy (GDP per Capita)   Family  \\\n",
       "0         0.03411                   1.39651  1.34951   \n",
       "1         0.04884                   1.30232  1.40223   \n",
       "2         0.03328                   1.32548  1.36058   \n",
       "3         0.03880                   1.45900  1.33095   \n",
       "4         0.03553                   1.32629  1.32261   \n",
       "\n",
       "   Health (Life Expectancy)  Freedom  Trust (Government Corruption)  \\\n",
       "0                   0.94143  0.66557                        0.41978   \n",
       "1                   0.94784  0.62877                        0.14145   \n",
       "2                   0.87464  0.64938                        0.48357   \n",
       "3                   0.88521  0.66973                        0.36503   \n",
       "4                   0.90563  0.63297                        0.32957   \n",
       "\n",
       "   Generosity  Dystopia Residual  \n",
       "0     0.29678            2.51738  \n",
       "1     0.43630            2.70201  \n",
       "2     0.34139            2.49204  \n",
       "3     0.34699            2.46531  \n",
       "4     0.45811            2.45176  "
      ]
     },
     "execution_count": 5,
     "metadata": {},
     "output_type": "execute_result"
    }
   ],
   "source": [
    "Data.head()"
   ]
  },
  {
   "cell_type": "code",
   "execution_count": 7,
   "id": "f7066acf",
   "metadata": {},
   "outputs": [
    {
     "data": {
      "text/plain": [
       "(158, 12)"
      ]
     },
     "execution_count": 7,
     "metadata": {},
     "output_type": "execute_result"
    }
   ],
   "source": [
    "Data.shape"
   ]
  },
  {
   "cell_type": "code",
   "execution_count": 11,
   "id": "68198708",
   "metadata": {},
   "outputs": [
    {
     "data": {
      "text/plain": [
       "Country                           object\n",
       "Region                            object\n",
       "Happiness Rank                     int64\n",
       "Happiness Score                  float64\n",
       "Standard Error                   float64\n",
       "Economy (GDP per Capita)         float64\n",
       "Family                           float64\n",
       "Health (Life Expectancy)         float64\n",
       "Freedom                          float64\n",
       "Trust (Government Corruption)    float64\n",
       "Generosity                       float64\n",
       "Dystopia Residual                float64\n",
       "dtype: object"
      ]
     },
     "execution_count": 11,
     "metadata": {},
     "output_type": "execute_result"
    }
   ],
   "source": [
    "Data.dtypes"
   ]
  },
  {
   "cell_type": "code",
   "execution_count": null,
   "id": "f67fe28b",
   "metadata": {},
   "outputs": [],
   "source": [
    "#Two columns are string and needed to be converted to Numeric"
   ]
  },
  {
   "cell_type": "code",
   "execution_count": 15,
   "id": "73a84966",
   "metadata": {},
   "outputs": [
    {
     "data": {
      "text/plain": [
       "Country                          0\n",
       "Region                           0\n",
       "Happiness Rank                   0\n",
       "Happiness Score                  0\n",
       "Standard Error                   0\n",
       "Economy (GDP per Capita)         0\n",
       "Family                           0\n",
       "Health (Life Expectancy)         0\n",
       "Freedom                          0\n",
       "Trust (Government Corruption)    0\n",
       "Generosity                       0\n",
       "Dystopia Residual                0\n",
       "dtype: int64"
      ]
     },
     "execution_count": 15,
     "metadata": {},
     "output_type": "execute_result"
    }
   ],
   "source": [
    "Data.isnull().sum()"
   ]
  },
  {
   "cell_type": "code",
   "execution_count": null,
   "id": "ce826f3d",
   "metadata": {},
   "outputs": [],
   "source": [
    "#There are no missing values in the dataset"
   ]
  },
  {
   "cell_type": "code",
   "execution_count": 57,
   "id": "3121246f",
   "metadata": {},
   "outputs": [
    {
     "data": {
      "text/plain": [
       "<AxesSubplot:xlabel='Trust (Government Corruption)'>"
      ]
     },
     "execution_count": 57,
     "metadata": {},
     "output_type": "execute_result"
    },
    {
     "data": {
      "image/png": "[encoded data removed]",
      "text/plain": [
       "<Figure size 432x288 with 1 Axes>"
      ]
     },
     "metadata": {
      "needs_background": "light"
     },
     "output_type": "display_data"
    }
   ],
   "source": [
    "sns.boxplot(x=Data[\"Trust (Government Corruption)\"])"
   ]
  },
  {
   "cell_type": "code",
   "execution_count": 63,
   "id": "8f5721f5",
   "metadata": {},
   "outputs": [
    {
     "data": {
      "text/plain": [
       "<AxesSubplot:xlabel='Family'>"
      ]
     },
     "execution_count": 63,
     "metadata": {},
     "output_type": "execute_result"
    },
    {
     "data": {
      "image/png": "[encoded data removed]",
      "text/plain": [
       "<Figure size 432x288 with 1 Axes>"
      ]
     },
     "metadata": {
      "needs_background": "light"
     },
     "output_type": "display_data"
    }
   ],
   "source": [
    "sns.boxplot(x=Data[\"Family\"])"
   ]
  },
  {
   "cell_type": "code",
   "execution_count": null,
   "id": "3fbd9606",
   "metadata": {},
   "outputs": [],
   "source": [
    "# can see that there are outliers in Trust (Government Corruption)-Left Skewed, Family, GDP and Health are right Skewed."
   ]
  },
  {
   "cell_type": "code",
   "execution_count": 29,
   "id": "fc153810",
   "metadata": {},
   "outputs": [
    {
     "name": "stderr",
     "output_type": "stream",
     "text": [
      "C:\\Users\\Pradeep\\anaconda3\\lib\\site-packages\\seaborn\\distributions.py:2557: FutureWarning: `distplot` is a deprecated function and will be removed in a future version. Please adapt your code to use either `displot` (a figure-level function with similar flexibility) or `histplot` (an axes-level function for histograms).\n",
      "  warnings.warn(msg, FutureWarning)\n"
     ]
    },
    {
     "data": {
      "text/plain": [
       "<AxesSubplot:xlabel='Economy (GDP per Capita)', ylabel='Density'>"
      ]
     },
     "execution_count": 29,
     "metadata": {},
     "output_type": "execute_result"
    },
    {
     "data": {
      "image/png": "[encoded data removed]",
      "text/plain": [
       "<Figure size 432x288 with 1 Axes>"
      ]
     },
     "metadata": {
      "needs_background": "light"
     },
     "output_type": "display_data"
    }
   ],
   "source": [
    "sns.distplot(Data[\"Economy (GDP per Capita)\"])"
   ]
  },
  {
   "cell_type": "code",
   "execution_count": 30,
   "id": "2c685712",
   "metadata": {},
   "outputs": [
    {
     "name": "stderr",
     "output_type": "stream",
     "text": [
      "C:\\Users\\Pradeep\\anaconda3\\lib\\site-packages\\seaborn\\distributions.py:2557: FutureWarning: `distplot` is a deprecated function and will be removed in a future version. Please adapt your code to use either `displot` (a figure-level function with similar flexibility) or `histplot` (an axes-level function for histograms).\n",
      "  warnings.warn(msg, FutureWarning)\n"
     ]
    },
    {
     "data": {
      "text/plain": [
       "<AxesSubplot:xlabel='Family', ylabel='Density'>"
      ]
     },
     "execution_count": 30,
     "metadata": {},
     "output_type": "execute_result"
    },
    {
     "data": {
      "image/png": "[encoded data removed]",
      "text/plain": [
       "<Figure size 432x288 with 1 Axes>"
      ]
     },
     "metadata": {
      "needs_background": "light"
     },
     "output_type": "display_data"
    }
   ],
   "source": [
    "sns.distplot(Data[\"Family\"])"
   ]
  },
  {
   "cell_type": "code",
   "execution_count": 62,
   "id": "78aeb8a3",
   "metadata": {},
   "outputs": [
    {
     "name": "stderr",
     "output_type": "stream",
     "text": [
      "C:\\Users\\Pradeep\\anaconda3\\lib\\site-packages\\seaborn\\distributions.py:2557: FutureWarning: `distplot` is a deprecated function and will be removed in a future version. Please adapt your code to use either `displot` (a figure-level function with similar flexibility) or `histplot` (an axes-level function for histograms).\n",
      "  warnings.warn(msg, FutureWarning)\n"
     ]
    },
    {
     "data": {
      "text/plain": [
       "<AxesSubplot:xlabel='Health (Life Expectancy)', ylabel='Density'>"
      ]
     },
     "execution_count": 62,
     "metadata": {},
     "output_type": "execute_result"
    },
    {
     "data": {
      "image/png": "[encoded data removed]",
      "text/plain": [
       "<Figure size 432x288 with 1 Axes>"
      ]
     },
     "metadata": {
      "needs_background": "light"
     },
     "output_type": "display_data"
    }
   ],
   "source": [
    "sns.distplot(Data[\"Health (Life Expectancy)\"])"
   ]
  },
  {
   "cell_type": "code",
   "execution_count": 32,
   "id": "b1cd5eac",
   "metadata": {},
   "outputs": [
    {
     "name": "stderr",
     "output_type": "stream",
     "text": [
      "C:\\Users\\Pradeep\\anaconda3\\lib\\site-packages\\seaborn\\distributions.py:2557: FutureWarning: `distplot` is a deprecated function and will be removed in a future version. Please adapt your code to use either `displot` (a figure-level function with similar flexibility) or `histplot` (an axes-level function for histograms).\n",
      "  warnings.warn(msg, FutureWarning)\n"
     ]
    },
    {
     "data": {
      "text/plain": [
       "<AxesSubplot:xlabel='Freedom', ylabel='Density'>"
      ]
     },
     "execution_count": 32,
     "metadata": {},
     "output_type": "execute_result"
    },
    {
     "data": {
      "image/png": "[encoded data removed]",
      "text/plain": [
       "<Figure size 432x288 with 1 Axes>"
      ]
     },
     "metadata": {
      "needs_background": "light"
     },
     "output_type": "display_data"
    }
   ],
   "source": [
    "sns.distplot(Data[\"Freedom\"])"
   ]
  },
  {
   "cell_type": "code",
   "execution_count": 33,
   "id": "54854c45",
   "metadata": {},
   "outputs": [
    {
     "name": "stderr",
     "output_type": "stream",
     "text": [
      "C:\\Users\\Pradeep\\anaconda3\\lib\\site-packages\\seaborn\\distributions.py:2557: FutureWarning: `distplot` is a deprecated function and will be removed in a future version. Please adapt your code to use either `displot` (a figure-level function with similar flexibility) or `histplot` (an axes-level function for histograms).\n",
      "  warnings.warn(msg, FutureWarning)\n"
     ]
    },
    {
     "data": {
      "text/plain": [
       "<AxesSubplot:xlabel='Trust (Government Corruption)', ylabel='Density'>"
      ]
     },
     "execution_count": 33,
     "metadata": {},
     "output_type": "execute_result"
    },
    {
     "data": {
      "image/png": "[encoded data removed]",
      "text/plain": [
       "<Figure size 432x288 with 1 Axes>"
      ]
     },
     "metadata": {
      "needs_background": "light"
     },
     "output_type": "display_data"
    }
   ],
   "source": [
    "sns.distplot(Data[\"Trust (Government Corruption)\"])"
   ]
  },
  {
   "cell_type": "code",
   "execution_count": 34,
   "id": "5074f2be",
   "metadata": {},
   "outputs": [
    {
     "name": "stderr",
     "output_type": "stream",
     "text": [
      "C:\\Users\\Pradeep\\anaconda3\\lib\\site-packages\\seaborn\\distributions.py:2557: FutureWarning: `distplot` is a deprecated function and will be removed in a future version. Please adapt your code to use either `displot` (a figure-level function with similar flexibility) or `histplot` (an axes-level function for histograms).\n",
      "  warnings.warn(msg, FutureWarning)\n"
     ]
    },
    {
     "data": {
      "text/plain": [
       "<AxesSubplot:xlabel='Generosity', ylabel='Density'>"
      ]
     },
     "execution_count": 34,
     "metadata": {},
     "output_type": "execute_result"
    },
    {
     "data": {
      "image/png": "[encoded data removed]",
      "text/plain": [
       "<Figure size 432x288 with 1 Axes>"
      ]
     },
     "metadata": {
      "needs_background": "light"
     },
     "output_type": "display_data"
    }
   ],
   "source": [
    "sns.distplot(Data[\"Generosity\"])"
   ]
  },
  {
   "cell_type": "code",
   "execution_count": 35,
   "id": "1361d439",
   "metadata": {},
   "outputs": [
    {
     "name": "stderr",
     "output_type": "stream",
     "text": [
      "C:\\Users\\Pradeep\\anaconda3\\lib\\site-packages\\seaborn\\distributions.py:2557: FutureWarning: `distplot` is a deprecated function and will be removed in a future version. Please adapt your code to use either `displot` (a figure-level function with similar flexibility) or `histplot` (an axes-level function for histograms).\n",
      "  warnings.warn(msg, FutureWarning)\n"
     ]
    },
    {
     "data": {
      "text/plain": [
       "<AxesSubplot:xlabel='Dystopia Residual', ylabel='Density'>"
      ]
     },
     "execution_count": 35,
     "metadata": {},
     "output_type": "execute_result"
    },
    {
     "data": {
      "image/png": "[encoded data removed]",
      "text/plain": [
       "<Figure size 432x288 with 1 Axes>"
      ]
     },
     "metadata": {
      "needs_background": "light"
     },
     "output_type": "display_data"
    }
   ],
   "source": [
    "sns.distplot(Data[\"Dystopia Residual\"])"
   ]
  },
  {
   "cell_type": "code",
   "execution_count": 47,
   "id": "1af02817",
   "metadata": {},
   "outputs": [
    {
     "data": {
      "text/plain": [
       "array([135,  58,  37, 105,  24,  45,  99, 134, 100,   6,  64,  33,   7,\n",
       "        91, 150,  18,  82,  63,  12, 148, 149, 106, 153, 123, 109,  49,\n",
       "        27, 115,  46,   4,  36, 151,  29, 140, 119, 129,  88, 137,  73,\n",
       "       132, 142,  42,  52, 152, 124,  68, 128,  40,   9,  65,  15,  92,\n",
       "       110,  70, 125,  81, 101, 111,  11, 113,  86,  34,  80, 117,  67,\n",
       "       104,  35,   2,  72, 145,  90,  56,  43,  60, 154, 144,  74, 103,\n",
       "        14,   8, 107,  69,  94,  28, 156, 116, 121, 114,  76, 112, 126,\n",
       "        95,  83,  96,   1,  16,  78,  39,  75,  93, 133,  51,  77,  57,\n",
       "        55, 138, 143, 108,  10,  61, 147,  62, 127,  50, 157,  79,  59,\n",
       "       131,  54,  32,  98,  44, 122,  89,  71,  38,   5,  17,  97,  48,\n",
       "        85, 130,  23,  19,  41, 155,   3,  87,  31,  30, 146, 120,  47,\n",
       "       102,  22, 139,  84,  25,  26,  53,  66,  20,   0, 118,  13, 136,\n",
       "        21, 141])"
      ]
     },
     "execution_count": 47,
     "metadata": {},
     "output_type": "execute_result"
    }
   ],
   "source": [
    "from sklearn.preprocessing import LabelEncoder\n",
    "\n",
    "CC=LabelEncoder()\n",
    "Data[\"Country\"]=CC.fit_transform(Data[\"Country\"])\n",
    "Data[\"Country\"].unique()"
   ]
  },
  {
   "cell_type": "code",
   "execution_count": null,
   "id": "122bb0fc",
   "metadata": {},
   "outputs": [],
   "source": [
    "#Converted country to Numeric from   String using LE"
   ]
  },
  {
   "cell_type": "code",
   "execution_count": 48,
   "id": "5568d0f9",
   "metadata": {},
   "outputs": [
    {
     "data": {
      "text/plain": [
       "array([9, 5, 0, 4, 3, 6, 1, 2, 8, 7])"
      ]
     },
     "execution_count": 48,
     "metadata": {},
     "output_type": "execute_result"
    }
   ],
   "source": [
    "Data[\"Region\"]=CC.fit_transform(Data[\"Region\"])\n",
    "Data[\"Region\"].unique()"
   ]
  },
  {
   "cell_type": "code",
   "execution_count": null,
   "id": "313364f3",
   "metadata": {},
   "outputs": [],
   "source": [
    "# Converted Region to Numeric  using LE"
   ]
  },
  {
   "cell_type": "code",
   "execution_count": 210,
   "id": "9650f238",
   "metadata": {},
   "outputs": [],
   "source": [
    "from scipy.stats import zscore\n",
    "ZS=zscore(Data)\n",
    "New_Data=Data[(ZS<0.4).all(axis=1)]"
   ]
  },
  {
   "cell_type": "code",
   "execution_count": 211,
   "id": "067f3907",
   "metadata": {},
   "outputs": [
    {
     "data": {
      "text/plain": [
       "(2, 12)"
      ]
     },
     "execution_count": 211,
     "metadata": {},
     "output_type": "execute_result"
    }
   ],
   "source": [
    "New_Data.shape"
   ]
  },
  {
   "cell_type": "code",
   "execution_count": 51,
   "id": "64a3122f",
   "metadata": {},
   "outputs": [
    {
     "name": "stderr",
     "output_type": "stream",
     "text": [
      "C:\\Users\\Pradeep\\anaconda3\\lib\\site-packages\\seaborn\\distributions.py:2557: FutureWarning: `distplot` is a deprecated function and will be removed in a future version. Please adapt your code to use either `displot` (a figure-level function with similar flexibility) or `histplot` (an axes-level function for histograms).\n",
      "  warnings.warn(msg, FutureWarning)\n"
     ]
    },
    {
     "data": {
      "text/plain": [
       "<AxesSubplot:xlabel='Trust (Government Corruption)', ylabel='Density'>"
      ]
     },
     "execution_count": 51,
     "metadata": {},
     "output_type": "execute_result"
    },
    {
     "data": {
      "image/png": "[encoded data removed]",
      "text/plain": [
       "<Figure size 432x288 with 1 Axes>"
      ]
     },
     "metadata": {
      "needs_background": "light"
     },
     "output_type": "display_data"
    }
   ],
   "source": [
    "sns.distplot(Data[\"Trust (Government Corruption)\"])"
   ]
  },
  {
   "cell_type": "code",
   "execution_count": 70,
   "id": "dd1e36ba",
   "metadata": {},
   "outputs": [
    {
     "data": {
      "image/png": "[encoded data removed]",
      "text/plain": [
       "<Figure size 720x576 with 2 Axes>"
      ]
     },
     "metadata": {
      "needs_background": "light"
     },
     "output_type": "display_data"
    }
   ],
   "source": [
    "plt.figure(figsize=(10,8))\n",
    "sns.heatmap(Data.corr(), cmap='coolwarm', annot=True);"
   ]
  },
  {
   "cell_type": "raw",
   "id": "e90188b0",
   "metadata": {},
   "source": [
    "#GDP, Family Health has high correlation with Happiness Score. Also GDP and Health are strongly correlated. so we have to drop one column from those two. we can drop health as it has less correlation to Happiness score when compared to GDP"
   ]
  },
  {
   "cell_type": "code",
   "execution_count": 75,
   "id": "63228477",
   "metadata": {
    "scrolled": true
   },
   "outputs": [],
   "source": [
    "DataNew=Data.drop(\"Health (Life Expectancy)\",axis=1)"
   ]
  },
  {
   "cell_type": "code",
   "execution_count": 125,
   "id": "6eb97dcc",
   "metadata": {},
   "outputs": [
    {
     "data": {
      "text/plain": [
       "(158, 12)"
      ]
     },
     "execution_count": 125,
     "metadata": {},
     "output_type": "execute_result"
    }
   ],
   "source": [
    "Data.shape"
   ]
  },
  {
   "cell_type": "code",
   "execution_count": 78,
   "id": "077ad6d6",
   "metadata": {},
   "outputs": [
    {
     "data": {
      "text/plain": [
       "Country                          0.000000\n",
       "Region                          -0.116119\n",
       "Happiness Rank                   0.000418\n",
       "Happiness Score                  0.097769\n",
       "Standard Error                   1.983439\n",
       "Economy (GDP per Capita)        -0.317575\n",
       "Family                          -1.006893\n",
       "Freedom                         -0.413462\n",
       "Trust (Government Corruption)    1.385463\n",
       "Generosity                       1.001961\n",
       "Dystopia Residual               -0.238911\n",
       "dtype: float64"
      ]
     },
     "execution_count": 78,
     "metadata": {},
     "output_type": "execute_result"
    }
   ],
   "source": [
    "DataNew.skew()"
   ]
  },
  {
   "cell_type": "code",
   "execution_count": 83,
   "id": "14bd788f",
   "metadata": {},
   "outputs": [],
   "source": [
    "from scipy.stats import zscore\n",
    "zs=zscore(DataNew)\n",
    "Data1=DataNew[(zs<0.4).all(axis=1)]"
   ]
  },
  {
   "cell_type": "code",
   "execution_count": 89,
   "id": "fdadd3d3",
   "metadata": {},
   "outputs": [
    {
     "data": {
      "text/plain": [
       "(4, 11)"
      ]
     },
     "execution_count": 89,
     "metadata": {},
     "output_type": "execute_result"
    }
   ],
   "source": [
    "Data1.shape"
   ]
  },
  {
   "cell_type": "raw",
   "id": "dd094326",
   "metadata": {},
   "source": [
    "Data loss is more than 90%((158-4)/158)*100 so we will not remove any outliers"
   ]
  },
  {
   "cell_type": "code",
   "execution_count": 219,
   "id": "b721f9ab",
   "metadata": {},
   "outputs": [],
   "source": []
  },
  {
   "cell_type": "code",
   "execution_count": null,
   "id": "0c1edddd",
   "metadata": {},
   "outputs": [],
   "source": []
  },
  {
   "cell_type": "raw",
   "id": "0294ab5b",
   "metadata": {},
   "source": []
  },
  {
   "cell_type": "code",
   "execution_count": 222,
   "id": "8d9d4ad5",
   "metadata": {},
   "outputs": [
    {
     "data": {
      "text/plain": [
       "Country                          0.000000\n",
       "Region                          -0.116119\n",
       "Happiness Rank                   0.000418\n",
       "Happiness Score                  0.097769\n",
       "Standard Error                   0.484623\n",
       "Economy (GDP per Capita)        -0.317575\n",
       "Family                           0.170804\n",
       "Freedom                         -0.413462\n",
       "Trust (Government Corruption)    0.507663\n",
       "Generosity                      -0.130961\n",
       "Dystopia Residual               -0.238911\n",
       "dtype: float64"
      ]
     },
     "execution_count": 222,
     "metadata": {},
     "output_type": "execute_result"
    }
   ],
   "source": [
    "DataNew.skew()"
   ]
  },
  {
   "cell_type": "raw",
   "id": "d8d754f4",
   "metadata": {},
   "source": [
    "#Country is categorical column so no need to check skewness\n",
    "#Region is categorical column so no need to check Skewness\n",
    "#Need to treat Skewness for Standard Error, Generosity,Family, Trust"
   ]
  },
  {
   "cell_type": "code",
   "execution_count": 212,
   "id": "8b48411a",
   "metadata": {},
   "outputs": [
    {
     "data": {
      "text/plain": [
       "(158, 11)"
      ]
     },
     "execution_count": 212,
     "metadata": {},
     "output_type": "execute_result"
    }
   ],
   "source": [
    "DataNew.shape"
   ]
  },
  {
   "cell_type": "markdown",
   "id": "32374d9d",
   "metadata": {},
   "source": [
    "# Resolving Skewness"
   ]
  },
  {
   "cell_type": "code",
   "execution_count": 127,
   "id": "f9dfdd7d",
   "metadata": {},
   "outputs": [],
   "source": [
    "DataNew[\"Standard Error\"]=np.log(DataNew[\"Standard Error\"])\n",
    "\n"
   ]
  },
  {
   "cell_type": "code",
   "execution_count": 141,
   "id": "211104f5",
   "metadata": {},
   "outputs": [],
   "source": [
    "DataNew[\"Generosity\"]=np.sqrt(Data[\"Generosity\"])"
   ]
  },
  {
   "cell_type": "code",
   "execution_count": 143,
   "id": "ccc89be0",
   "metadata": {},
   "outputs": [],
   "source": [
    "DataNew[\"Trust (Government Corruption)\"]=np.sqrt(DataNew[\"Trust (Government Corruption)\"])"
   ]
  },
  {
   "cell_type": "code",
   "execution_count": 185,
   "id": "d33a8df8",
   "metadata": {},
   "outputs": [],
   "source": [
    "DataNew[\"Family\"]=np.power(DataNew[\"Family\"],3)"
   ]
  },
  {
   "cell_type": "markdown",
   "id": "b4d88822",
   "metadata": {},
   "source": [
    "# Seperating Feature and Target"
   ]
  },
  {
   "cell_type": "code",
   "execution_count": 187,
   "id": "83510939",
   "metadata": {},
   "outputs": [],
   "source": [
    "features=DataNew.drop(\"Happiness Score\",axis=1)\n",
    "target=DataNew[\"Happiness Score\"]"
   ]
  },
  {
   "cell_type": "markdown",
   "id": "f14f2b4a",
   "metadata": {},
   "source": [
    "# Scaling- Min Max scalar"
   ]
  },
  {
   "cell_type": "code",
   "execution_count": 188,
   "id": "e2a0edac",
   "metadata": {},
   "outputs": [],
   "source": [
    "from sklearn.preprocessing import MinMaxScaler\n",
    "MM=MinMaxScaler()\n",
    "from sklearn.linear_model import LinearRegression\n",
    "LR=LinearRegression()\n",
    "from sklearn.metrics import r2_score\n",
    "from sklearn.model_selection import train_test_split"
   ]
  },
  {
   "cell_type": "code",
   "execution_count": 189,
   "id": "e02f58e4",
   "metadata": {},
   "outputs": [
    {
     "name": "stdout",
     "output_type": "stream",
     "text": [
      "At random state 0,the training accuracy is:- 0.9918645410481848\n",
      "At random state 0,the testing accuracy is:- 0.9868298598196789\n",
      "\n",
      "\n",
      "At random state 1,the training accuracy is:- 0.9919119069816785\n",
      "At random state 1,the testing accuracy is:- 0.9891399842846158\n",
      "\n",
      "\n",
      "At random state 2,the training accuracy is:- 0.9909891214554611\n",
      "At random state 2,the testing accuracy is:- 0.9925050068259597\n",
      "\n",
      "\n",
      "At random state 3,the training accuracy is:- 0.9914587444774147\n",
      "At random state 3,the testing accuracy is:- 0.9909458389927518\n",
      "\n",
      "\n",
      "At random state 4,the training accuracy is:- 0.9899847900247952\n",
      "At random state 4,the testing accuracy is:- 0.9947028908741788\n",
      "\n",
      "\n",
      "At random state 5,the training accuracy is:- 0.9916152110925793\n",
      "At random state 5,the testing accuracy is:- 0.9890939777399297\n",
      "\n",
      "\n",
      "At random state 6,the training accuracy is:- 0.9914222828584053\n",
      "At random state 6,the testing accuracy is:- 0.9903327394991204\n",
      "\n",
      "\n",
      "At random state 7,the training accuracy is:- 0.9926505124807367\n",
      "At random state 7,the testing accuracy is:- 0.9850123326104121\n",
      "\n",
      "\n",
      "At random state 8,the training accuracy is:- 0.9915407138245443\n",
      "At random state 8,the testing accuracy is:- 0.990893318787325\n",
      "\n",
      "\n",
      "At random state 9,the training accuracy is:- 0.9914310603681328\n",
      "At random state 9,the testing accuracy is:- 0.9908960046402066\n",
      "\n",
      "\n",
      "At random state 10,the training accuracy is:- 0.9913917849559662\n",
      "At random state 10,the testing accuracy is:- 0.9906913092899192\n",
      "\n",
      "\n",
      "At random state 11,the training accuracy is:- 0.9909301640897169\n",
      "At random state 11,the testing accuracy is:- 0.9930506361143068\n",
      "\n",
      "\n",
      "At random state 12,the training accuracy is:- 0.9904486230209284\n",
      "At random state 12,the testing accuracy is:- 0.9950301185042132\n",
      "\n",
      "\n",
      "At random state 13,the training accuracy is:- 0.9923544022652215\n",
      "At random state 13,the testing accuracy is:- 0.98690822658597\n",
      "\n",
      "\n",
      "At random state 14,the training accuracy is:- 0.9920047077738298\n",
      "At random state 14,the testing accuracy is:- 0.9886938244745709\n",
      "\n",
      "\n",
      "At random state 15,the training accuracy is:- 0.9929688960545325\n",
      "At random state 15,the testing accuracy is:- 0.9839243788673475\n",
      "\n",
      "\n",
      "At random state 16,the training accuracy is:- 0.991521285268478\n",
      "At random state 16,the testing accuracy is:- 0.9899070990731169\n",
      "\n",
      "\n",
      "At random state 17,the training accuracy is:- 0.9921579248061602\n",
      "At random state 17,the testing accuracy is:- 0.9871413488256985\n",
      "\n",
      "\n",
      "At random state 18,the training accuracy is:- 0.9924332025184374\n",
      "At random state 18,the testing accuracy is:- 0.9874737413438515\n",
      "\n",
      "\n",
      "At random state 19,the training accuracy is:- 0.9906596414161372\n",
      "At random state 19,the testing accuracy is:- 0.9935631777513676\n",
      "\n",
      "\n",
      "At random state 20,the training accuracy is:- 0.9921571745263792\n",
      "At random state 20,the testing accuracy is:- 0.9868726490659806\n",
      "\n",
      "\n",
      "At random state 21,the training accuracy is:- 0.9919652951746135\n",
      "At random state 21,the testing accuracy is:- 0.989008694293307\n",
      "\n",
      "\n",
      "At random state 22,the training accuracy is:- 0.9919969805151273\n",
      "At random state 22,the testing accuracy is:- 0.9884871504902671\n",
      "\n",
      "\n",
      "At random state 23,the training accuracy is:- 0.9916144858282949\n",
      "At random state 23,the testing accuracy is:- 0.99001396514819\n",
      "\n",
      "\n",
      "At random state 24,the training accuracy is:- 0.9927881686466029\n",
      "At random state 24,the testing accuracy is:- 0.9853564345092999\n",
      "\n",
      "\n",
      "At random state 25,the training accuracy is:- 0.9923935450681614\n",
      "At random state 25,the testing accuracy is:- 0.9828784840320386\n",
      "\n",
      "\n",
      "At random state 26,the training accuracy is:- 0.991088241205363\n",
      "At random state 26,the testing accuracy is:- 0.9912620002843959\n",
      "\n",
      "\n",
      "At random state 27,the training accuracy is:- 0.992516748919168\n",
      "At random state 27,the testing accuracy is:- 0.9846170014978445\n",
      "\n",
      "\n",
      "At random state 28,the training accuracy is:- 0.9916454662481424\n",
      "At random state 28,the testing accuracy is:- 0.9896169802453398\n",
      "\n",
      "\n",
      "At random state 29,the training accuracy is:- 0.9926902883130435\n",
      "At random state 29,the testing accuracy is:- 0.9850161849023973\n",
      "\n",
      "\n",
      "At random state 30,the training accuracy is:- 0.9909370130118061\n",
      "At random state 30,the testing accuracy is:- 0.9930880549015166\n",
      "\n",
      "\n",
      "At random state 31,the training accuracy is:- 0.9921927986851786\n",
      "At random state 31,the testing accuracy is:- 0.9855571806035237\n",
      "\n",
      "\n",
      "At random state 32,the training accuracy is:- 0.9904486559467792\n",
      "At random state 32,the testing accuracy is:- 0.9941507940258169\n",
      "\n",
      "\n",
      "At random state 33,the training accuracy is:- 0.9918979989390825\n",
      "At random state 33,the testing accuracy is:- 0.9883869617501918\n",
      "\n",
      "\n",
      "At random state 34,the training accuracy is:- 0.99116524820946\n",
      "At random state 34,the testing accuracy is:- 0.990688781211748\n",
      "\n",
      "\n",
      "At random state 35,the training accuracy is:- 0.9911883743429284\n",
      "At random state 35,the testing accuracy is:- 0.9914471073829794\n",
      "\n",
      "\n",
      "At random state 36,the training accuracy is:- 0.9919806492687391\n",
      "At random state 36,the testing accuracy is:- 0.9871147250320168\n",
      "\n",
      "\n",
      "At random state 37,the training accuracy is:- 0.9915241826737621\n",
      "At random state 37,the testing accuracy is:- 0.9900604900429836\n",
      "\n",
      "\n",
      "At random state 38,the training accuracy is:- 0.9921024294822195\n",
      "At random state 38,the testing accuracy is:- 0.9857817655908261\n",
      "\n",
      "\n",
      "At random state 39,the training accuracy is:- 0.9926544197510727\n",
      "At random state 39,the testing accuracy is:- 0.9863973821573798\n",
      "\n",
      "\n",
      "At random state 40,the training accuracy is:- 0.9911380240466038\n",
      "At random state 40,the testing accuracy is:- 0.9924700022427952\n",
      "\n",
      "\n",
      "At random state 41,the training accuracy is:- 0.9911290482074459\n",
      "At random state 41,the testing accuracy is:- 0.9920775376956833\n",
      "\n",
      "\n",
      "At random state 42,the training accuracy is:- 0.9909277209378122\n",
      "At random state 42,the testing accuracy is:- 0.9928375893406614\n",
      "\n",
      "\n",
      "At random state 43,the training accuracy is:- 0.9906407779434967\n",
      "At random state 43,the testing accuracy is:- 0.9935913528996214\n",
      "\n",
      "\n",
      "At random state 44,the training accuracy is:- 0.9923968062068595\n",
      "At random state 44,the testing accuracy is:- 0.9869892338260193\n",
      "\n",
      "\n",
      "At random state 45,the training accuracy is:- 0.9916754025604588\n",
      "At random state 45,the testing accuracy is:- 0.9899109580998228\n",
      "\n",
      "\n",
      "At random state 46,the training accuracy is:- 0.9921967741829267\n",
      "At random state 46,the testing accuracy is:- 0.9874740204122436\n",
      "\n",
      "\n",
      "At random state 47,the training accuracy is:- 0.9909457083503556\n",
      "At random state 47,the testing accuracy is:- 0.992210211124476\n",
      "\n",
      "\n",
      "At random state 48,the training accuracy is:- 0.9917906596078375\n",
      "At random state 48,the testing accuracy is:- 0.9888296170891087\n",
      "\n",
      "\n",
      "At random state 49,the training accuracy is:- 0.9916097812915815\n",
      "At random state 49,the testing accuracy is:- 0.9893169457449675\n",
      "\n",
      "\n",
      "At random state 50,the training accuracy is:- 0.9910879680492489\n",
      "At random state 50,the testing accuracy is:- 0.992193992604744\n",
      "\n",
      "\n",
      "At random state 51,the training accuracy is:- 0.9916055325352147\n",
      "At random state 51,the testing accuracy is:- 0.990211563918916\n",
      "\n",
      "\n",
      "At random state 52,the training accuracy is:- 0.9914849910020263\n",
      "At random state 52,the testing accuracy is:- 0.9897685333496675\n",
      "\n",
      "\n",
      "At random state 53,the training accuracy is:- 0.9917880807390935\n",
      "At random state 53,the testing accuracy is:- 0.9877687677997774\n",
      "\n",
      "\n",
      "At random state 54,the training accuracy is:- 0.9929607740458768\n",
      "At random state 54,the testing accuracy is:- 0.9859401113041707\n",
      "\n",
      "\n",
      "At random state 55,the training accuracy is:- 0.9915014847119645\n",
      "At random state 55,the testing accuracy is:- 0.9904581057856763\n",
      "\n",
      "\n",
      "At random state 56,the training accuracy is:- 0.9916646143443026\n",
      "At random state 56,the testing accuracy is:- 0.9889232297342939\n",
      "\n",
      "\n",
      "At random state 57,the training accuracy is:- 0.9916194996996366\n",
      "At random state 57,the testing accuracy is:- 0.989538018325534\n",
      "\n",
      "\n",
      "At random state 58,the training accuracy is:- 0.992350966210169\n",
      "At random state 58,the testing accuracy is:- 0.984508357728724\n",
      "\n",
      "\n",
      "At random state 59,the training accuracy is:- 0.9928186824931191\n",
      "At random state 59,the testing accuracy is:- 0.9835895244044567\n",
      "\n",
      "\n",
      "At random state 60,the training accuracy is:- 0.9922279421580306\n",
      "At random state 60,the testing accuracy is:- 0.9882481745002024\n",
      "\n",
      "\n",
      "At random state 61,the training accuracy is:- 0.9920408181059346\n",
      "At random state 61,the testing accuracy is:- 0.9884190246213994\n",
      "\n",
      "\n",
      "At random state 62,the training accuracy is:- 0.9921229565688936\n",
      "At random state 62,the testing accuracy is:- 0.9847733923319086\n",
      "\n",
      "\n",
      "At random state 63,the training accuracy is:- 0.991191897149655\n",
      "At random state 63,the testing accuracy is:- 0.9915791245598901\n",
      "\n",
      "\n",
      "At random state 64,the training accuracy is:- 0.9925112154083746\n",
      "At random state 64,the testing accuracy is:- 0.9874800224012205\n",
      "\n",
      "\n",
      "At random state 65,the training accuracy is:- 0.991567811817377\n",
      "At random state 65,the testing accuracy is:- 0.9898209010685551\n",
      "\n",
      "\n",
      "At random state 66,the training accuracy is:- 0.9923035684407059\n",
      "At random state 66,the testing accuracy is:- 0.9823594865207523\n",
      "\n",
      "\n",
      "At random state 67,the training accuracy is:- 0.9929321537959236\n",
      "At random state 67,the testing accuracy is:- 0.984834999572419\n",
      "\n",
      "\n",
      "At random state 68,the training accuracy is:- 0.9913015864510496\n",
      "At random state 68,the testing accuracy is:- 0.9916103339816992\n",
      "\n",
      "\n"
     ]
    },
    {
     "name": "stdout",
     "output_type": "stream",
     "text": [
      "At random state 69,the training accuracy is:- 0.9930058145956004\n",
      "At random state 69,the testing accuracy is:- 0.9841407140518176\n",
      "\n",
      "\n",
      "At random state 70,the training accuracy is:- 0.9912035395015513\n",
      "At random state 70,the testing accuracy is:- 0.9920426817787948\n",
      "\n",
      "\n",
      "At random state 71,the training accuracy is:- 0.9924273102092921\n",
      "At random state 71,the testing accuracy is:- 0.9844731759852663\n",
      "\n",
      "\n",
      "At random state 72,the training accuracy is:- 0.991461275274132\n",
      "At random state 72,the testing accuracy is:- 0.990541478773837\n",
      "\n",
      "\n",
      "At random state 73,the training accuracy is:- 0.9927665739439326\n",
      "At random state 73,the testing accuracy is:- 0.9857091561812382\n",
      "\n",
      "\n",
      "At random state 74,the training accuracy is:- 0.9926242670407711\n",
      "At random state 74,the testing accuracy is:- 0.9867266159153657\n",
      "\n",
      "\n",
      "At random state 75,the training accuracy is:- 0.9913364819799314\n",
      "At random state 75,the testing accuracy is:- 0.9913670940917509\n",
      "\n",
      "\n",
      "At random state 76,the training accuracy is:- 0.9914092921650706\n",
      "At random state 76,the testing accuracy is:- 0.9907168827791917\n",
      "\n",
      "\n",
      "At random state 77,the training accuracy is:- 0.991975937551975\n",
      "At random state 77,the testing accuracy is:- 0.9885622836925047\n",
      "\n",
      "\n",
      "At random state 78,the training accuracy is:- 0.9915376245441547\n",
      "At random state 78,the testing accuracy is:- 0.9895676234747357\n",
      "\n",
      "\n",
      "At random state 79,the training accuracy is:- 0.993985494404933\n",
      "At random state 79,the testing accuracy is:- 0.9780679679130649\n",
      "\n",
      "\n",
      "At random state 80,the training accuracy is:- 0.9908710263765571\n",
      "At random state 80,the testing accuracy is:- 0.9929518175068874\n",
      "\n",
      "\n",
      "At random state 81,the training accuracy is:- 0.9920297450538789\n",
      "At random state 81,the testing accuracy is:- 0.9888866391449007\n",
      "\n",
      "\n",
      "At random state 82,the training accuracy is:- 0.9911208896166382\n",
      "At random state 82,the testing accuracy is:- 0.9924666259265876\n",
      "\n",
      "\n",
      "At random state 83,the training accuracy is:- 0.9928672535730452\n",
      "At random state 83,the testing accuracy is:- 0.9852305768556368\n",
      "\n",
      "\n",
      "At random state 84,the training accuracy is:- 0.9913054465916692\n",
      "At random state 84,the testing accuracy is:- 0.9917683814552293\n",
      "\n",
      "\n",
      "At random state 85,the training accuracy is:- 0.9923320016356336\n",
      "At random state 85,the testing accuracy is:- 0.9837494803508069\n",
      "\n",
      "\n",
      "At random state 86,the training accuracy is:- 0.9934672633227142\n",
      "At random state 86,the testing accuracy is:- 0.9813311353293932\n",
      "\n",
      "\n",
      "At random state 87,the training accuracy is:- 0.9902219774616424\n",
      "At random state 87,the testing accuracy is:- 0.9955641702865644\n",
      "\n",
      "\n",
      "At random state 88,the training accuracy is:- 0.9912732535798487\n",
      "At random state 88,the testing accuracy is:- 0.9915444518990839\n",
      "\n",
      "\n",
      "At random state 89,the training accuracy is:- 0.9909710471730013\n",
      "At random state 89,the testing accuracy is:- 0.9923966910184823\n",
      "\n",
      "\n",
      "At random state 90,the training accuracy is:- 0.9923393533010965\n",
      "At random state 90,the testing accuracy is:- 0.9868920027388742\n",
      "\n",
      "\n",
      "At random state 91,the training accuracy is:- 0.9908601357689543\n",
      "At random state 91,the testing accuracy is:- 0.9932607845761346\n",
      "\n",
      "\n",
      "At random state 92,the training accuracy is:- 0.9923729123002727\n",
      "At random state 92,the testing accuracy is:- 0.986535306898427\n",
      "\n",
      "\n",
      "At random state 93,the training accuracy is:- 0.9910084317699323\n",
      "At random state 93,the testing accuracy is:- 0.9930073315076341\n",
      "\n",
      "\n",
      "At random state 94,the training accuracy is:- 0.9925432605385154\n",
      "At random state 94,the testing accuracy is:- 0.984916923572884\n",
      "\n",
      "\n",
      "At random state 95,the training accuracy is:- 0.9921552382171704\n",
      "At random state 95,the testing accuracy is:- 0.9864958840639356\n",
      "\n",
      "\n",
      "At random state 96,the training accuracy is:- 0.9913477528694664\n",
      "At random state 96,the testing accuracy is:- 0.9912354570239742\n",
      "\n",
      "\n",
      "At random state 97,the training accuracy is:- 0.9909600280517415\n",
      "At random state 97,the testing accuracy is:- 0.9931687577976306\n",
      "\n",
      "\n",
      "At random state 98,the training accuracy is:- 0.9921203086352044\n",
      "At random state 98,the testing accuracy is:- 0.9858611537105977\n",
      "\n",
      "\n",
      "At random state 99,the training accuracy is:- 0.9905904795376934\n",
      "At random state 99,the testing accuracy is:- 0.9936332268243763\n",
      "\n",
      "\n"
     ]
    }
   ],
   "source": [
    "for i in range(0,100):\n",
    "    features_train,features_test,target_train,target_test=train_test_split(features,target,test_size=0.2,random_state=i)\n",
    "    LR.fit(features_train,target_train)\n",
    "    pred_train=LR.predict(features_train)\n",
    "    pred_test=LR.predict(features_test)\n",
    "    print(f\"At random state {i},the training accuracy is:- {r2_score(target_train,pred_train)}\")\n",
    "    print(f\"At random state {i},the testing accuracy is:- {r2_score(target_test,pred_test)}\")\n",
    "    print(\"\\n\")"
   ]
  },
  {
   "cell_type": "code",
   "execution_count": 190,
   "id": "58fcbc20",
   "metadata": {},
   "outputs": [],
   "source": [
    "features_train,features_test,target_train,target_test=train_test_split(features,target,test_size=0.2,random_state=75)"
   ]
  },
  {
   "cell_type": "code",
   "execution_count": 191,
   "id": "45fc01d5",
   "metadata": {},
   "outputs": [
    {
     "data": {
      "text/plain": [
       "LinearRegression()"
      ]
     },
     "execution_count": 191,
     "metadata": {},
     "output_type": "execute_result"
    }
   ],
   "source": [
    "LR.fit(features_train,target_train)\n"
   ]
  },
  {
   "cell_type": "code",
   "execution_count": 192,
   "id": "c77ac463",
   "metadata": {},
   "outputs": [],
   "source": [
    "pred_test=LR.predict(features_test)"
   ]
  },
  {
   "cell_type": "code",
   "execution_count": 193,
   "id": "758dcfdd",
   "metadata": {},
   "outputs": [
    {
     "name": "stdout",
     "output_type": "stream",
     "text": [
      "0.9913670940917509\n"
     ]
    }
   ],
   "source": [
    "print(r2_score(target_test,pred_test))"
   ]
  },
  {
   "cell_type": "code",
   "execution_count": 214,
   "id": "56e59b19",
   "metadata": {},
   "outputs": [
    {
     "name": "stdout",
     "output_type": "stream",
     "text": [
      "At cross fold 2 the cv score is 0.9171278275309327 and accuracy score for training is -1.2816704706753068 and accuracy for the testing is 0.9913670940917509\n",
      "\n",
      "\n",
      "At cross fold 3 the cv score is 0.9195067851856805 and accuracy score for training is -1.2816704706753068 and accuracy for the testing is 0.9913670940917509\n",
      "\n",
      "\n",
      "At cross fold 4 the cv score is 0.779680066597843 and accuracy score for training is -1.2816704706753068 and accuracy for the testing is 0.9913670940917509\n",
      "\n",
      "\n",
      "At cross fold 5 the cv score is 0.646388920320452 and accuracy score for training is -1.2816704706753068 and accuracy for the testing is 0.9913670940917509\n",
      "\n",
      "\n",
      "At cross fold 6 the cv score is 0.5045671141456256 and accuracy score for training is -1.2816704706753068 and accuracy for the testing is 0.9913670940917509\n",
      "\n",
      "\n",
      "At cross fold 7 the cv score is 0.36426028764554325 and accuracy score for training is -1.2816704706753068 and accuracy for the testing is 0.9913670940917509\n",
      "\n",
      "\n",
      "At cross fold 8 the cv score is 0.28210691744530964 and accuracy score for training is -1.2816704706753068 and accuracy for the testing is 0.9913670940917509\n",
      "\n",
      "\n",
      "At cross fold 9 the cv score is 0.06095028312850485 and accuracy score for training is -1.2816704706753068 and accuracy for the testing is 0.9913670940917509\n",
      "\n",
      "\n"
     ]
    }
   ],
   "source": [
    "Accuracy_Train=r2_score(target_train,pred_train)\n",
    "Accuracy_Test=r2_score(target_test,pred_test)\n",
    "\n",
    "from sklearn.model_selection import cross_val_score\n",
    "for j in range(2,10):\n",
    "    cvscore=cross_val_score(LR,features,target,cv=j)\n",
    "    cvmean=cvscore.mean()\n",
    "    print(f\"At cross fold {j} the cv score is {cvmean} and accuracy score for training is {Accuracy_Train} and accuracy for the testing is {Accuracy_Test}\")\n",
    "    print(\"\\n\")"
   ]
  },
  {
   "cell_type": "code",
   "execution_count": 104,
   "id": "78bed48f",
   "metadata": {},
   "outputs": [],
   "source": [
    "#Since no change in accuracy with folds we can choose CV=5"
   ]
  },
  {
   "cell_type": "code",
   "execution_count": 196,
   "id": "0693a922",
   "metadata": {},
   "outputs": [
    {
     "data": {
      "text/plain": [
       "[<matplotlib.lines.Line2D at 0x17a0ac46760>]"
      ]
     },
     "execution_count": 196,
     "metadata": {},
     "output_type": "execute_result"
    },
    {
     "data": {
      "image/png": "[encoded data removed]",
      "text/plain": [
       "<Figure size 576x432 with 1 Axes>"
      ]
     },
     "metadata": {
      "needs_background": "light"
     },
     "output_type": "display_data"
    }
   ],
   "source": [
    "plt.figure(figsize=(8,6))\n",
    "plt.scatter(x=target_test, y=pred_test, color='r')\n",
    "plt.plot(target_test,target_test, color='b')"
   ]
  },
  {
   "cell_type": "markdown",
   "id": "6b53c0b5",
   "metadata": {},
   "source": [
    "# Regularisation"
   ]
  },
  {
   "cell_type": "code",
   "execution_count": 197,
   "id": "12c92e8e",
   "metadata": {},
   "outputs": [],
   "source": [
    "from sklearn.model_selection import GridSearchCV\n",
    "from sklearn.model_selection import cross_val_score"
   ]
  },
  {
   "cell_type": "code",
   "execution_count": 198,
   "id": "5acc3ce6",
   "metadata": {},
   "outputs": [
    {
     "name": "stdout",
     "output_type": "stream",
     "text": [
      "{'alpha': 0.0001, 'random_state': 0}\n"
     ]
    }
   ],
   "source": [
    "from sklearn.linear_model import Lasso\n",
    "\n",
    "parameters = {'alpha':[.0001, .001, .01, .1, 1, 10],'random_state':list(range(0,10))}\n",
    "Las= Lasso()\n",
    "FitParameters= GridSearchCV(Las,parameters)\n",
    "FitParameters.fit(features_train,target_train)\n",
    "\n",
    "print(FitParameters.best_params_)"
   ]
  },
  {
   "cell_type": "code",
   "execution_count": 199,
   "id": "f0215053",
   "metadata": {},
   "outputs": [
    {
     "data": {
      "text/plain": [
       "0.9912155914253497"
      ]
     },
     "execution_count": 199,
     "metadata": {},
     "output_type": "execute_result"
    }
   ],
   "source": [
    "Las = Lasso(alpha=.0001,random_state=0)\n",
    "Las.fit(features_train,target_train)\n",
    "Las.score(features_train,target_train)\n",
    "pred_lasso = Las.predict(features_test)\n",
    "\n",
    "Lasso = r2_score(target_test,pred_lasso)\n",
    "Lasso"
   ]
  },
  {
   "cell_type": "code",
   "execution_count": 215,
   "id": "c1c38203",
   "metadata": {},
   "outputs": [
    {
     "data": {
      "text/plain": [
       "0.9101298106145386"
      ]
     },
     "execution_count": 215,
     "metadata": {},
     "output_type": "execute_result"
    }
   ],
   "source": [
    "cvscore=cross_val_score(Las,features,target,cv=2)\n",
    "cvmean=cvscore.mean()\n",
    "cvmean"
   ]
  },
  {
   "cell_type": "markdown",
   "id": "70c08427",
   "metadata": {},
   "source": [
    "# Ensemble Technique - Random Forest"
   ]
  },
  {
   "cell_type": "code",
   "execution_count": 216,
   "id": "e55fbe62",
   "metadata": {},
   "outputs": [
    {
     "name": "stdout",
     "output_type": "stream",
     "text": [
      "{'criterion': 'mae', 'max_features': 'auto'}\n"
     ]
    }
   ],
   "source": [
    "from sklearn.model_selection import GridSearchCV\n",
    "from sklearn.ensemble import RandomForestRegressor\n",
    "\n",
    "parameters = {'criterion':['mse', 'mae'],'max_features':[\"auto\", \"sqrt\", \"log2\"]}\n",
    "rf =RandomForestRegressor()\n",
    "FitParameters = GridSearchCV(rf,parameters)\n",
    "FitParameters.fit(features_train,target_train)\n",
    "\n",
    "print(FitParameters.best_params_)"
   ]
  },
  {
   "cell_type": "code",
   "execution_count": 239,
   "id": "90a7c539",
   "metadata": {},
   "outputs": [
    {
     "name": "stdout",
     "output_type": "stream",
     "text": [
      "R2 Score: 99.51216575021563\n",
      "Cross Val Score: 98.87869850737324\n"
     ]
    }
   ],
   "source": [
    "rf= RandomForestRegressor(criterion=\"mae\",max_features=\"auto\")\n",
    "rf.fit(features_train, target_train)\n",
    "rf.score(features_train, target_train)\n",
    "pred_decision = rf.predict(features_test)\n",
    "\n",
    "rfs = r2_score(target_test,pred_decision)\n",
    "print('R2 Score:',rfs*100)\n",
    "\n",
    "rfscore = cross_val_score(rf,features_train,target_train,cv=3)\n",
    "rfc = rfscore.mean()\n",
    "print('Cross Val Score:',rfc*100)"
   ]
  },
  {
   "cell_type": "markdown",
   "id": "5b37d456",
   "metadata": {},
   "source": [
    "# Decision Tree"
   ]
  },
  {
   "cell_type": "code",
   "execution_count": 224,
   "id": "4c943567",
   "metadata": {},
   "outputs": [
    {
     "name": "stdout",
     "output_type": "stream",
     "text": [
      "{'criterion': 'friedman_mse', 'splitter': 'best'}\n"
     ]
    }
   ],
   "source": [
    "from sklearn.tree import DecisionTreeRegressor\n",
    "\n",
    "parameters = {'criterion':['mse', 'friedman_mse', 'mae'], 'splitter':['best', 'random']}\n",
    "dt =DecisionTreeRegressor()\n",
    "clf = GridSearchCV(dt,parameters)\n",
    "clf.fit(features_train,target_train)\n",
    "\n",
    "print(clf.best_params_)"
   ]
  },
  {
   "cell_type": "code",
   "execution_count": 244,
   "id": "4b3fa0f9",
   "metadata": {},
   "outputs": [
    {
     "name": "stdout",
     "output_type": "stream",
     "text": [
      "R2 Score: 99.21279133891679\n",
      "Cross Val Score: 98.32545409469856\n"
     ]
    }
   ],
   "source": [
    "DTR = DecisionTreeRegressor(criterion='friedman_mse', splitter='best')\n",
    "DTR.fit(features_train,target_train)\n",
    "DTR.score(features_train,target_train)\n",
    "pred_decision = DTR.predict(features_test)\n",
    "\n",
    "dts = r2_score(target_test,pred_decision)\n",
    "print('R2 Score:',dts*100)\n",
    "\n",
    "dtscore = cross_val_score(DTR,features_train,target_train,cv=3)\n",
    "dtc = dtscore.mean() \n",
    "print('Cross Val Score:',dtc*100)"
   ]
  },
  {
   "cell_type": "code",
   "execution_count": null,
   "id": "1f71bc26",
   "metadata": {},
   "outputs": [],
   "source": [
    "#Conclusion is that the Random Forest Algorithm works slightly better than the DTC."
   ]
  },
  {
   "cell_type": "code",
   "execution_count": 252,
   "id": "3ce414f9",
   "metadata": {},
   "outputs": [],
   "source": [
    "import pickle\n",
    "filename = 'WH.pkl'\n",
    "pickle.dump(RF, open(filename, 'wb'))"
   ]
  },
  {
   "cell_type": "code",
   "execution_count": 255,
   "id": "d5166568",
   "metadata": {},
   "outputs": [
    {
     "data": {
      "text/plain": [
       "array([3.956, 4.715, 5.129, 6.574, 4.507, 4.876, 5.605, 7.378, 6.168,\n",
       "       5.474, 5.429, 5.828, 5.984, 4.681, 3.575, 3.006, 6.575, 5.987,\n",
       "       4.194, 5.073, 5.192, 4.874, 7.527, 5.754, 6.611, 6.329, 5.889,\n",
       "       4.436, 6.123, 4.35 , 5.948, 3.667])"
      ]
     },
     "execution_count": 255,
     "metadata": {},
     "output_type": "execute_result"
    }
   ],
   "source": [
    "import numpy as np\n",
    "a=np.array(target_test)\n",
    "a"
   ]
  },
  {
   "cell_type": "code",
   "execution_count": 256,
   "id": "fe0b0f2d",
   "metadata": {},
   "outputs": [
    {
     "data": {
      "text/plain": [
       "array([3.96598, 4.73975, 5.14329, 6.51134, 4.51765, 4.88242, 5.66334,\n",
       "       7.3926 , 6.26781, 5.50571, 5.4157 , 5.84313, 5.97355, 4.6968 ,\n",
       "       3.48508, 3.35341, 6.6244 , 5.99864, 4.17961, 5.10723, 5.20248,\n",
       "       4.85352, 7.50231, 5.74564, 6.72621, 6.3994 , 5.88125, 4.45713,\n",
       "       6.08993, 4.32506, 5.94835, 3.61592])"
      ]
     },
     "execution_count": 256,
     "metadata": {},
     "output_type": "execute_result"
    }
   ],
   "source": [
    "predicted=np.array(rf.predict(features_test))\n",
    "predicted"
   ]
  },
  {
   "cell_type": "code",
   "execution_count": 259,
   "id": "93f2dfed",
   "metadata": {},
   "outputs": [],
   "source": [
    "conclusion=pd.DataFrame({\"original\":a,\"predicted\":predicted}, index= range(len(a)))\n"
   ]
  },
  {
   "cell_type": "code",
   "execution_count": 260,
   "id": "b24eecf6",
   "metadata": {},
   "outputs": [
    {
     "data": {
      "text/html": [
       "<div>\n",
       "<style scoped>\n",
       "    .dataframe tbody tr th:only-of-type {\n",
       "        vertical-align: middle;\n",
       "    }\n",
       "\n",
       "    .dataframe tbody tr th {\n",
       "        vertical-align: top;\n",
       "    }\n",
       "\n",
       "    .dataframe thead th {\n",
       "        text-align: right;\n",
       "    }\n",
       "</style>\n",
       "<table border=\"1\" class=\"dataframe\">\n",
       "  <thead>\n",
       "    <tr style=\"text-align: right;\">\n",
       "      <th></th>\n",
       "      <th>original</th>\n",
       "      <th>predicted</th>\n",
       "    </tr>\n",
       "  </thead>\n",
       "  <tbody>\n",
       "    <tr>\n",
       "      <th>0</th>\n",
       "      <td>3.956</td>\n",
       "      <td>3.96598</td>\n",
       "    </tr>\n",
       "    <tr>\n",
       "      <th>1</th>\n",
       "      <td>4.715</td>\n",
       "      <td>4.73975</td>\n",
       "    </tr>\n",
       "    <tr>\n",
       "      <th>2</th>\n",
       "      <td>5.129</td>\n",
       "      <td>5.14329</td>\n",
       "    </tr>\n",
       "    <tr>\n",
       "      <th>3</th>\n",
       "      <td>6.574</td>\n",
       "      <td>6.51134</td>\n",
       "    </tr>\n",
       "    <tr>\n",
       "      <th>4</th>\n",
       "      <td>4.507</td>\n",
       "      <td>4.51765</td>\n",
       "    </tr>\n",
       "    <tr>\n",
       "      <th>5</th>\n",
       "      <td>4.876</td>\n",
       "      <td>4.88242</td>\n",
       "    </tr>\n",
       "    <tr>\n",
       "      <th>6</th>\n",
       "      <td>5.605</td>\n",
       "      <td>5.66334</td>\n",
       "    </tr>\n",
       "    <tr>\n",
       "      <th>7</th>\n",
       "      <td>7.378</td>\n",
       "      <td>7.39260</td>\n",
       "    </tr>\n",
       "    <tr>\n",
       "      <th>8</th>\n",
       "      <td>6.168</td>\n",
       "      <td>6.26781</td>\n",
       "    </tr>\n",
       "    <tr>\n",
       "      <th>9</th>\n",
       "      <td>5.474</td>\n",
       "      <td>5.50571</td>\n",
       "    </tr>\n",
       "    <tr>\n",
       "      <th>10</th>\n",
       "      <td>5.429</td>\n",
       "      <td>5.41570</td>\n",
       "    </tr>\n",
       "    <tr>\n",
       "      <th>11</th>\n",
       "      <td>5.828</td>\n",
       "      <td>5.84313</td>\n",
       "    </tr>\n",
       "    <tr>\n",
       "      <th>12</th>\n",
       "      <td>5.984</td>\n",
       "      <td>5.97355</td>\n",
       "    </tr>\n",
       "    <tr>\n",
       "      <th>13</th>\n",
       "      <td>4.681</td>\n",
       "      <td>4.69680</td>\n",
       "    </tr>\n",
       "    <tr>\n",
       "      <th>14</th>\n",
       "      <td>3.575</td>\n",
       "      <td>3.48508</td>\n",
       "    </tr>\n",
       "    <tr>\n",
       "      <th>15</th>\n",
       "      <td>3.006</td>\n",
       "      <td>3.35341</td>\n",
       "    </tr>\n",
       "    <tr>\n",
       "      <th>16</th>\n",
       "      <td>6.575</td>\n",
       "      <td>6.62440</td>\n",
       "    </tr>\n",
       "    <tr>\n",
       "      <th>17</th>\n",
       "      <td>5.987</td>\n",
       "      <td>5.99864</td>\n",
       "    </tr>\n",
       "    <tr>\n",
       "      <th>18</th>\n",
       "      <td>4.194</td>\n",
       "      <td>4.17961</td>\n",
       "    </tr>\n",
       "    <tr>\n",
       "      <th>19</th>\n",
       "      <td>5.073</td>\n",
       "      <td>5.10723</td>\n",
       "    </tr>\n",
       "    <tr>\n",
       "      <th>20</th>\n",
       "      <td>5.192</td>\n",
       "      <td>5.20248</td>\n",
       "    </tr>\n",
       "    <tr>\n",
       "      <th>21</th>\n",
       "      <td>4.874</td>\n",
       "      <td>4.85352</td>\n",
       "    </tr>\n",
       "    <tr>\n",
       "      <th>22</th>\n",
       "      <td>7.527</td>\n",
       "      <td>7.50231</td>\n",
       "    </tr>\n",
       "    <tr>\n",
       "      <th>23</th>\n",
       "      <td>5.754</td>\n",
       "      <td>5.74564</td>\n",
       "    </tr>\n",
       "    <tr>\n",
       "      <th>24</th>\n",
       "      <td>6.611</td>\n",
       "      <td>6.72621</td>\n",
       "    </tr>\n",
       "    <tr>\n",
       "      <th>25</th>\n",
       "      <td>6.329</td>\n",
       "      <td>6.39940</td>\n",
       "    </tr>\n",
       "    <tr>\n",
       "      <th>26</th>\n",
       "      <td>5.889</td>\n",
       "      <td>5.88125</td>\n",
       "    </tr>\n",
       "    <tr>\n",
       "      <th>27</th>\n",
       "      <td>4.436</td>\n",
       "      <td>4.45713</td>\n",
       "    </tr>\n",
       "    <tr>\n",
       "      <th>28</th>\n",
       "      <td>6.123</td>\n",
       "      <td>6.08993</td>\n",
       "    </tr>\n",
       "    <tr>\n",
       "      <th>29</th>\n",
       "      <td>4.350</td>\n",
       "      <td>4.32506</td>\n",
       "    </tr>\n",
       "    <tr>\n",
       "      <th>30</th>\n",
       "      <td>5.948</td>\n",
       "      <td>5.94835</td>\n",
       "    </tr>\n",
       "    <tr>\n",
       "      <th>31</th>\n",
       "      <td>3.667</td>\n",
       "      <td>3.61592</td>\n",
       "    </tr>\n",
       "  </tbody>\n",
       "</table>\n",
       "</div>"
      ],
      "text/plain": [
       "    original  predicted\n",
       "0      3.956    3.96598\n",
       "1      4.715    4.73975\n",
       "2      5.129    5.14329\n",
       "3      6.574    6.51134\n",
       "4      4.507    4.51765\n",
       "5      4.876    4.88242\n",
       "6      5.605    5.66334\n",
       "7      7.378    7.39260\n",
       "8      6.168    6.26781\n",
       "9      5.474    5.50571\n",
       "10     5.429    5.41570\n",
       "11     5.828    5.84313\n",
       "12     5.984    5.97355\n",
       "13     4.681    4.69680\n",
       "14     3.575    3.48508\n",
       "15     3.006    3.35341\n",
       "16     6.575    6.62440\n",
       "17     5.987    5.99864\n",
       "18     4.194    4.17961\n",
       "19     5.073    5.10723\n",
       "20     5.192    5.20248\n",
       "21     4.874    4.85352\n",
       "22     7.527    7.50231\n",
       "23     5.754    5.74564\n",
       "24     6.611    6.72621\n",
       "25     6.329    6.39940\n",
       "26     5.889    5.88125\n",
       "27     4.436    4.45713\n",
       "28     6.123    6.08993\n",
       "29     4.350    4.32506\n",
       "30     5.948    5.94835\n",
       "31     3.667    3.61592"
      ]
     },
     "execution_count": 260,
     "metadata": {},
     "output_type": "execute_result"
    }
   ],
   "source": [
    "conclusion"
   ]
  },
  {
   "cell_type": "code",
   "execution_count": null,
   "id": "1ad09b7b",
   "metadata": {},
   "outputs": [],
   "source": []
  }
 ],
 "metadata": {
  "kernelspec": {
   "display_name": "Python 3",
   "language": "python",
   "name": "python3"
  },
  "language_info": {
   "codemirror_mode": {
    "name": "ipython",
    "version": 3
   },
   "file_extension": ".py",
   "mimetype": "text/x-python",
   "name": "python",
   "nbconvert_exporter": "python",
   "pygments_lexer": "ipython3",
   "version": "3.8.8"
  }
 },
 "nbformat": 4,
 "nbformat_minor": 5
}
