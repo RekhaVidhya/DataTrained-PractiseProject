{
 "cells": [
  {
   "cell_type": "code",
   "execution_count": 1,
   "id": "a5719083",
   "metadata": {},
   "outputs": [],
   "source": [
    "import io\n",
    "import numpy as np\n",
    "import math\n",
    "import matplotlib.pyplot as plt\n",
    "import pandas as pd\n",
    "import seaborn as sns\n",
    "import sklearn\n",
    "DF=pd.read_csv(\"https://raw.githubusercontent.com/dsrscientist/DSData/master/Advertising.csv\")\n"
   ]
  },
  {
   "cell_type": "code",
   "execution_count": 3,
   "id": "3446db3b",
   "metadata": {},
   "outputs": [
    {
     "data": {
      "text/html": [
       "<div>\n",
       "<style scoped>\n",
       "    .dataframe tbody tr th:only-of-type {\n",
       "        vertical-align: middle;\n",
       "    }\n",
       "\n",
       "    .dataframe tbody tr th {\n",
       "        vertical-align: top;\n",
       "    }\n",
       "\n",
       "    .dataframe thead th {\n",
       "        text-align: right;\n",
       "    }\n",
       "</style>\n",
       "<table border=\"1\" class=\"dataframe\">\n",
       "  <thead>\n",
       "    <tr style=\"text-align: right;\">\n",
       "      <th></th>\n",
       "      <th>Unnamed: 0</th>\n",
       "      <th>TV</th>\n",
       "      <th>radio</th>\n",
       "      <th>newspaper</th>\n",
       "      <th>sales</th>\n",
       "    </tr>\n",
       "  </thead>\n",
       "  <tbody>\n",
       "    <tr>\n",
       "      <th>0</th>\n",
       "      <td>1</td>\n",
       "      <td>230.1</td>\n",
       "      <td>37.8</td>\n",
       "      <td>69.2</td>\n",
       "      <td>22.1</td>\n",
       "    </tr>\n",
       "    <tr>\n",
       "      <th>1</th>\n",
       "      <td>2</td>\n",
       "      <td>44.5</td>\n",
       "      <td>39.3</td>\n",
       "      <td>45.1</td>\n",
       "      <td>10.4</td>\n",
       "    </tr>\n",
       "    <tr>\n",
       "      <th>2</th>\n",
       "      <td>3</td>\n",
       "      <td>17.2</td>\n",
       "      <td>45.9</td>\n",
       "      <td>69.3</td>\n",
       "      <td>9.3</td>\n",
       "    </tr>\n",
       "    <tr>\n",
       "      <th>3</th>\n",
       "      <td>4</td>\n",
       "      <td>151.5</td>\n",
       "      <td>41.3</td>\n",
       "      <td>58.5</td>\n",
       "      <td>18.5</td>\n",
       "    </tr>\n",
       "    <tr>\n",
       "      <th>4</th>\n",
       "      <td>5</td>\n",
       "      <td>180.8</td>\n",
       "      <td>10.8</td>\n",
       "      <td>58.4</td>\n",
       "      <td>12.9</td>\n",
       "    </tr>\n",
       "  </tbody>\n",
       "</table>\n",
       "</div>"
      ],
      "text/plain": [
       "   Unnamed: 0     TV  radio  newspaper  sales\n",
       "0           1  230.1   37.8       69.2   22.1\n",
       "1           2   44.5   39.3       45.1   10.4\n",
       "2           3   17.2   45.9       69.3    9.3\n",
       "3           4  151.5   41.3       58.5   18.5\n",
       "4           5  180.8   10.8       58.4   12.9"
      ]
     },
     "execution_count": 3,
     "metadata": {},
     "output_type": "execute_result"
    }
   ],
   "source": [
    "DF.head()"
   ]
  },
  {
   "cell_type": "code",
   "execution_count": 4,
   "id": "736bd2f2",
   "metadata": {},
   "outputs": [
    {
     "data": {
      "text/html": [
       "<div>\n",
       "<style scoped>\n",
       "    .dataframe tbody tr th:only-of-type {\n",
       "        vertical-align: middle;\n",
       "    }\n",
       "\n",
       "    .dataframe tbody tr th {\n",
       "        vertical-align: top;\n",
       "    }\n",
       "\n",
       "    .dataframe thead th {\n",
       "        text-align: right;\n",
       "    }\n",
       "</style>\n",
       "<table border=\"1\" class=\"dataframe\">\n",
       "  <thead>\n",
       "    <tr style=\"text-align: right;\">\n",
       "      <th></th>\n",
       "      <th>Unnamed: 0</th>\n",
       "      <th>TV</th>\n",
       "      <th>radio</th>\n",
       "      <th>newspaper</th>\n",
       "      <th>sales</th>\n",
       "    </tr>\n",
       "  </thead>\n",
       "  <tbody>\n",
       "    <tr>\n",
       "      <th>195</th>\n",
       "      <td>196</td>\n",
       "      <td>38.2</td>\n",
       "      <td>3.7</td>\n",
       "      <td>13.8</td>\n",
       "      <td>7.6</td>\n",
       "    </tr>\n",
       "    <tr>\n",
       "      <th>196</th>\n",
       "      <td>197</td>\n",
       "      <td>94.2</td>\n",
       "      <td>4.9</td>\n",
       "      <td>8.1</td>\n",
       "      <td>9.7</td>\n",
       "    </tr>\n",
       "    <tr>\n",
       "      <th>197</th>\n",
       "      <td>198</td>\n",
       "      <td>177.0</td>\n",
       "      <td>9.3</td>\n",
       "      <td>6.4</td>\n",
       "      <td>12.8</td>\n",
       "    </tr>\n",
       "    <tr>\n",
       "      <th>198</th>\n",
       "      <td>199</td>\n",
       "      <td>283.6</td>\n",
       "      <td>42.0</td>\n",
       "      <td>66.2</td>\n",
       "      <td>25.5</td>\n",
       "    </tr>\n",
       "    <tr>\n",
       "      <th>199</th>\n",
       "      <td>200</td>\n",
       "      <td>232.1</td>\n",
       "      <td>8.6</td>\n",
       "      <td>8.7</td>\n",
       "      <td>13.4</td>\n",
       "    </tr>\n",
       "  </tbody>\n",
       "</table>\n",
       "</div>"
      ],
      "text/plain": [
       "     Unnamed: 0     TV  radio  newspaper  sales\n",
       "195         196   38.2    3.7       13.8    7.6\n",
       "196         197   94.2    4.9        8.1    9.7\n",
       "197         198  177.0    9.3        6.4   12.8\n",
       "198         199  283.6   42.0       66.2   25.5\n",
       "199         200  232.1    8.6        8.7   13.4"
      ]
     },
     "execution_count": 4,
     "metadata": {},
     "output_type": "execute_result"
    }
   ],
   "source": [
    "DF.tail()"
   ]
  },
  {
   "cell_type": "code",
   "execution_count": 5,
   "id": "ff2a58ab",
   "metadata": {},
   "outputs": [
    {
     "data": {
      "text/plain": [
       "Index(['Unnamed: 0', 'TV', 'radio', 'newspaper', 'sales'], dtype='object')"
      ]
     },
     "execution_count": 5,
     "metadata": {},
     "output_type": "execute_result"
    }
   ],
   "source": [
    "DF.columns"
   ]
  },
  {
   "cell_type": "code",
   "execution_count": 6,
   "id": "ca4a769f",
   "metadata": {},
   "outputs": [
    {
     "data": {
      "text/plain": [
       "Unnamed: 0      int64\n",
       "TV            float64\n",
       "radio         float64\n",
       "newspaper     float64\n",
       "sales         float64\n",
       "dtype: object"
      ]
     },
     "execution_count": 6,
     "metadata": {},
     "output_type": "execute_result"
    }
   ],
   "source": [
    "DF.dtypes"
   ]
  },
  {
   "cell_type": "code",
   "execution_count": 7,
   "id": "9f060223",
   "metadata": {},
   "outputs": [
    {
     "data": {
      "text/plain": [
       "(200, 5)"
      ]
     },
     "execution_count": 7,
     "metadata": {},
     "output_type": "execute_result"
    }
   ],
   "source": [
    "DF.shape"
   ]
  },
  {
   "cell_type": "code",
   "execution_count": 8,
   "id": "02172043",
   "metadata": {},
   "outputs": [
    {
     "data": {
      "text/plain": [
       "Unnamed: 0    0\n",
       "TV            0\n",
       "radio         0\n",
       "newspaper     0\n",
       "sales         0\n",
       "dtype: int64"
      ]
     },
     "execution_count": 8,
     "metadata": {},
     "output_type": "execute_result"
    }
   ],
   "source": [
    "DF.isnull().sum()"
   ]
  },
  {
   "cell_type": "markdown",
   "id": "0509aadb",
   "metadata": {},
   "source": [
    "No missing data in the data set"
   ]
  },
  {
   "cell_type": "markdown",
   "id": "ca754bc3",
   "metadata": {},
   "source": [
    "# Distribution of Data"
   ]
  },
  {
   "cell_type": "code",
   "execution_count": 12,
   "id": "bcbc8e25",
   "metadata": {},
   "outputs": [
    {
     "name": "stderr",
     "output_type": "stream",
     "text": [
      "C:\\Users\\Pradeep\\anaconda3\\lib\\site-packages\\seaborn\\distributions.py:2557: FutureWarning: `distplot` is a deprecated function and will be removed in a future version. Please adapt your code to use either `displot` (a figure-level function with similar flexibility) or `histplot` (an axes-level function for histograms).\n",
      "  warnings.warn(msg, FutureWarning)\n"
     ]
    },
    {
     "data": {
      "text/plain": [
       "<AxesSubplot:xlabel='TV', ylabel='Density'>"
      ]
     },
     "execution_count": 12,
     "metadata": {},
     "output_type": "execute_result"
    },
    {
     "data": {
      "image/png": "[encoded data removed]",
      "text/plain": [
       "<Figure size 432x288 with 1 Axes>"
      ]
     },
     "metadata": {
      "needs_background": "light"
     },
     "output_type": "display_data"
    }
   ],
   "source": [
    "sns.distplot(DF[\"TV\"])"
   ]
  },
  {
   "cell_type": "code",
   "execution_count": 13,
   "id": "fdf94b67",
   "metadata": {},
   "outputs": [
    {
     "name": "stderr",
     "output_type": "stream",
     "text": [
      "C:\\Users\\Pradeep\\anaconda3\\lib\\site-packages\\seaborn\\distributions.py:2557: FutureWarning: `distplot` is a deprecated function and will be removed in a future version. Please adapt your code to use either `displot` (a figure-level function with similar flexibility) or `histplot` (an axes-level function for histograms).\n",
      "  warnings.warn(msg, FutureWarning)\n"
     ]
    },
    {
     "data": {
      "text/plain": [
       "<AxesSubplot:xlabel='newspaper', ylabel='Density'>"
      ]
     },
     "execution_count": 13,
     "metadata": {},
     "output_type": "execute_result"
    },
    {
     "data": {
      "image/png": "[encoded data removed]",
      "text/plain": [
       "<Figure size 432x288 with 1 Axes>"
      ]
     },
     "metadata": {
      "needs_background": "light"
     },
     "output_type": "display_data"
    }
   ],
   "source": [
    "sns.distplot(DF[\"newspaper\"])"
   ]
  },
  {
   "cell_type": "code",
   "execution_count": 14,
   "id": "bc412444",
   "metadata": {},
   "outputs": [
    {
     "name": "stderr",
     "output_type": "stream",
     "text": [
      "C:\\Users\\Pradeep\\anaconda3\\lib\\site-packages\\seaborn\\distributions.py:2557: FutureWarning: `distplot` is a deprecated function and will be removed in a future version. Please adapt your code to use either `displot` (a figure-level function with similar flexibility) or `histplot` (an axes-level function for histograms).\n",
      "  warnings.warn(msg, FutureWarning)\n"
     ]
    },
    {
     "data": {
      "text/plain": [
       "<AxesSubplot:xlabel='radio', ylabel='Density'>"
      ]
     },
     "execution_count": 14,
     "metadata": {},
     "output_type": "execute_result"
    },
    {
     "data": {
      "image/png": "[encoded data removed]",
      "text/plain": [
       "<Figure size 432x288 with 1 Axes>"
      ]
     },
     "metadata": {
      "needs_background": "light"
     },
     "output_type": "display_data"
    }
   ],
   "source": [
    "sns.distplot(DF[\"radio\"])"
   ]
  },
  {
   "cell_type": "code",
   "execution_count": 15,
   "id": "fcbb6a7f",
   "metadata": {},
   "outputs": [
    {
     "name": "stderr",
     "output_type": "stream",
     "text": [
      "C:\\Users\\Pradeep\\anaconda3\\lib\\site-packages\\seaborn\\distributions.py:2557: FutureWarning: `distplot` is a deprecated function and will be removed in a future version. Please adapt your code to use either `displot` (a figure-level function with similar flexibility) or `histplot` (an axes-level function for histograms).\n",
      "  warnings.warn(msg, FutureWarning)\n"
     ]
    },
    {
     "data": {
      "text/plain": [
       "<AxesSubplot:xlabel='sales', ylabel='Density'>"
      ]
     },
     "execution_count": 15,
     "metadata": {},
     "output_type": "execute_result"
    },
    {
     "data": {
      "image/png": "[encoded data removed]",
      "text/plain": [
       "<Figure size 432x288 with 1 Axes>"
      ]
     },
     "metadata": {
      "needs_background": "light"
     },
     "output_type": "display_data"
    }
   ],
   "source": [
    "sns.distplot(DF[\"sales\"])"
   ]
  },
  {
   "cell_type": "markdown",
   "id": "f05ba751",
   "metadata": {},
   "source": [
    "# Outliers Checking"
   ]
  },
  {
   "cell_type": "code",
   "execution_count": 10,
   "id": "dcb29a12",
   "metadata": {},
   "outputs": [
    {
     "name": "stderr",
     "output_type": "stream",
     "text": [
      "C:\\Users\\Pradeep\\anaconda3\\lib\\site-packages\\seaborn\\_decorators.py:36: FutureWarning: Pass the following variable as a keyword arg: x. From version 0.12, the only valid positional argument will be `data`, and passing other arguments without an explicit keyword will result in an error or misinterpretation.\n",
      "  warnings.warn(\n",
      "C:\\Users\\Pradeep\\anaconda3\\lib\\site-packages\\seaborn\\_decorators.py:36: FutureWarning: Pass the following variable as a keyword arg: x. From version 0.12, the only valid positional argument will be `data`, and passing other arguments without an explicit keyword will result in an error or misinterpretation.\n",
      "  warnings.warn(\n",
      "C:\\Users\\Pradeep\\anaconda3\\lib\\site-packages\\seaborn\\_decorators.py:36: FutureWarning: Pass the following variable as a keyword arg: x. From version 0.12, the only valid positional argument will be `data`, and passing other arguments without an explicit keyword will result in an error or misinterpretation.\n",
      "  warnings.warn(\n"
     ]
    },
    {
     "data": {
      "image/png": "[encoded data removed]",
      "text/plain": [
       "<Figure size 432x288 with 3 Axes>"
      ]
     },
     "metadata": {
      "needs_background": "light"
     },
     "output_type": "display_data"
    }
   ],
   "source": [
    "fig, axs = plt.subplots(3, figsize = (6,4))\n",
    "plt1 = sns.boxplot(DF['TV'], ax = axs[0])\n",
    "plt2 = sns.boxplot(DF['newspaper'], ax = axs[1])\n",
    "plt3 = sns.boxplot(DF['radio'], ax = axs[2])\n",
    "plt.tight_layout()"
   ]
  },
  {
   "cell_type": "markdown",
   "id": "42a7ddc8",
   "metadata": {},
   "source": [
    "Only Newspaper column has outliers which has to be removed"
   ]
  },
  {
   "cell_type": "code",
   "execution_count": 16,
   "id": "f1c35866",
   "metadata": {},
   "outputs": [
    {
     "data": {
      "text/plain": [
       "Unnamed: 0    0.000000\n",
       "TV           -0.069853\n",
       "radio         0.094175\n",
       "newspaper     0.894720\n",
       "sales         0.407571\n",
       "dtype: float64"
      ]
     },
     "execution_count": 16,
     "metadata": {},
     "output_type": "execute_result"
    }
   ],
   "source": [
    "DF.skew()"
   ]
  },
  {
   "cell_type": "markdown",
   "id": "0c48f034",
   "metadata": {},
   "source": [
    "Newspaper data is slightly skewed"
   ]
  },
  {
   "cell_type": "code",
   "execution_count": 17,
   "id": "7b7048b7",
   "metadata": {},
   "outputs": [
    {
     "data": {
      "text/plain": [
       "<AxesSubplot:>"
      ]
     },
     "execution_count": 17,
     "metadata": {},
     "output_type": "execute_result"
    },
    {
     "data": {
      "image/png": "[encoded data removed]",
      "text/plain": [
       "<Figure size 432x288 with 2 Axes>"
      ]
     },
     "metadata": {
      "needs_background": "light"
     },
     "output_type": "display_data"
    }
   ],
   "source": [
    "sns.heatmap(DF.corr(),annot=True)"
   ]
  },
  {
   "cell_type": "markdown",
   "id": "ac55c539",
   "metadata": {},
   "source": [
    "# Treating outliers"
   ]
  },
  {
   "cell_type": "code",
   "execution_count": 18,
   "id": "fe50e676",
   "metadata": {},
   "outputs": [
    {
     "data": {
      "text/plain": [
       "(200, 5)"
      ]
     },
     "execution_count": 18,
     "metadata": {},
     "output_type": "execute_result"
    }
   ],
   "source": [
    "from scipy.stats import zscore\n",
    "z=np.abs(zscore(DF))\n",
    "z.shape"
   ]
  },
  {
   "cell_type": "code",
   "execution_count": 19,
   "id": "1dd36e0f",
   "metadata": {},
   "outputs": [
    {
     "data": {
      "text/html": [
       "<div>\n",
       "<style scoped>\n",
       "    .dataframe tbody tr th:only-of-type {\n",
       "        vertical-align: middle;\n",
       "    }\n",
       "\n",
       "    .dataframe tbody tr th {\n",
       "        vertical-align: top;\n",
       "    }\n",
       "\n",
       "    .dataframe thead th {\n",
       "        text-align: right;\n",
       "    }\n",
       "</style>\n",
       "<table border=\"1\" class=\"dataframe\">\n",
       "  <thead>\n",
       "    <tr style=\"text-align: right;\">\n",
       "      <th></th>\n",
       "      <th>0</th>\n",
       "      <th>1</th>\n",
       "      <th>2</th>\n",
       "      <th>3</th>\n",
       "      <th>4</th>\n",
       "    </tr>\n",
       "  </thead>\n",
       "  <tbody>\n",
       "    <tr>\n",
       "      <th>0</th>\n",
       "      <td>1.723412</td>\n",
       "      <td>0.969852</td>\n",
       "      <td>0.981522</td>\n",
       "      <td>1.778945</td>\n",
       "      <td>1.552053</td>\n",
       "    </tr>\n",
       "    <tr>\n",
       "      <th>1</th>\n",
       "      <td>1.706091</td>\n",
       "      <td>1.197376</td>\n",
       "      <td>1.082808</td>\n",
       "      <td>0.669579</td>\n",
       "      <td>0.696046</td>\n",
       "    </tr>\n",
       "    <tr>\n",
       "      <th>2</th>\n",
       "      <td>1.688771</td>\n",
       "      <td>1.516155</td>\n",
       "      <td>1.528463</td>\n",
       "      <td>1.783549</td>\n",
       "      <td>0.907406</td>\n",
       "    </tr>\n",
       "    <tr>\n",
       "      <th>3</th>\n",
       "      <td>1.671450</td>\n",
       "      <td>0.052050</td>\n",
       "      <td>1.217855</td>\n",
       "      <td>1.286405</td>\n",
       "      <td>0.860330</td>\n",
       "    </tr>\n",
       "    <tr>\n",
       "      <th>4</th>\n",
       "      <td>1.654129</td>\n",
       "      <td>0.394182</td>\n",
       "      <td>0.841614</td>\n",
       "      <td>1.281802</td>\n",
       "      <td>0.215683</td>\n",
       "    </tr>\n",
       "    <tr>\n",
       "      <th>5</th>\n",
       "      <td>1.636808</td>\n",
       "      <td>1.615408</td>\n",
       "      <td>1.731034</td>\n",
       "      <td>2.045930</td>\n",
       "      <td>1.310911</td>\n",
       "    </tr>\n",
       "    <tr>\n",
       "      <th>6</th>\n",
       "      <td>1.619488</td>\n",
       "      <td>1.045577</td>\n",
       "      <td>0.643905</td>\n",
       "      <td>0.324708</td>\n",
       "      <td>0.427043</td>\n",
       "    </tr>\n",
       "    <tr>\n",
       "      <th>7</th>\n",
       "      <td>1.602167</td>\n",
       "      <td>0.313437</td>\n",
       "      <td>0.247406</td>\n",
       "      <td>0.872487</td>\n",
       "      <td>0.158039</td>\n",
       "    </tr>\n",
       "    <tr>\n",
       "      <th>8</th>\n",
       "      <td>1.584846</td>\n",
       "      <td>1.616576</td>\n",
       "      <td>1.429069</td>\n",
       "      <td>1.360424</td>\n",
       "      <td>1.772059</td>\n",
       "    </tr>\n",
       "    <tr>\n",
       "      <th>9</th>\n",
       "      <td>1.567526</td>\n",
       "      <td>0.616043</td>\n",
       "      <td>1.395307</td>\n",
       "      <td>0.430582</td>\n",
       "      <td>0.657617</td>\n",
       "    </tr>\n",
       "    <tr>\n",
       "      <th>10</th>\n",
       "      <td>1.550205</td>\n",
       "      <td>0.945156</td>\n",
       "      <td>1.179231</td>\n",
       "      <td>0.292486</td>\n",
       "      <td>1.041908</td>\n",
       "    </tr>\n",
       "    <tr>\n",
       "      <th>11</th>\n",
       "      <td>1.532884</td>\n",
       "      <td>0.790028</td>\n",
       "      <td>0.049697</td>\n",
       "      <td>1.222329</td>\n",
       "      <td>0.648971</td>\n",
       "    </tr>\n",
       "    <tr>\n",
       "      <th>12</th>\n",
       "      <td>1.515563</td>\n",
       "      <td>1.439088</td>\n",
       "      <td>0.799209</td>\n",
       "      <td>1.627040</td>\n",
       "      <td>0.926620</td>\n",
       "    </tr>\n",
       "    <tr>\n",
       "      <th>13</th>\n",
       "      <td>1.498243</td>\n",
       "      <td>0.578502</td>\n",
       "      <td>1.057689</td>\n",
       "      <td>1.075027</td>\n",
       "      <td>0.830548</td>\n",
       "    </tr>\n",
       "    <tr>\n",
       "      <th>14</th>\n",
       "      <td>1.480922</td>\n",
       "      <td>0.666253</td>\n",
       "      <td>0.650657</td>\n",
       "      <td>0.711007</td>\n",
       "      <td>0.956403</td>\n",
       "    </tr>\n",
       "    <tr>\n",
       "      <th>15</th>\n",
       "      <td>1.463601</td>\n",
       "      <td>0.564665</td>\n",
       "      <td>1.650006</td>\n",
       "      <td>1.028627</td>\n",
       "      <td>1.609697</td>\n",
       "    </tr>\n",
       "    <tr>\n",
       "      <th>16</th>\n",
       "      <td>1.446281</td>\n",
       "      <td>0.925305</td>\n",
       "      <td>0.900494</td>\n",
       "      <td>3.841171</td>\n",
       "      <td>0.292541</td>\n",
       "    </tr>\n",
       "    <tr>\n",
       "      <th>17</th>\n",
       "      <td>1.428960</td>\n",
       "      <td>1.568876</td>\n",
       "      <td>1.103065</td>\n",
       "      <td>1.162119</td>\n",
       "      <td>1.993987</td>\n",
       "    </tr>\n",
       "    <tr>\n",
       "      <th>18</th>\n",
       "      <td>1.411639</td>\n",
       "      <td>0.908957</td>\n",
       "      <td>0.186635</td>\n",
       "      <td>0.564074</td>\n",
       "      <td>0.523115</td>\n",
       "    </tr>\n",
       "    <tr>\n",
       "      <th>19</th>\n",
       "      <td>1.394318</td>\n",
       "      <td>0.003007</td>\n",
       "      <td>0.042945</td>\n",
       "      <td>0.527248</td>\n",
       "      <td>0.110964</td>\n",
       "    </tr>\n",
       "    <tr>\n",
       "      <th>20</th>\n",
       "      <td>1.376998</td>\n",
       "      <td>0.833233</td>\n",
       "      <td>0.299535</td>\n",
       "      <td>1.051643</td>\n",
       "      <td>0.764258</td>\n",
       "    </tr>\n",
       "    <tr>\n",
       "      <th>21</th>\n",
       "      <td>1.359677</td>\n",
       "      <td>1.055093</td>\n",
       "      <td>1.226498</td>\n",
       "      <td>0.324708</td>\n",
       "      <td>0.292541</td>\n",
       "    </tr>\n",
       "    <tr>\n",
       "      <th>22</th>\n",
       "      <td>1.342356</td>\n",
       "      <td>1.562862</td>\n",
       "      <td>0.497243</td>\n",
       "      <td>0.876722</td>\n",
       "      <td>1.618343</td>\n",
       "    </tr>\n",
       "    <tr>\n",
       "      <th>23</th>\n",
       "      <td>1.325035</td>\n",
       "      <td>0.948834</td>\n",
       "      <td>0.429720</td>\n",
       "      <td>0.200423</td>\n",
       "      <td>0.283895</td>\n",
       "    </tr>\n",
       "    <tr>\n",
       "      <th>24</th>\n",
       "      <td>1.307715</td>\n",
       "      <td>0.989528</td>\n",
       "      <td>0.720071</td>\n",
       "      <td>0.564074</td>\n",
       "      <td>0.830548</td>\n",
       "    </tr>\n",
       "    <tr>\n",
       "      <th>25</th>\n",
       "      <td>1.290394</td>\n",
       "      <td>1.352854</td>\n",
       "      <td>1.334536</td>\n",
       "      <td>0.508836</td>\n",
       "      <td>0.388614</td>\n",
       "    </tr>\n",
       "    <tr>\n",
       "      <th>26</th>\n",
       "      <td>1.273073</td>\n",
       "      <td>0.048371</td>\n",
       "      <td>0.407572</td>\n",
       "      <td>0.826455</td>\n",
       "      <td>0.187822</td>\n",
       "    </tr>\n",
       "    <tr>\n",
       "      <th>27</th>\n",
       "      <td>1.255753</td>\n",
       "      <td>1.086621</td>\n",
       "      <td>0.443225</td>\n",
       "      <td>0.352328</td>\n",
       "      <td>0.360753</td>\n",
       "    </tr>\n",
       "    <tr>\n",
       "      <th>28</th>\n",
       "      <td>1.238432</td>\n",
       "      <td>1.188210</td>\n",
       "      <td>0.259020</td>\n",
       "      <td>0.352328</td>\n",
       "      <td>0.937188</td>\n",
       "    </tr>\n",
       "    <tr>\n",
       "      <th>29</th>\n",
       "      <td>1.221111</td>\n",
       "      <td>0.892610</td>\n",
       "      <td>0.490491</td>\n",
       "      <td>0.471642</td>\n",
       "      <td>0.676832</td>\n",
       "    </tr>\n",
       "    <tr>\n",
       "      <th>30</th>\n",
       "      <td>1.203790</td>\n",
       "      <td>1.703160</td>\n",
       "      <td>0.340049</td>\n",
       "      <td>0.582118</td>\n",
       "      <td>1.417551</td>\n",
       "    </tr>\n",
       "    <tr>\n",
       "      <th>31</th>\n",
       "      <td>1.186470</td>\n",
       "      <td>0.398678</td>\n",
       "      <td>0.395958</td>\n",
       "      <td>0.370372</td>\n",
       "      <td>0.407828</td>\n",
       "    </tr>\n",
       "    <tr>\n",
       "      <th>32</th>\n",
       "      <td>1.169149</td>\n",
       "      <td>0.582005</td>\n",
       "      <td>1.469583</td>\n",
       "      <td>0.025502</td>\n",
       "      <td>0.849762</td>\n",
       "    </tr>\n",
       "    <tr>\n",
       "      <th>33</th>\n",
       "      <td>1.151828</td>\n",
       "      <td>1.384381</td>\n",
       "      <td>0.220397</td>\n",
       "      <td>1.392646</td>\n",
       "      <td>0.648971</td>\n",
       "    </tr>\n",
       "    <tr>\n",
       "      <th>34</th>\n",
       "      <td>1.134507</td>\n",
       "      <td>0.599520</td>\n",
       "      <td>1.476335</td>\n",
       "      <td>1.065821</td>\n",
       "      <td>0.868977</td>\n",
       "    </tr>\n",
       "    <tr>\n",
       "      <th>35</th>\n",
       "      <td>1.117187</td>\n",
       "      <td>1.677471</td>\n",
       "      <td>1.294022</td>\n",
       "      <td>1.015186</td>\n",
       "      <td>0.234898</td>\n",
       "    </tr>\n",
       "    <tr>\n",
       "      <th>36</th>\n",
       "      <td>1.099866</td>\n",
       "      <td>1.399561</td>\n",
       "      <td>1.386664</td>\n",
       "      <td>1.176297</td>\n",
       "      <td>2.186132</td>\n",
       "    </tr>\n",
       "    <tr>\n",
       "      <th>37</th>\n",
       "      <td>1.082545</td>\n",
       "      <td>0.844735</td>\n",
       "      <td>1.764796</td>\n",
       "      <td>0.697198</td>\n",
       "      <td>0.130178</td>\n",
       "    </tr>\n",
       "    <tr>\n",
       "      <th>38</th>\n",
       "      <td>1.065225</td>\n",
       "      <td>1.213724</td>\n",
       "      <td>0.232011</td>\n",
       "      <td>0.209261</td>\n",
       "      <td>0.753690</td>\n",
       "    </tr>\n",
       "    <tr>\n",
       "      <th>39</th>\n",
       "      <td>1.047904</td>\n",
       "      <td>0.945331</td>\n",
       "      <td>0.974770</td>\n",
       "      <td>0.066562</td>\n",
       "      <td>1.436766</td>\n",
       "    </tr>\n",
       "    <tr>\n",
       "      <th>40</th>\n",
       "      <td>1.030583</td>\n",
       "      <td>0.647570</td>\n",
       "      <td>0.065093</td>\n",
       "      <td>0.048149</td>\n",
       "      <td>0.495254</td>\n",
       "    </tr>\n",
       "    <tr>\n",
       "      <th>41</th>\n",
       "      <td>1.013262</td>\n",
       "      <td>0.349810</td>\n",
       "      <td>0.684419</td>\n",
       "      <td>0.374975</td>\n",
       "      <td>0.591327</td>\n",
       "    </tr>\n",
       "    <tr>\n",
       "      <th>42</th>\n",
       "      <td>0.995942</td>\n",
       "      <td>1.711334</td>\n",
       "      <td>0.299535</td>\n",
       "      <td>1.323599</td>\n",
       "      <td>1.283050</td>\n",
       "    </tr>\n",
       "    <tr>\n",
       "      <th>43</th>\n",
       "      <td>0.978621</td>\n",
       "      <td>0.698949</td>\n",
       "      <td>1.003670</td>\n",
       "      <td>0.191216</td>\n",
       "      <td>0.215683</td>\n",
       "    </tr>\n",
       "    <tr>\n",
       "      <th>44</th>\n",
       "      <td>0.961300</td>\n",
       "      <td>1.423908</td>\n",
       "      <td>0.164487</td>\n",
       "      <td>0.586721</td>\n",
       "      <td>1.061122</td>\n",
       "    </tr>\n",
       "    <tr>\n",
       "      <th>45</th>\n",
       "      <td>0.943979</td>\n",
       "      <td>0.327624</td>\n",
       "      <td>0.051588</td>\n",
       "      <td>0.043546</td>\n",
       "      <td>0.168607</td>\n",
       "    </tr>\n",
       "    <tr>\n",
       "      <th>46</th>\n",
       "      <td>0.926659</td>\n",
       "      <td>0.669581</td>\n",
       "      <td>0.902385</td>\n",
       "      <td>0.236880</td>\n",
       "      <td>0.657617</td>\n",
       "    </tr>\n",
       "    <tr>\n",
       "      <th>47</th>\n",
       "      <td>0.909338</td>\n",
       "      <td>1.084286</td>\n",
       "      <td>1.231360</td>\n",
       "      <td>0.554867</td>\n",
       "      <td>1.763413</td>\n",
       "    </tr>\n",
       "    <tr>\n",
       "      <th>48</th>\n",
       "      <td>0.892017</td>\n",
       "      <td>0.935989</td>\n",
       "      <td>0.503996</td>\n",
       "      <td>0.890531</td>\n",
       "      <td>0.149393</td>\n",
       "    </tr>\n",
       "    <tr>\n",
       "      <th>49</th>\n",
       "      <td>0.874697</td>\n",
       "      <td>0.935814</td>\n",
       "      <td>0.780842</td>\n",
       "      <td>0.287515</td>\n",
       "      <td>0.830548</td>\n",
       "    </tr>\n",
       "  </tbody>\n",
       "</table>\n",
       "</div>"
      ],
      "text/plain": [
       "           0         1         2         3         4\n",
       "0   1.723412  0.969852  0.981522  1.778945  1.552053\n",
       "1   1.706091  1.197376  1.082808  0.669579  0.696046\n",
       "2   1.688771  1.516155  1.528463  1.783549  0.907406\n",
       "3   1.671450  0.052050  1.217855  1.286405  0.860330\n",
       "4   1.654129  0.394182  0.841614  1.281802  0.215683\n",
       "5   1.636808  1.615408  1.731034  2.045930  1.310911\n",
       "6   1.619488  1.045577  0.643905  0.324708  0.427043\n",
       "7   1.602167  0.313437  0.247406  0.872487  0.158039\n",
       "8   1.584846  1.616576  1.429069  1.360424  1.772059\n",
       "9   1.567526  0.616043  1.395307  0.430582  0.657617\n",
       "10  1.550205  0.945156  1.179231  0.292486  1.041908\n",
       "11  1.532884  0.790028  0.049697  1.222329  0.648971\n",
       "12  1.515563  1.439088  0.799209  1.627040  0.926620\n",
       "13  1.498243  0.578502  1.057689  1.075027  0.830548\n",
       "14  1.480922  0.666253  0.650657  0.711007  0.956403\n",
       "15  1.463601  0.564665  1.650006  1.028627  1.609697\n",
       "16  1.446281  0.925305  0.900494  3.841171  0.292541\n",
       "17  1.428960  1.568876  1.103065  1.162119  1.993987\n",
       "18  1.411639  0.908957  0.186635  0.564074  0.523115\n",
       "19  1.394318  0.003007  0.042945  0.527248  0.110964\n",
       "20  1.376998  0.833233  0.299535  1.051643  0.764258\n",
       "21  1.359677  1.055093  1.226498  0.324708  0.292541\n",
       "22  1.342356  1.562862  0.497243  0.876722  1.618343\n",
       "23  1.325035  0.948834  0.429720  0.200423  0.283895\n",
       "24  1.307715  0.989528  0.720071  0.564074  0.830548\n",
       "25  1.290394  1.352854  1.334536  0.508836  0.388614\n",
       "26  1.273073  0.048371  0.407572  0.826455  0.187822\n",
       "27  1.255753  1.086621  0.443225  0.352328  0.360753\n",
       "28  1.238432  1.188210  0.259020  0.352328  0.937188\n",
       "29  1.221111  0.892610  0.490491  0.471642  0.676832\n",
       "30  1.203790  1.703160  0.340049  0.582118  1.417551\n",
       "31  1.186470  0.398678  0.395958  0.370372  0.407828\n",
       "32  1.169149  0.582005  1.469583  0.025502  0.849762\n",
       "33  1.151828  1.384381  0.220397  1.392646  0.648971\n",
       "34  1.134507  0.599520  1.476335  1.065821  0.868977\n",
       "35  1.117187  1.677471  1.294022  1.015186  0.234898\n",
       "36  1.099866  1.399561  1.386664  1.176297  2.186132\n",
       "37  1.082545  0.844735  1.764796  0.697198  0.130178\n",
       "38  1.065225  1.213724  0.232011  0.209261  0.753690\n",
       "39  1.047904  0.945331  0.974770  0.066562  1.436766\n",
       "40  1.030583  0.647570  0.065093  0.048149  0.495254\n",
       "41  1.013262  0.349810  0.684419  0.374975  0.591327\n",
       "42  0.995942  1.711334  0.299535  1.323599  1.283050\n",
       "43  0.978621  0.698949  1.003670  0.191216  0.215683\n",
       "44  0.961300  1.423908  0.164487  0.586721  1.061122\n",
       "45  0.943979  0.327624  0.051588  0.043546  0.168607\n",
       "46  0.926659  0.669581  0.902385  0.236880  0.657617\n",
       "47  0.909338  1.084286  1.231360  0.554867  1.763413\n",
       "48  0.892017  0.935989  0.503996  0.890531  0.149393\n",
       "49  0.874697  0.935814  0.780842  0.287515  0.830548"
      ]
     },
     "execution_count": 19,
     "metadata": {},
     "output_type": "execute_result"
    }
   ],
   "source": [
    "z1=pd.DataFrame(z)\n",
    "z1\n",
    "z1.head(50)"
   ]
  },
  {
   "cell_type": "code",
   "execution_count": 22,
   "id": "37b39bbe",
   "metadata": {},
   "outputs": [
    {
     "data": {
      "text/html": [
       "<div>\n",
       "<style scoped>\n",
       "    .dataframe tbody tr th:only-of-type {\n",
       "        vertical-align: middle;\n",
       "    }\n",
       "\n",
       "    .dataframe tbody tr th {\n",
       "        vertical-align: top;\n",
       "    }\n",
       "\n",
       "    .dataframe thead th {\n",
       "        text-align: right;\n",
       "    }\n",
       "</style>\n",
       "<table border=\"1\" class=\"dataframe\">\n",
       "  <thead>\n",
       "    <tr style=\"text-align: right;\">\n",
       "      <th></th>\n",
       "      <th>Unnamed: 0</th>\n",
       "      <th>TV</th>\n",
       "      <th>radio</th>\n",
       "      <th>newspaper</th>\n",
       "      <th>sales</th>\n",
       "    </tr>\n",
       "  </thead>\n",
       "  <tbody>\n",
       "    <tr>\n",
       "      <th>0</th>\n",
       "      <td>1</td>\n",
       "      <td>230.1</td>\n",
       "      <td>37.8</td>\n",
       "      <td>69.2</td>\n",
       "      <td>22.1</td>\n",
       "    </tr>\n",
       "    <tr>\n",
       "      <th>1</th>\n",
       "      <td>2</td>\n",
       "      <td>44.5</td>\n",
       "      <td>39.3</td>\n",
       "      <td>45.1</td>\n",
       "      <td>10.4</td>\n",
       "    </tr>\n",
       "    <tr>\n",
       "      <th>2</th>\n",
       "      <td>3</td>\n",
       "      <td>17.2</td>\n",
       "      <td>45.9</td>\n",
       "      <td>69.3</td>\n",
       "      <td>9.3</td>\n",
       "    </tr>\n",
       "    <tr>\n",
       "      <th>3</th>\n",
       "      <td>4</td>\n",
       "      <td>151.5</td>\n",
       "      <td>41.3</td>\n",
       "      <td>58.5</td>\n",
       "      <td>18.5</td>\n",
       "    </tr>\n",
       "    <tr>\n",
       "      <th>4</th>\n",
       "      <td>5</td>\n",
       "      <td>180.8</td>\n",
       "      <td>10.8</td>\n",
       "      <td>58.4</td>\n",
       "      <td>12.9</td>\n",
       "    </tr>\n",
       "    <tr>\n",
       "      <th>...</th>\n",
       "      <td>...</td>\n",
       "      <td>...</td>\n",
       "      <td>...</td>\n",
       "      <td>...</td>\n",
       "      <td>...</td>\n",
       "    </tr>\n",
       "    <tr>\n",
       "      <th>195</th>\n",
       "      <td>196</td>\n",
       "      <td>38.2</td>\n",
       "      <td>3.7</td>\n",
       "      <td>13.8</td>\n",
       "      <td>7.6</td>\n",
       "    </tr>\n",
       "    <tr>\n",
       "      <th>196</th>\n",
       "      <td>197</td>\n",
       "      <td>94.2</td>\n",
       "      <td>4.9</td>\n",
       "      <td>8.1</td>\n",
       "      <td>9.7</td>\n",
       "    </tr>\n",
       "    <tr>\n",
       "      <th>197</th>\n",
       "      <td>198</td>\n",
       "      <td>177.0</td>\n",
       "      <td>9.3</td>\n",
       "      <td>6.4</td>\n",
       "      <td>12.8</td>\n",
       "    </tr>\n",
       "    <tr>\n",
       "      <th>198</th>\n",
       "      <td>199</td>\n",
       "      <td>283.6</td>\n",
       "      <td>42.0</td>\n",
       "      <td>66.2</td>\n",
       "      <td>25.5</td>\n",
       "    </tr>\n",
       "    <tr>\n",
       "      <th>199</th>\n",
       "      <td>200</td>\n",
       "      <td>232.1</td>\n",
       "      <td>8.6</td>\n",
       "      <td>8.7</td>\n",
       "      <td>13.4</td>\n",
       "    </tr>\n",
       "  </tbody>\n",
       "</table>\n",
       "<p>198 rows × 5 columns</p>\n",
       "</div>"
      ],
      "text/plain": [
       "     Unnamed: 0     TV  radio  newspaper  sales\n",
       "0             1  230.1   37.8       69.2   22.1\n",
       "1             2   44.5   39.3       45.1   10.4\n",
       "2             3   17.2   45.9       69.3    9.3\n",
       "3             4  151.5   41.3       58.5   18.5\n",
       "4             5  180.8   10.8       58.4   12.9\n",
       "..          ...    ...    ...        ...    ...\n",
       "195         196   38.2    3.7       13.8    7.6\n",
       "196         197   94.2    4.9        8.1    9.7\n",
       "197         198  177.0    9.3        6.4   12.8\n",
       "198         199  283.6   42.0       66.2   25.5\n",
       "199         200  232.1    8.6        8.7   13.4\n",
       "\n",
       "[198 rows x 5 columns]"
      ]
     },
     "execution_count": 22,
     "metadata": {},
     "output_type": "execute_result"
    }
   ],
   "source": [
    "DF1=DF[(z<3).all(axis=1)]\n",
    "DF1"
   ]
  },
  {
   "cell_type": "code",
   "execution_count": 24,
   "id": "c366314f",
   "metadata": {},
   "outputs": [
    {
     "data": {
      "text/plain": [
       "1.0"
      ]
     },
     "execution_count": 24,
     "metadata": {},
     "output_type": "execute_result"
    }
   ],
   "source": [
    "Data_Loss=((200-198)/200)*100\n",
    "Data_Loss"
   ]
  },
  {
   "cell_type": "code",
   "execution_count": 25,
   "id": "e61e05ef",
   "metadata": {},
   "outputs": [
    {
     "data": {
      "text/plain": [
       "Unnamed: 0   -0.006283\n",
       "TV           -0.082332\n",
       "radio         0.114842\n",
       "newspaper     0.650112\n",
       "sales         0.407130\n",
       "dtype: float64"
      ]
     },
     "execution_count": 25,
     "metadata": {},
     "output_type": "execute_result"
    }
   ],
   "source": [
    "DF1.skew()"
   ]
  },
  {
   "cell_type": "markdown",
   "id": "3496accc",
   "metadata": {},
   "source": [
    "# Splitting Data set into Dependent and independent"
   ]
  },
  {
   "cell_type": "code",
   "execution_count": 28,
   "id": "8df3b15d",
   "metadata": {},
   "outputs": [
    {
     "data": {
      "text/html": [
       "<div>\n",
       "<style scoped>\n",
       "    .dataframe tbody tr th:only-of-type {\n",
       "        vertical-align: middle;\n",
       "    }\n",
       "\n",
       "    .dataframe tbody tr th {\n",
       "        vertical-align: top;\n",
       "    }\n",
       "\n",
       "    .dataframe thead th {\n",
       "        text-align: right;\n",
       "    }\n",
       "</style>\n",
       "<table border=\"1\" class=\"dataframe\">\n",
       "  <thead>\n",
       "    <tr style=\"text-align: right;\">\n",
       "      <th></th>\n",
       "      <th>Unnamed: 0</th>\n",
       "      <th>TV</th>\n",
       "      <th>radio</th>\n",
       "      <th>newspaper</th>\n",
       "    </tr>\n",
       "  </thead>\n",
       "  <tbody>\n",
       "    <tr>\n",
       "      <th>0</th>\n",
       "      <td>1</td>\n",
       "      <td>230.1</td>\n",
       "      <td>37.8</td>\n",
       "      <td>69.2</td>\n",
       "    </tr>\n",
       "    <tr>\n",
       "      <th>1</th>\n",
       "      <td>2</td>\n",
       "      <td>44.5</td>\n",
       "      <td>39.3</td>\n",
       "      <td>45.1</td>\n",
       "    </tr>\n",
       "    <tr>\n",
       "      <th>2</th>\n",
       "      <td>3</td>\n",
       "      <td>17.2</td>\n",
       "      <td>45.9</td>\n",
       "      <td>69.3</td>\n",
       "    </tr>\n",
       "    <tr>\n",
       "      <th>3</th>\n",
       "      <td>4</td>\n",
       "      <td>151.5</td>\n",
       "      <td>41.3</td>\n",
       "      <td>58.5</td>\n",
       "    </tr>\n",
       "    <tr>\n",
       "      <th>4</th>\n",
       "      <td>5</td>\n",
       "      <td>180.8</td>\n",
       "      <td>10.8</td>\n",
       "      <td>58.4</td>\n",
       "    </tr>\n",
       "    <tr>\n",
       "      <th>...</th>\n",
       "      <td>...</td>\n",
       "      <td>...</td>\n",
       "      <td>...</td>\n",
       "      <td>...</td>\n",
       "    </tr>\n",
       "    <tr>\n",
       "      <th>195</th>\n",
       "      <td>196</td>\n",
       "      <td>38.2</td>\n",
       "      <td>3.7</td>\n",
       "      <td>13.8</td>\n",
       "    </tr>\n",
       "    <tr>\n",
       "      <th>196</th>\n",
       "      <td>197</td>\n",
       "      <td>94.2</td>\n",
       "      <td>4.9</td>\n",
       "      <td>8.1</td>\n",
       "    </tr>\n",
       "    <tr>\n",
       "      <th>197</th>\n",
       "      <td>198</td>\n",
       "      <td>177.0</td>\n",
       "      <td>9.3</td>\n",
       "      <td>6.4</td>\n",
       "    </tr>\n",
       "    <tr>\n",
       "      <th>198</th>\n",
       "      <td>199</td>\n",
       "      <td>283.6</td>\n",
       "      <td>42.0</td>\n",
       "      <td>66.2</td>\n",
       "    </tr>\n",
       "    <tr>\n",
       "      <th>199</th>\n",
       "      <td>200</td>\n",
       "      <td>232.1</td>\n",
       "      <td>8.6</td>\n",
       "      <td>8.7</td>\n",
       "    </tr>\n",
       "  </tbody>\n",
       "</table>\n",
       "<p>200 rows × 4 columns</p>\n",
       "</div>"
      ],
      "text/plain": [
       "     Unnamed: 0     TV  radio  newspaper\n",
       "0             1  230.1   37.8       69.2\n",
       "1             2   44.5   39.3       45.1\n",
       "2             3   17.2   45.9       69.3\n",
       "3             4  151.5   41.3       58.5\n",
       "4             5  180.8   10.8       58.4\n",
       "..          ...    ...    ...        ...\n",
       "195         196   38.2    3.7       13.8\n",
       "196         197   94.2    4.9        8.1\n",
       "197         198  177.0    9.3        6.4\n",
       "198         199  283.6   42.0       66.2\n",
       "199         200  232.1    8.6        8.7\n",
       "\n",
       "[200 rows x 4 columns]"
      ]
     },
     "execution_count": 28,
     "metadata": {},
     "output_type": "execute_result"
    }
   ],
   "source": [
    "x=DF.iloc[:,:-1]\n",
    "y=DF.iloc[:,-1]\n"
   ]
  },
  {
   "cell_type": "markdown",
   "id": "3d00dee3",
   "metadata": {},
   "source": [
    "# Removing Skewness"
   ]
  },
  {
   "cell_type": "code",
   "execution_count": 29,
   "id": "813cd120",
   "metadata": {},
   "outputs": [],
   "source": [
    "from sklearn.preprocessing import power_transform\n",
    "x=power_transform(x,method='yeo-johnson')"
   ]
  },
  {
   "cell_type": "code",
   "execution_count": 30,
   "id": "42e938e5",
   "metadata": {},
   "outputs": [
    {
     "data": {
      "text/plain": [
       "0      22.1\n",
       "1      10.4\n",
       "2       9.3\n",
       "3      18.5\n",
       "4      12.9\n",
       "       ... \n",
       "195     7.6\n",
       "196     9.7\n",
       "197    12.8\n",
       "198    25.5\n",
       "199    13.4\n",
       "Name: sales, Length: 200, dtype: float64"
      ]
     },
     "execution_count": 30,
     "metadata": {},
     "output_type": "execute_result"
    }
   ],
   "source": [
    "from sklearn.preprocessing import StandardScaler\n",
    "S=StandardScaler()\n",
    "x=S.fit_transform(x)\n"
   ]
  },
  {
   "cell_type": "markdown",
   "id": "9350595c",
   "metadata": {},
   "source": [
    "# Linear Regression"
   ]
  },
  {
   "cell_type": "code",
   "execution_count": 31,
   "id": "ed47753a",
   "metadata": {},
   "outputs": [
    {
     "name": "stdout",
     "output_type": "stream",
     "text": [
      "At random state 0,the training accuracy is:- 0.9132696317827832\n",
      "At random state 0,the testing accuracy is:- 0.8811798295875324\n",
      "\n",
      "\n",
      "At random state 1,the training accuracy is:- 0.9072105743626194\n",
      "At random state 1,the testing accuracy is:- 0.8960231291085182\n",
      "\n",
      "\n",
      "At random state 2,the training accuracy is:- 0.9183791537646105\n",
      "At random state 2,the testing accuracy is:- 0.8125409856286657\n",
      "\n",
      "\n",
      "At random state 3,the training accuracy is:- 0.9045196673318758\n",
      "At random state 3,the testing accuracy is:- 0.9173593907346816\n",
      "\n",
      "\n",
      "At random state 4,the training accuracy is:- 0.9058689018042966\n",
      "At random state 4,the testing accuracy is:- 0.899597350324671\n",
      "\n",
      "\n",
      "At random state 5,the training accuracy is:- 0.9058210406242954\n",
      "At random state 5,the testing accuracy is:- 0.9109591696327539\n",
      "\n",
      "\n",
      "At random state 6,the training accuracy is:- 0.9032285318233373\n",
      "At random state 6,the testing accuracy is:- 0.9256522582734472\n",
      "\n",
      "\n",
      "At random state 7,the training accuracy is:- 0.9024397997123862\n",
      "At random state 7,the testing accuracy is:- 0.9229077207212311\n",
      "\n",
      "\n",
      "At random state 8,the training accuracy is:- 0.9161701641837613\n",
      "At random state 8,the testing accuracy is:- 0.8673699290624968\n",
      "\n",
      "\n",
      "At random state 9,the training accuracy is:- 0.9009948162208954\n",
      "At random state 9,the testing accuracy is:- 0.9315036665527836\n",
      "\n",
      "\n",
      "At random state 10,the training accuracy is:- 0.9228959572038322\n",
      "At random state 10,the testing accuracy is:- 0.8656389761729961\n",
      "\n",
      "\n",
      "At random state 11,the training accuracy is:- 0.913382858558131\n",
      "At random state 11,the testing accuracy is:- 0.8801465088792008\n",
      "\n",
      "\n",
      "At random state 12,the training accuracy is:- 0.9032347370654114\n",
      "At random state 12,the testing accuracy is:- 0.9171824281306025\n",
      "\n",
      "\n",
      "At random state 13,the training accuracy is:- 0.8976842425454951\n",
      "At random state 13,the testing accuracy is:- 0.9395398598793022\n",
      "\n",
      "\n",
      "At random state 14,the training accuracy is:- 0.9123609695655006\n",
      "At random state 14,the testing accuracy is:- 0.8855905143721574\n",
      "\n",
      "\n",
      "At random state 15,the training accuracy is:- 0.9106703681020444\n",
      "At random state 15,the testing accuracy is:- 0.8917883456663133\n",
      "\n",
      "\n",
      "At random state 16,the training accuracy is:- 0.9008810518785906\n",
      "At random state 16,the testing accuracy is:- 0.9378206786441813\n",
      "\n",
      "\n",
      "At random state 17,the training accuracy is:- 0.9143840581414919\n",
      "At random state 17,the testing accuracy is:- 0.8694459458330455\n",
      "\n",
      "\n",
      "At random state 18,the training accuracy is:- 0.914431893291321\n",
      "At random state 18,the testing accuracy is:- 0.8851778650899063\n",
      "\n",
      "\n",
      "At random state 19,the training accuracy is:- 0.9091654687062676\n",
      "At random state 19,the testing accuracy is:- 0.8899029017408377\n",
      "\n",
      "\n",
      "At random state 20,the training accuracy is:- 0.9041456149801351\n",
      "At random state 20,the testing accuracy is:- 0.9139308488278132\n",
      "\n",
      "\n",
      "At random state 21,the training accuracy is:- 0.906507074101123\n",
      "At random state 21,the testing accuracy is:- 0.901981279276633\n",
      "\n",
      "\n",
      "At random state 22,the training accuracy is:- 0.9010681915443437\n",
      "At random state 22,the testing accuracy is:- 0.925716010811547\n",
      "\n",
      "\n",
      "At random state 23,the training accuracy is:- 0.9052739818310518\n",
      "At random state 23,the testing accuracy is:- 0.911735250844626\n",
      "\n",
      "\n",
      "At random state 24,the training accuracy is:- 0.9047474810205388\n",
      "At random state 24,the testing accuracy is:- 0.9157931428498863\n",
      "\n",
      "\n",
      "At random state 25,the training accuracy is:- 0.9110242708846025\n",
      "At random state 25,the testing accuracy is:- 0.8844023076626314\n",
      "\n",
      "\n",
      "At random state 26,the training accuracy is:- 0.9101576523392791\n",
      "At random state 26,the testing accuracy is:- 0.880556265153977\n",
      "\n",
      "\n",
      "At random state 27,the training accuracy is:- 0.9061827188021865\n",
      "At random state 27,the testing accuracy is:- 0.9116652776181646\n",
      "\n",
      "\n",
      "At random state 28,the training accuracy is:- 0.9075739872710372\n",
      "At random state 28,the testing accuracy is:- 0.9031107257573356\n",
      "\n",
      "\n",
      "At random state 29,the training accuracy is:- 0.9019786233104882\n",
      "At random state 29,the testing accuracy is:- 0.9177237032555091\n",
      "\n",
      "\n",
      "At random state 30,the training accuracy is:- 0.9032621478744888\n",
      "At random state 30,the testing accuracy is:- 0.9178747075097915\n",
      "\n",
      "\n",
      "At random state 31,the training accuracy is:- 0.901173281793356\n",
      "At random state 31,the testing accuracy is:- 0.9203996681091025\n",
      "\n",
      "\n",
      "At random state 32,the training accuracy is:- 0.9185575279776446\n",
      "At random state 32,the testing accuracy is:- 0.8354209876346677\n",
      "\n",
      "\n",
      "At random state 33,the training accuracy is:- 0.9108246367907794\n",
      "At random state 33,the testing accuracy is:- 0.8781105696198649\n",
      "\n",
      "\n",
      "At random state 34,the training accuracy is:- 0.9117992025328823\n",
      "At random state 34,the testing accuracy is:- 0.8839105964444823\n",
      "\n",
      "\n",
      "At random state 35,the training accuracy is:- 0.9171689148059734\n",
      "At random state 35,the testing accuracy is:- 0.8407056021397212\n",
      "\n",
      "\n",
      "At random state 36,the training accuracy is:- 0.9018761047982873\n",
      "At random state 36,the testing accuracy is:- 0.926088721765547\n",
      "\n",
      "\n",
      "At random state 37,the training accuracy is:- 0.9112640161494749\n",
      "At random state 37,the testing accuracy is:- 0.8879860199479348\n",
      "\n",
      "\n",
      "At random state 38,the training accuracy is:- 0.908074249458252\n",
      "At random state 38,the testing accuracy is:- 0.8989088474661401\n",
      "\n",
      "\n",
      "At random state 39,the training accuracy is:- 0.914794013876986\n",
      "At random state 39,the testing accuracy is:- 0.8614464226574906\n",
      "\n",
      "\n",
      "At random state 40,the training accuracy is:- 0.9190000179478812\n",
      "At random state 40,the testing accuracy is:- 0.8528724040858588\n",
      "\n",
      "\n",
      "At random state 41,the training accuracy is:- 0.9102308935355805\n",
      "At random state 41,the testing accuracy is:- 0.8936723878042369\n",
      "\n",
      "\n",
      "At random state 42,the training accuracy is:- 0.9051780878831215\n",
      "At random state 42,the testing accuracy is:- 0.9123293980646165\n",
      "\n",
      "\n",
      "At random state 43,the training accuracy is:- 0.9005641579658616\n",
      "At random state 43,the testing accuracy is:- 0.9314543195282884\n",
      "\n",
      "\n",
      "At random state 44,the training accuracy is:- 0.9118615584650167\n",
      "At random state 44,the testing accuracy is:- 0.8743069082801771\n",
      "\n",
      "\n",
      "At random state 45,the training accuracy is:- 0.9059284580298861\n",
      "At random state 45,the testing accuracy is:- 0.9066829243815312\n",
      "\n",
      "\n",
      "At random state 46,the training accuracy is:- 0.9130562383306332\n",
      "At random state 46,the testing accuracy is:- 0.8656551354795379\n",
      "\n",
      "\n",
      "At random state 47,the training accuracy is:- 0.9079014935455618\n",
      "At random state 47,the testing accuracy is:- 0.9004334770207769\n",
      "\n",
      "\n",
      "At random state 48,the training accuracy is:- 0.9021885794850497\n",
      "At random state 48,the testing accuracy is:- 0.9240795028547224\n",
      "\n",
      "\n",
      "At random state 49,the training accuracy is:- 0.921393998793521\n",
      "At random state 49,the testing accuracy is:- 0.8430516320854966\n",
      "\n",
      "\n",
      "At random state 50,the training accuracy is:- 0.9120106271303889\n",
      "At random state 50,the testing accuracy is:- 0.8536737101537683\n",
      "\n",
      "\n",
      "At random state 51,the training accuracy is:- 0.906208966050906\n",
      "At random state 51,the testing accuracy is:- 0.9043004306655431\n",
      "\n",
      "\n",
      "At random state 52,the training accuracy is:- 0.9161504336628442\n",
      "At random state 52,the testing accuracy is:- 0.8775478867629363\n",
      "\n",
      "\n",
      "At random state 53,the training accuracy is:- 0.8990001074842987\n",
      "At random state 53,the testing accuracy is:- 0.936161115519467\n",
      "\n",
      "\n",
      "At random state 54,the training accuracy is:- 0.9015757632646249\n",
      "At random state 54,the testing accuracy is:- 0.9299890052552361\n",
      "\n",
      "\n",
      "At random state 55,the training accuracy is:- 0.9036115395900298\n",
      "At random state 55,the testing accuracy is:- 0.9164618612381474\n",
      "\n",
      "\n",
      "At random state 56,the training accuracy is:- 0.9079061068592746\n",
      "At random state 56,the testing accuracy is:- 0.9042139947758833\n",
      "\n",
      "\n",
      "At random state 57,the training accuracy is:- 0.8953260598600097\n",
      "At random state 57,the testing accuracy is:- 0.9430149310079687\n",
      "\n",
      "\n",
      "At random state 58,the training accuracy is:- 0.920336090576601\n",
      "At random state 58,the testing accuracy is:- 0.8605154500078007\n",
      "\n",
      "\n",
      "At random state 59,the training accuracy is:- 0.903908516850038\n",
      "At random state 59,the testing accuracy is:- 0.9184856839003348\n",
      "\n",
      "\n",
      "At random state 60,the training accuracy is:- 0.9009570408725365\n",
      "At random state 60,the testing accuracy is:- 0.9263832246824192\n",
      "\n",
      "\n",
      "At random state 61,the training accuracy is:- 0.9096437534604057\n",
      "At random state 61,the testing accuracy is:- 0.8884297176492026\n",
      "\n",
      "\n",
      "At random state 62,the training accuracy is:- 0.9174957326268591\n",
      "At random state 62,the testing accuracy is:- 0.8692820912184377\n",
      "\n",
      "\n",
      "At random state 63,the training accuracy is:- 0.9042397705788163\n",
      "At random state 63,the testing accuracy is:- 0.9206500916941086\n",
      "\n",
      "\n",
      "At random state 64,the training accuracy is:- 0.907979881212321\n",
      "At random state 64,the testing accuracy is:- 0.8957097087708771\n",
      "\n",
      "\n",
      "At random state 65,the training accuracy is:- 0.9043141068011872\n",
      "At random state 65,the testing accuracy is:- 0.9181170828823912\n",
      "\n",
      "\n",
      "At random state 66,the training accuracy is:- 0.9102465424877649\n",
      "At random state 66,the testing accuracy is:- 0.8921116640488113\n",
      "\n",
      "\n",
      "At random state 67,the training accuracy is:- 0.9111578029497549\n",
      "At random state 67,the testing accuracy is:- 0.8874133304230631\n",
      "\n",
      "\n",
      "At random state 68,the training accuracy is:- 0.9140022834299262\n",
      "At random state 68,the testing accuracy is:- 0.8564709693563402\n",
      "\n",
      "\n",
      "At random state 69,the training accuracy is:- 0.9017073555293748\n",
      "At random state 69,the testing accuracy is:- 0.9162412982302381\n",
      "\n",
      "\n",
      "At random state 70,the training accuracy is:- 0.9000572763771768\n",
      "At random state 70,the testing accuracy is:- 0.9236239412531815\n",
      "\n",
      "\n"
     ]
    },
    {
     "name": "stdout",
     "output_type": "stream",
     "text": [
      "At random state 71,the training accuracy is:- 0.9189792060396488\n",
      "At random state 71,the testing accuracy is:- 0.8598689497110676\n",
      "\n",
      "\n",
      "At random state 72,the training accuracy is:- 0.9020799850151131\n",
      "At random state 72,the testing accuracy is:- 0.924322917596631\n",
      "\n",
      "\n",
      "At random state 73,the training accuracy is:- 0.9139519011207577\n",
      "At random state 73,the testing accuracy is:- 0.8710500126448035\n",
      "\n",
      "\n",
      "At random state 74,the training accuracy is:- 0.9062419031879947\n",
      "At random state 74,the testing accuracy is:- 0.8970659393286855\n",
      "\n",
      "\n",
      "At random state 75,the training accuracy is:- 0.9043301318643515\n",
      "At random state 75,the testing accuracy is:- 0.9186982729174766\n",
      "\n",
      "\n",
      "At random state 76,the training accuracy is:- 0.9167938672322122\n",
      "At random state 76,the testing accuracy is:- 0.785274673996695\n",
      "\n",
      "\n",
      "At random state 77,the training accuracy is:- 0.9009126848212656\n",
      "At random state 77,the testing accuracy is:- 0.9291153778871191\n",
      "\n",
      "\n",
      "At random state 78,the training accuracy is:- 0.9053316667363762\n",
      "At random state 78,the testing accuracy is:- 0.916850938144522\n",
      "\n",
      "\n",
      "At random state 79,the training accuracy is:- 0.9061529328174028\n",
      "At random state 79,the testing accuracy is:- 0.8999735561781363\n",
      "\n",
      "\n",
      "At random state 80,the training accuracy is:- 0.9179362451777823\n",
      "At random state 80,the testing accuracy is:- 0.8525754034142701\n",
      "\n",
      "\n",
      "At random state 81,the training accuracy is:- 0.9078571841877308\n",
      "At random state 81,the testing accuracy is:- 0.9006164078022163\n",
      "\n",
      "\n",
      "At random state 82,the training accuracy is:- 0.9207776444173364\n",
      "At random state 82,the testing accuracy is:- 0.836929305981882\n",
      "\n",
      "\n",
      "At random state 83,the training accuracy is:- 0.8958194452363919\n",
      "At random state 83,the testing accuracy is:- 0.942763725161352\n",
      "\n",
      "\n",
      "At random state 84,the training accuracy is:- 0.9035648264364531\n",
      "At random state 84,the testing accuracy is:- 0.9209481028323205\n",
      "\n",
      "\n",
      "At random state 85,the training accuracy is:- 0.9129870455154502\n",
      "At random state 85,the testing accuracy is:- 0.8816585972707109\n",
      "\n",
      "\n",
      "At random state 86,the training accuracy is:- 0.9071408263708208\n",
      "At random state 86,the testing accuracy is:- 0.9075874799574031\n",
      "\n",
      "\n",
      "At random state 87,the training accuracy is:- 0.9140598670915698\n",
      "At random state 87,the testing accuracy is:- 0.8245869815802914\n",
      "\n",
      "\n",
      "At random state 88,the training accuracy is:- 0.9141269383327261\n",
      "At random state 88,the testing accuracy is:- 0.873437194893743\n",
      "\n",
      "\n",
      "At random state 89,the training accuracy is:- 0.9122331362069449\n",
      "At random state 89,the testing accuracy is:- 0.875231571976956\n",
      "\n",
      "\n",
      "At random state 90,the training accuracy is:- 0.912101426127173\n",
      "At random state 90,the testing accuracy is:- 0.8704926109760619\n",
      "\n",
      "\n",
      "At random state 91,the training accuracy is:- 0.9000751298433732\n",
      "At random state 91,the testing accuracy is:- 0.9054506536043773\n",
      "\n",
      "\n",
      "At random state 92,the training accuracy is:- 0.898455729955919\n",
      "At random state 92,the testing accuracy is:- 0.9314637529618983\n",
      "\n",
      "\n",
      "At random state 93,the training accuracy is:- 0.9049642845352135\n",
      "At random state 93,the testing accuracy is:- 0.9147000749798527\n",
      "\n",
      "\n",
      "At random state 94,the training accuracy is:- 0.9159882717514434\n",
      "At random state 94,the testing accuracy is:- 0.8763289744667537\n",
      "\n",
      "\n",
      "At random state 95,the training accuracy is:- 0.9087651005801993\n",
      "At random state 95,the testing accuracy is:- 0.8846928945161144\n",
      "\n",
      "\n",
      "At random state 96,the training accuracy is:- 0.9125500660346109\n",
      "At random state 96,the testing accuracy is:- 0.8756515864067448\n",
      "\n",
      "\n",
      "At random state 97,the training accuracy is:- 0.9006017215396461\n",
      "At random state 97,the testing accuracy is:- 0.9209775286286079\n",
      "\n",
      "\n",
      "At random state 98,the training accuracy is:- 0.8966424401943857\n",
      "At random state 98,the testing accuracy is:- 0.9369525877705369\n",
      "\n",
      "\n",
      "At random state 99,the training accuracy is:- 0.9011370121232017\n",
      "At random state 99,the testing accuracy is:- 0.9288899375559658\n",
      "\n",
      "\n"
     ]
    }
   ],
   "source": [
    "from sklearn.linear_model import LinearRegression\n",
    "LR=LinearRegression()\n",
    "from sklearn.metrics import r2_score\n",
    "from sklearn.model_selection import train_test_split\n",
    "for i in range(0,100):\n",
    "    x_train,x_test,y_train,y_test=train_test_split(x,y,test_size=0.2,random_state=i)\n",
    "    LR.fit(x_train,y_train)\n",
    "    pred_train=LR.predict(x_train)\n",
    "    pred_test=LR.predict(x_test)\n",
    "    print(f\"At random state {i},the training accuracy is:- {r2_score(y_train,pred_train)}\")\n",
    "    print(f\"At random state {i},the testing accuracy is:- {r2_score(y_test,pred_test)}\")\n",
    "    print(\"\\n\")"
   ]
  },
  {
   "cell_type": "code",
   "execution_count": 32,
   "id": "de8c3e2d",
   "metadata": {},
   "outputs": [],
   "source": [
    "x_train,x_test,y_train,y_test=train_test_split(x,y,test_size=0.2,random_state=86)"
   ]
  },
  {
   "cell_type": "code",
   "execution_count": 33,
   "id": "63bd38de",
   "metadata": {},
   "outputs": [
    {
     "name": "stdout",
     "output_type": "stream",
     "text": [
      "0.9075874799574031\n"
     ]
    }
   ],
   "source": [
    "LR.fit(x_train,y_train)\n",
    "pred_test=LR.predict(x_test)\n",
    "print(r2_score(y_test,pred_test))"
   ]
  },
  {
   "cell_type": "code",
   "execution_count": 35,
   "id": "4bf88bef",
   "metadata": {},
   "outputs": [
    {
     "name": "stdout",
     "output_type": "stream",
     "text": [
      "At cross fold 2 the cv score is 0.8870253267919482 and accuracy score for training is -0.937120016085079 and accuracy for the testing is 0.9075874799574031\n",
      "\n",
      "\n",
      "At cross fold 3 the cv score is 0.8997214482695925 and accuracy score for training is -0.937120016085079 and accuracy for the testing is 0.9075874799574031\n",
      "\n",
      "\n",
      "At cross fold 4 the cv score is 0.8956922491130903 and accuracy score for training is -0.937120016085079 and accuracy for the testing is 0.9075874799574031\n",
      "\n",
      "\n",
      "At cross fold 5 the cv score is 0.8953473674194841 and accuracy score for training is -0.937120016085079 and accuracy for the testing is 0.9075874799574031\n",
      "\n",
      "\n",
      "At cross fold 6 the cv score is 0.8989475213938137 and accuracy score for training is -0.937120016085079 and accuracy for the testing is 0.9075874799574031\n",
      "\n",
      "\n",
      "At cross fold 7 the cv score is 0.8941723706624096 and accuracy score for training is -0.937120016085079 and accuracy for the testing is 0.9075874799574031\n",
      "\n",
      "\n",
      "At cross fold 8 the cv score is 0.891699359391172 and accuracy score for training is -0.937120016085079 and accuracy for the testing is 0.9075874799574031\n",
      "\n",
      "\n",
      "At cross fold 9 the cv score is 0.8933665603725781 and accuracy score for training is -0.937120016085079 and accuracy for the testing is 0.9075874799574031\n",
      "\n",
      "\n"
     ]
    }
   ],
   "source": [
    "Accuracy_Train=r2_score(y_train,pred_train)\n",
    "Accuracy_Test=r2_score(y_test,pred_test)\n",
    "\n",
    "from sklearn.model_selection import cross_val_score\n",
    "for j in range(2,10):\n",
    "    cvscore=cross_val_score(LR,x,y,cv=j)\n",
    "    cvmean=cvscore.mean()\n",
    "    print(f\"At cross fold {j} the cv score is {cvmean} and accuracy score for training is {Accuracy_Train} and accuracy for the testing is {Accuracy_Test}\")\n",
    "    print(\"\\n\")"
   ]
  },
  {
   "cell_type": "markdown",
   "id": "f395221e",
   "metadata": {},
   "source": [
    "we will take CV=3 as thats the highest score"
   ]
  },
  {
   "cell_type": "code",
   "execution_count": 39,
   "id": "6e40fc4c",
   "metadata": {},
   "outputs": [
    {
     "data": {
      "text/plain": [
       "[<matplotlib.lines.Line2D at 0x15be02bdb20>]"
      ]
     },
     "execution_count": 39,
     "metadata": {},
     "output_type": "execute_result"
    },
    {
     "data": {
      "image/png": "[encoded data removed]",
      "text/plain": [
       "<Figure size 576x432 with 1 Axes>"
      ]
     },
     "metadata": {
      "needs_background": "light"
     },
     "output_type": "display_data"
    }
   ],
   "source": [
    "plt.figure(figsize=(8,6))\n",
    "plt.scatter(x=y_test, y=pred_test, color='r')\n",
    "plt.plot(y_test,y_test, color='b')"
   ]
  },
  {
   "cell_type": "code",
   "execution_count": 40,
   "id": "8c37ee08",
   "metadata": {},
   "outputs": [],
   "source": [
    "from sklearn.model_selection import GridSearchCV\n",
    "from sklearn.model_selection import cross_val_score"
   ]
  },
  {
   "cell_type": "code",
   "execution_count": 42,
   "id": "1551c510",
   "metadata": {},
   "outputs": [
    {
     "name": "stdout",
     "output_type": "stream",
     "text": [
      "{'alpha': 0.1, 'precompute': False, 'random_state': 86, 'selection': 'cyclic'}\n"
     ]
    }
   ],
   "source": [
    "from sklearn.linear_model import Lasso\n",
    "\n",
    "parameters = {'alpha':[.0001, .001, .01, .1, 1, 10],'random_state':[86],'selection':[\"cyclic\",\"random\"],'precompute':[True,False]}\n",
    "Las= Lasso()\n",
    "FitParameters= GridSearchCV(Las,parameters)\n",
    "FitParameters.fit(x_train,y_train)\n",
    "\n",
    "print(FitParameters.best_params_)"
   ]
  },
  {
   "cell_type": "code",
   "execution_count": 43,
   "id": "60d640ee",
   "metadata": {},
   "outputs": [
    {
     "data": {
      "text/plain": [
       "0.9105592638574331"
      ]
     },
     "execution_count": 43,
     "metadata": {},
     "output_type": "execute_result"
    }
   ],
   "source": [
    "Las = Lasso(alpha=0.1,random_state=86,precompute=False,selection=\"cyclic\")\n",
    "Las.fit(x_train,y_train)\n",
    "Las.score(x_train,y_train)\n",
    "pred_lasso = Las.predict(x_test)\n",
    "\n",
    "Lasso = r2_score(y_test,pred_lasso)\n",
    "Lasso"
   ]
  },
  {
   "cell_type": "code",
   "execution_count": 44,
   "id": "0acc946f",
   "metadata": {},
   "outputs": [
    {
     "data": {
      "text/plain": [
       "0.9004583781420856"
      ]
     },
     "execution_count": 44,
     "metadata": {},
     "output_type": "execute_result"
    }
   ],
   "source": [
    "cvscore=cross_val_score(Las,x,y,cv=3)\n",
    "cvmean=cvscore.mean()\n",
    "cvmean"
   ]
  },
  {
   "cell_type": "markdown",
   "id": "d8ccbe49",
   "metadata": {},
   "source": [
    "# Ensemble Technique - Random Forest"
   ]
  },
  {
   "cell_type": "code",
   "execution_count": 45,
   "id": "4805d4c2",
   "metadata": {},
   "outputs": [
    {
     "name": "stdout",
     "output_type": "stream",
     "text": [
      "{'bootstrap': True, 'criterion': 'mae', 'max_features': 'auto', 'random_state': 86}\n"
     ]
    }
   ],
   "source": [
    "from sklearn.model_selection import GridSearchCV\n",
    "from sklearn.ensemble import RandomForestRegressor\n",
    "parameters = {'criterion':['mse', 'mae'],'max_features':[\"auto\", \"sqrt\", \"log2\"],'random_state':[86],'bootstrap':[True,False]}\n",
    "rf =RandomForestRegressor()\n",
    "FitParameters = GridSearchCV(rf,parameters)\n",
    "FitParameters.fit(x_train,y_train)\n",
    "print(FitParameters.best_params_)"
   ]
  },
  {
   "cell_type": "code",
   "execution_count": 47,
   "id": "e73b6dde",
   "metadata": {},
   "outputs": [
    {
     "name": "stdout",
     "output_type": "stream",
     "text": [
      "R2 Score: 98.47669361498335\n",
      "Cross Val Score: 97.06531957344522\n"
     ]
    }
   ],
   "source": [
    "rf= RandomForestRegressor(criterion=\"mae\",max_features=\"auto\",random_state=86,bootstrap=True)\n",
    "rf.fit(x_train, y_train)\n",
    "rf.score(x_train, y_train)\n",
    "pred_decision = rf.predict(x_test)\n",
    "\n",
    "rfs = r2_score(y_test,pred_decision)\n",
    "print('R2 Score:',rfs*100)\n",
    "\n",
    "rfscore = cross_val_score(rf,x_train,y_train,cv=3)\n",
    "rfc = rfscore.mean()\n",
    "print('Cross Val Score:',rfc*100)"
   ]
  },
  {
   "cell_type": "markdown",
   "id": "82b9ccee",
   "metadata": {},
   "source": [
    "# Decision Tree"
   ]
  },
  {
   "cell_type": "code",
   "execution_count": 48,
   "id": "582b1bd8",
   "metadata": {},
   "outputs": [
    {
     "name": "stdout",
     "output_type": "stream",
     "text": [
      "{'criterion': 'mae', 'max_features': 'auto', 'random_state': 86, 'splitter': 'best'}\n"
     ]
    }
   ],
   "source": [
    "from sklearn.tree import DecisionTreeRegressor\n",
    "\n",
    "parameters = {'criterion':['mse', 'friedman_mse', 'mae','poisson'], 'splitter':['best', 'random'],'max_features':[\"auto\",\"sqrt\",\"log2\"],'random_state':[86]}\n",
    "dt =DecisionTreeRegressor()\n",
    "clf = GridSearchCV(dt,parameters)\n",
    "clf.fit(x_train,y_train)\n",
    "print(clf.best_params_)"
   ]
  },
  {
   "cell_type": "code",
   "execution_count": 49,
   "id": "e570455c",
   "metadata": {},
   "outputs": [
    {
     "name": "stdout",
     "output_type": "stream",
     "text": [
      "R2 Score: 95.50521971634211\n",
      "Cross Val Score: 90.30654190225968\n"
     ]
    }
   ],
   "source": [
    "DTR = DecisionTreeRegressor(criterion='mae', splitter='best',random_state=86,max_features='auto')\n",
    "DTR.fit(x_train,y_train)\n",
    "DTR.score(x_train,y_train)\n",
    "pred_decision = DTR.predict(x_test)\n",
    "\n",
    "dts = r2_score(y_test,pred_decision)\n",
    "print('R2 Score:',dts*100)\n",
    "\n",
    "dtscore = cross_val_score(DTR,x_train,y_train,cv=3)\n",
    "dtc = dtscore.mean() \n",
    "print('Cross Val Score:',dtc*100)"
   ]
  },
  {
   "cell_type": "markdown",
   "id": "b294e08e",
   "metadata": {},
   "source": [
    "From the above results we conclude that Random Forest is the best fit"
   ]
  },
  {
   "cell_type": "code",
   "execution_count": 52,
   "id": "8c90fef4",
   "metadata": {},
   "outputs": [],
   "source": [
    "import pickle\n",
    "filename = 'asc.pkl'\n",
    "pickle.dump(rf, open(filename, 'wb'))"
   ]
  },
  {
   "cell_type": "code",
   "execution_count": 54,
   "id": "6570a236",
   "metadata": {},
   "outputs": [
    {
     "data": {
      "text/plain": [
       "array([20.2, 14.5,  8.7, 21.4, 15.9, 23.7, 10.4, 11.6,  5.7,  9.2,  7.6,\n",
       "       11.5,  9.5, 17. , 17.6,  6.7,  9.6, 13.4, 14.7, 13.6, 15. , 15.5,\n",
       "        4.8, 15.9, 11.9, 14.6,  8.8, 16.6, 14.8, 21.5, 21.7, 12.2, 15.2,\n",
       "       19.6, 26.2, 11.5,  7.2, 11.3, 11.4, 12.7])"
      ]
     },
     "execution_count": 54,
     "metadata": {},
     "output_type": "execute_result"
    }
   ],
   "source": [
    "import numpy as np\n",
    "a=np.array(y_test)\n",
    "a"
   ]
  },
  {
   "cell_type": "code",
   "execution_count": 55,
   "id": "8387fcab",
   "metadata": {},
   "outputs": [
    {
     "data": {
      "text/plain": [
       "array([19.968, 14.785,  8.995, 20.396, 16.343, 22.799, 11.172, 12.023,\n",
       "        5.41 ,  8.485,  8.691, 12.023,  9.422, 17.255, 16.739,  6.694,\n",
       "        9.488, 12.576, 13.625, 13.006, 16.161, 15.505,  5.106, 15.755,\n",
       "       12.64 , 14.976,  8.358, 16.074, 13.931, 21.948, 22.21 , 12.107,\n",
       "       14.899, 18.641, 25.191, 11.851,  7.282, 11.235, 11.701, 11.752])"
      ]
     },
     "execution_count": 55,
     "metadata": {},
     "output_type": "execute_result"
    }
   ],
   "source": [
    "predicted=np.array(rf.predict(x_test))\n",
    "predicted"
   ]
  },
  {
   "cell_type": "code",
   "execution_count": 56,
   "id": "cd10e018",
   "metadata": {},
   "outputs": [],
   "source": [
    "conclusion=pd.DataFrame({\"original\":a,\"predicted\":predicted}, index= range(len(a)))"
   ]
  },
  {
   "cell_type": "code",
   "execution_count": 57,
   "id": "0c60b383",
   "metadata": {},
   "outputs": [
    {
     "data": {
      "text/html": [
       "<div>\n",
       "<style scoped>\n",
       "    .dataframe tbody tr th:only-of-type {\n",
       "        vertical-align: middle;\n",
       "    }\n",
       "\n",
       "    .dataframe tbody tr th {\n",
       "        vertical-align: top;\n",
       "    }\n",
       "\n",
       "    .dataframe thead th {\n",
       "        text-align: right;\n",
       "    }\n",
       "</style>\n",
       "<table border=\"1\" class=\"dataframe\">\n",
       "  <thead>\n",
       "    <tr style=\"text-align: right;\">\n",
       "      <th></th>\n",
       "      <th>original</th>\n",
       "      <th>predicted</th>\n",
       "    </tr>\n",
       "  </thead>\n",
       "  <tbody>\n",
       "    <tr>\n",
       "      <th>0</th>\n",
       "      <td>20.2</td>\n",
       "      <td>19.968</td>\n",
       "    </tr>\n",
       "    <tr>\n",
       "      <th>1</th>\n",
       "      <td>14.5</td>\n",
       "      <td>14.785</td>\n",
       "    </tr>\n",
       "    <tr>\n",
       "      <th>2</th>\n",
       "      <td>8.7</td>\n",
       "      <td>8.995</td>\n",
       "    </tr>\n",
       "    <tr>\n",
       "      <th>3</th>\n",
       "      <td>21.4</td>\n",
       "      <td>20.396</td>\n",
       "    </tr>\n",
       "    <tr>\n",
       "      <th>4</th>\n",
       "      <td>15.9</td>\n",
       "      <td>16.343</td>\n",
       "    </tr>\n",
       "    <tr>\n",
       "      <th>5</th>\n",
       "      <td>23.7</td>\n",
       "      <td>22.799</td>\n",
       "    </tr>\n",
       "    <tr>\n",
       "      <th>6</th>\n",
       "      <td>10.4</td>\n",
       "      <td>11.172</td>\n",
       "    </tr>\n",
       "    <tr>\n",
       "      <th>7</th>\n",
       "      <td>11.6</td>\n",
       "      <td>12.023</td>\n",
       "    </tr>\n",
       "    <tr>\n",
       "      <th>8</th>\n",
       "      <td>5.7</td>\n",
       "      <td>5.410</td>\n",
       "    </tr>\n",
       "    <tr>\n",
       "      <th>9</th>\n",
       "      <td>9.2</td>\n",
       "      <td>8.485</td>\n",
       "    </tr>\n",
       "    <tr>\n",
       "      <th>10</th>\n",
       "      <td>7.6</td>\n",
       "      <td>8.691</td>\n",
       "    </tr>\n",
       "    <tr>\n",
       "      <th>11</th>\n",
       "      <td>11.5</td>\n",
       "      <td>12.023</td>\n",
       "    </tr>\n",
       "    <tr>\n",
       "      <th>12</th>\n",
       "      <td>9.5</td>\n",
       "      <td>9.422</td>\n",
       "    </tr>\n",
       "    <tr>\n",
       "      <th>13</th>\n",
       "      <td>17.0</td>\n",
       "      <td>17.255</td>\n",
       "    </tr>\n",
       "    <tr>\n",
       "      <th>14</th>\n",
       "      <td>17.6</td>\n",
       "      <td>16.739</td>\n",
       "    </tr>\n",
       "    <tr>\n",
       "      <th>15</th>\n",
       "      <td>6.7</td>\n",
       "      <td>6.694</td>\n",
       "    </tr>\n",
       "    <tr>\n",
       "      <th>16</th>\n",
       "      <td>9.6</td>\n",
       "      <td>9.488</td>\n",
       "    </tr>\n",
       "    <tr>\n",
       "      <th>17</th>\n",
       "      <td>13.4</td>\n",
       "      <td>12.576</td>\n",
       "    </tr>\n",
       "    <tr>\n",
       "      <th>18</th>\n",
       "      <td>14.7</td>\n",
       "      <td>13.625</td>\n",
       "    </tr>\n",
       "    <tr>\n",
       "      <th>19</th>\n",
       "      <td>13.6</td>\n",
       "      <td>13.006</td>\n",
       "    </tr>\n",
       "    <tr>\n",
       "      <th>20</th>\n",
       "      <td>15.0</td>\n",
       "      <td>16.161</td>\n",
       "    </tr>\n",
       "    <tr>\n",
       "      <th>21</th>\n",
       "      <td>15.5</td>\n",
       "      <td>15.505</td>\n",
       "    </tr>\n",
       "    <tr>\n",
       "      <th>22</th>\n",
       "      <td>4.8</td>\n",
       "      <td>5.106</td>\n",
       "    </tr>\n",
       "    <tr>\n",
       "      <th>23</th>\n",
       "      <td>15.9</td>\n",
       "      <td>15.755</td>\n",
       "    </tr>\n",
       "    <tr>\n",
       "      <th>24</th>\n",
       "      <td>11.9</td>\n",
       "      <td>12.640</td>\n",
       "    </tr>\n",
       "    <tr>\n",
       "      <th>25</th>\n",
       "      <td>14.6</td>\n",
       "      <td>14.976</td>\n",
       "    </tr>\n",
       "    <tr>\n",
       "      <th>26</th>\n",
       "      <td>8.8</td>\n",
       "      <td>8.358</td>\n",
       "    </tr>\n",
       "    <tr>\n",
       "      <th>27</th>\n",
       "      <td>16.6</td>\n",
       "      <td>16.074</td>\n",
       "    </tr>\n",
       "    <tr>\n",
       "      <th>28</th>\n",
       "      <td>14.8</td>\n",
       "      <td>13.931</td>\n",
       "    </tr>\n",
       "    <tr>\n",
       "      <th>29</th>\n",
       "      <td>21.5</td>\n",
       "      <td>21.948</td>\n",
       "    </tr>\n",
       "    <tr>\n",
       "      <th>30</th>\n",
       "      <td>21.7</td>\n",
       "      <td>22.210</td>\n",
       "    </tr>\n",
       "    <tr>\n",
       "      <th>31</th>\n",
       "      <td>12.2</td>\n",
       "      <td>12.107</td>\n",
       "    </tr>\n",
       "    <tr>\n",
       "      <th>32</th>\n",
       "      <td>15.2</td>\n",
       "      <td>14.899</td>\n",
       "    </tr>\n",
       "    <tr>\n",
       "      <th>33</th>\n",
       "      <td>19.6</td>\n",
       "      <td>18.641</td>\n",
       "    </tr>\n",
       "    <tr>\n",
       "      <th>34</th>\n",
       "      <td>26.2</td>\n",
       "      <td>25.191</td>\n",
       "    </tr>\n",
       "    <tr>\n",
       "      <th>35</th>\n",
       "      <td>11.5</td>\n",
       "      <td>11.851</td>\n",
       "    </tr>\n",
       "    <tr>\n",
       "      <th>36</th>\n",
       "      <td>7.2</td>\n",
       "      <td>7.282</td>\n",
       "    </tr>\n",
       "    <tr>\n",
       "      <th>37</th>\n",
       "      <td>11.3</td>\n",
       "      <td>11.235</td>\n",
       "    </tr>\n",
       "    <tr>\n",
       "      <th>38</th>\n",
       "      <td>11.4</td>\n",
       "      <td>11.701</td>\n",
       "    </tr>\n",
       "    <tr>\n",
       "      <th>39</th>\n",
       "      <td>12.7</td>\n",
       "      <td>11.752</td>\n",
       "    </tr>\n",
       "  </tbody>\n",
       "</table>\n",
       "</div>"
      ],
      "text/plain": [
       "    original  predicted\n",
       "0       20.2     19.968\n",
       "1       14.5     14.785\n",
       "2        8.7      8.995\n",
       "3       21.4     20.396\n",
       "4       15.9     16.343\n",
       "5       23.7     22.799\n",
       "6       10.4     11.172\n",
       "7       11.6     12.023\n",
       "8        5.7      5.410\n",
       "9        9.2      8.485\n",
       "10       7.6      8.691\n",
       "11      11.5     12.023\n",
       "12       9.5      9.422\n",
       "13      17.0     17.255\n",
       "14      17.6     16.739\n",
       "15       6.7      6.694\n",
       "16       9.6      9.488\n",
       "17      13.4     12.576\n",
       "18      14.7     13.625\n",
       "19      13.6     13.006\n",
       "20      15.0     16.161\n",
       "21      15.5     15.505\n",
       "22       4.8      5.106\n",
       "23      15.9     15.755\n",
       "24      11.9     12.640\n",
       "25      14.6     14.976\n",
       "26       8.8      8.358\n",
       "27      16.6     16.074\n",
       "28      14.8     13.931\n",
       "29      21.5     21.948\n",
       "30      21.7     22.210\n",
       "31      12.2     12.107\n",
       "32      15.2     14.899\n",
       "33      19.6     18.641\n",
       "34      26.2     25.191\n",
       "35      11.5     11.851\n",
       "36       7.2      7.282\n",
       "37      11.3     11.235\n",
       "38      11.4     11.701\n",
       "39      12.7     11.752"
      ]
     },
     "execution_count": 57,
     "metadata": {},
     "output_type": "execute_result"
    }
   ],
   "source": [
    "conclusion"
   ]
  },
  {
   "cell_type": "code",
   "execution_count": null,
   "id": "2dcc11c3",
   "metadata": {},
   "outputs": [],
   "source": []
  }
 ],
 "metadata": {
  "kernelspec": {
   "display_name": "Python 3",
   "language": "python",
   "name": "python3"
  },
  "language_info": {
   "codemirror_mode": {
    "name": "ipython",
    "version": 3
   },
   "file_extension": ".py",
   "mimetype": "text/x-python",
   "name": "python",
   "nbconvert_exporter": "python",
   "pygments_lexer": "ipython3",
   "version": "3.8.8"
  }
 },
 "nbformat": 4,
 "nbformat_minor": 5
}
