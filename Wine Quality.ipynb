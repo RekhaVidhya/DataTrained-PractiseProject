{
 "cells": [
  {
   "cell_type": "code",
   "execution_count": 1,
   "id": "fe461d27",
   "metadata": {},
   "outputs": [
    {
     "data": {
      "text/plain": [
       "Index(['fixed acidity', 'volatile acidity', 'citric acid', 'residual sugar',\n",
       "       'chlorides', 'free sulfur dioxide', 'total sulfur dioxide', 'density',\n",
       "       'pH', 'sulphates', 'alcohol', 'quality'],\n",
       "      dtype='object')"
      ]
     },
     "execution_count": 1,
     "metadata": {},
     "output_type": "execute_result"
    }
   ],
   "source": [
    "import io\n",
    "import numpy as np\n",
    "import math\n",
    "import matplotlib.pyplot as plt\n",
    "import pandas as pd\n",
    "import seaborn as sns\n",
    "import sklearn\n",
    "Data=pd.read_csv(\"https://raw.githubusercontent.com/dsrscientist/DSData/master/winequality-red.csv\")\n",
    "Data.columns"
   ]
  },
  {
   "cell_type": "code",
   "execution_count": 2,
   "id": "d0e8f079",
   "metadata": {},
   "outputs": [
    {
     "name": "stdout",
     "output_type": "stream",
     "text": [
      "<class 'pandas.core.frame.DataFrame'>\n",
      "RangeIndex: 1599 entries, 0 to 1598\n",
      "Data columns (total 12 columns):\n",
      " #   Column                Non-Null Count  Dtype  \n",
      "---  ------                --------------  -----  \n",
      " 0   fixed acidity         1599 non-null   float64\n",
      " 1   volatile acidity      1599 non-null   float64\n",
      " 2   citric acid           1599 non-null   float64\n",
      " 3   residual sugar        1599 non-null   float64\n",
      " 4   chlorides             1599 non-null   float64\n",
      " 5   free sulfur dioxide   1599 non-null   float64\n",
      " 6   total sulfur dioxide  1599 non-null   float64\n",
      " 7   density               1599 non-null   float64\n",
      " 8   pH                    1599 non-null   float64\n",
      " 9   sulphates             1599 non-null   float64\n",
      " 10  alcohol               1599 non-null   float64\n",
      " 11  quality               1599 non-null   int64  \n",
      "dtypes: float64(11), int64(1)\n",
      "memory usage: 150.0 KB\n"
     ]
    }
   ],
   "source": [
    "Data.info()"
   ]
  },
  {
   "cell_type": "markdown",
   "id": "070757a3",
   "metadata": {},
   "source": [
    "No object datatypes and no encoding needed"
   ]
  },
  {
   "cell_type": "code",
   "execution_count": 4,
   "id": "5f2f0b9a",
   "metadata": {},
   "outputs": [
    {
     "data": {
      "text/plain": [
       "fixed acidity           0\n",
       "volatile acidity        0\n",
       "citric acid             0\n",
       "residual sugar          0\n",
       "chlorides               0\n",
       "free sulfur dioxide     0\n",
       "total sulfur dioxide    0\n",
       "density                 0\n",
       "pH                      0\n",
       "sulphates               0\n",
       "alcohol                 0\n",
       "quality                 0\n",
       "dtype: int64"
      ]
     },
     "execution_count": 4,
     "metadata": {},
     "output_type": "execute_result"
    }
   ],
   "source": [
    "Data.isnull().sum()"
   ]
  },
  {
   "cell_type": "markdown",
   "id": "8a793945",
   "metadata": {},
   "source": [
    "No missing values"
   ]
  },
  {
   "cell_type": "code",
   "execution_count": 5,
   "id": "3a287078",
   "metadata": {},
   "outputs": [
    {
     "data": {
      "text/plain": [
       "(1599, 12)"
      ]
     },
     "execution_count": 5,
     "metadata": {},
     "output_type": "execute_result"
    }
   ],
   "source": [
    "Data.shape"
   ]
  },
  {
   "cell_type": "code",
   "execution_count": 7,
   "id": "784150a9",
   "metadata": {},
   "outputs": [
    {
     "data": {
      "text/html": [
       "<div>\n",
       "<style scoped>\n",
       "    .dataframe tbody tr th:only-of-type {\n",
       "        vertical-align: middle;\n",
       "    }\n",
       "\n",
       "    .dataframe tbody tr th {\n",
       "        vertical-align: top;\n",
       "    }\n",
       "\n",
       "    .dataframe thead th {\n",
       "        text-align: right;\n",
       "    }\n",
       "</style>\n",
       "<table border=\"1\" class=\"dataframe\">\n",
       "  <thead>\n",
       "    <tr style=\"text-align: right;\">\n",
       "      <th></th>\n",
       "      <th>fixed acidity</th>\n",
       "      <th>volatile acidity</th>\n",
       "      <th>citric acid</th>\n",
       "      <th>residual sugar</th>\n",
       "      <th>chlorides</th>\n",
       "      <th>free sulfur dioxide</th>\n",
       "      <th>total sulfur dioxide</th>\n",
       "      <th>density</th>\n",
       "      <th>pH</th>\n",
       "      <th>sulphates</th>\n",
       "      <th>alcohol</th>\n",
       "      <th>quality</th>\n",
       "    </tr>\n",
       "  </thead>\n",
       "  <tbody>\n",
       "    <tr>\n",
       "      <th>0</th>\n",
       "      <td>7.4</td>\n",
       "      <td>0.700</td>\n",
       "      <td>0.00</td>\n",
       "      <td>1.9</td>\n",
       "      <td>0.076</td>\n",
       "      <td>11.0</td>\n",
       "      <td>34.0</td>\n",
       "      <td>0.9978</td>\n",
       "      <td>3.51</td>\n",
       "      <td>0.56</td>\n",
       "      <td>9.4</td>\n",
       "      <td>5</td>\n",
       "    </tr>\n",
       "    <tr>\n",
       "      <th>1</th>\n",
       "      <td>7.8</td>\n",
       "      <td>0.880</td>\n",
       "      <td>0.00</td>\n",
       "      <td>2.6</td>\n",
       "      <td>0.098</td>\n",
       "      <td>25.0</td>\n",
       "      <td>67.0</td>\n",
       "      <td>0.9968</td>\n",
       "      <td>3.20</td>\n",
       "      <td>0.68</td>\n",
       "      <td>9.8</td>\n",
       "      <td>5</td>\n",
       "    </tr>\n",
       "    <tr>\n",
       "      <th>2</th>\n",
       "      <td>7.8</td>\n",
       "      <td>0.760</td>\n",
       "      <td>0.04</td>\n",
       "      <td>2.3</td>\n",
       "      <td>0.092</td>\n",
       "      <td>15.0</td>\n",
       "      <td>54.0</td>\n",
       "      <td>0.9970</td>\n",
       "      <td>3.26</td>\n",
       "      <td>0.65</td>\n",
       "      <td>9.8</td>\n",
       "      <td>5</td>\n",
       "    </tr>\n",
       "    <tr>\n",
       "      <th>3</th>\n",
       "      <td>11.2</td>\n",
       "      <td>0.280</td>\n",
       "      <td>0.56</td>\n",
       "      <td>1.9</td>\n",
       "      <td>0.075</td>\n",
       "      <td>17.0</td>\n",
       "      <td>60.0</td>\n",
       "      <td>0.9980</td>\n",
       "      <td>3.16</td>\n",
       "      <td>0.58</td>\n",
       "      <td>9.8</td>\n",
       "      <td>6</td>\n",
       "    </tr>\n",
       "    <tr>\n",
       "      <th>4</th>\n",
       "      <td>7.4</td>\n",
       "      <td>0.700</td>\n",
       "      <td>0.00</td>\n",
       "      <td>1.9</td>\n",
       "      <td>0.076</td>\n",
       "      <td>11.0</td>\n",
       "      <td>34.0</td>\n",
       "      <td>0.9978</td>\n",
       "      <td>3.51</td>\n",
       "      <td>0.56</td>\n",
       "      <td>9.4</td>\n",
       "      <td>5</td>\n",
       "    </tr>\n",
       "    <tr>\n",
       "      <th>5</th>\n",
       "      <td>7.4</td>\n",
       "      <td>0.660</td>\n",
       "      <td>0.00</td>\n",
       "      <td>1.8</td>\n",
       "      <td>0.075</td>\n",
       "      <td>13.0</td>\n",
       "      <td>40.0</td>\n",
       "      <td>0.9978</td>\n",
       "      <td>3.51</td>\n",
       "      <td>0.56</td>\n",
       "      <td>9.4</td>\n",
       "      <td>5</td>\n",
       "    </tr>\n",
       "    <tr>\n",
       "      <th>6</th>\n",
       "      <td>7.9</td>\n",
       "      <td>0.600</td>\n",
       "      <td>0.06</td>\n",
       "      <td>1.6</td>\n",
       "      <td>0.069</td>\n",
       "      <td>15.0</td>\n",
       "      <td>59.0</td>\n",
       "      <td>0.9964</td>\n",
       "      <td>3.30</td>\n",
       "      <td>0.46</td>\n",
       "      <td>9.4</td>\n",
       "      <td>5</td>\n",
       "    </tr>\n",
       "    <tr>\n",
       "      <th>7</th>\n",
       "      <td>7.3</td>\n",
       "      <td>0.650</td>\n",
       "      <td>0.00</td>\n",
       "      <td>1.2</td>\n",
       "      <td>0.065</td>\n",
       "      <td>15.0</td>\n",
       "      <td>21.0</td>\n",
       "      <td>0.9946</td>\n",
       "      <td>3.39</td>\n",
       "      <td>0.47</td>\n",
       "      <td>10.0</td>\n",
       "      <td>7</td>\n",
       "    </tr>\n",
       "    <tr>\n",
       "      <th>8</th>\n",
       "      <td>7.8</td>\n",
       "      <td>0.580</td>\n",
       "      <td>0.02</td>\n",
       "      <td>2.0</td>\n",
       "      <td>0.073</td>\n",
       "      <td>9.0</td>\n",
       "      <td>18.0</td>\n",
       "      <td>0.9968</td>\n",
       "      <td>3.36</td>\n",
       "      <td>0.57</td>\n",
       "      <td>9.5</td>\n",
       "      <td>7</td>\n",
       "    </tr>\n",
       "    <tr>\n",
       "      <th>9</th>\n",
       "      <td>7.5</td>\n",
       "      <td>0.500</td>\n",
       "      <td>0.36</td>\n",
       "      <td>6.1</td>\n",
       "      <td>0.071</td>\n",
       "      <td>17.0</td>\n",
       "      <td>102.0</td>\n",
       "      <td>0.9978</td>\n",
       "      <td>3.35</td>\n",
       "      <td>0.80</td>\n",
       "      <td>10.5</td>\n",
       "      <td>5</td>\n",
       "    </tr>\n",
       "    <tr>\n",
       "      <th>10</th>\n",
       "      <td>6.7</td>\n",
       "      <td>0.580</td>\n",
       "      <td>0.08</td>\n",
       "      <td>1.8</td>\n",
       "      <td>0.097</td>\n",
       "      <td>15.0</td>\n",
       "      <td>65.0</td>\n",
       "      <td>0.9959</td>\n",
       "      <td>3.28</td>\n",
       "      <td>0.54</td>\n",
       "      <td>9.2</td>\n",
       "      <td>5</td>\n",
       "    </tr>\n",
       "    <tr>\n",
       "      <th>11</th>\n",
       "      <td>7.5</td>\n",
       "      <td>0.500</td>\n",
       "      <td>0.36</td>\n",
       "      <td>6.1</td>\n",
       "      <td>0.071</td>\n",
       "      <td>17.0</td>\n",
       "      <td>102.0</td>\n",
       "      <td>0.9978</td>\n",
       "      <td>3.35</td>\n",
       "      <td>0.80</td>\n",
       "      <td>10.5</td>\n",
       "      <td>5</td>\n",
       "    </tr>\n",
       "    <tr>\n",
       "      <th>12</th>\n",
       "      <td>5.6</td>\n",
       "      <td>0.615</td>\n",
       "      <td>0.00</td>\n",
       "      <td>1.6</td>\n",
       "      <td>0.089</td>\n",
       "      <td>16.0</td>\n",
       "      <td>59.0</td>\n",
       "      <td>0.9943</td>\n",
       "      <td>3.58</td>\n",
       "      <td>0.52</td>\n",
       "      <td>9.9</td>\n",
       "      <td>5</td>\n",
       "    </tr>\n",
       "    <tr>\n",
       "      <th>13</th>\n",
       "      <td>7.8</td>\n",
       "      <td>0.610</td>\n",
       "      <td>0.29</td>\n",
       "      <td>1.6</td>\n",
       "      <td>0.114</td>\n",
       "      <td>9.0</td>\n",
       "      <td>29.0</td>\n",
       "      <td>0.9974</td>\n",
       "      <td>3.26</td>\n",
       "      <td>1.56</td>\n",
       "      <td>9.1</td>\n",
       "      <td>5</td>\n",
       "    </tr>\n",
       "    <tr>\n",
       "      <th>14</th>\n",
       "      <td>8.9</td>\n",
       "      <td>0.620</td>\n",
       "      <td>0.18</td>\n",
       "      <td>3.8</td>\n",
       "      <td>0.176</td>\n",
       "      <td>52.0</td>\n",
       "      <td>145.0</td>\n",
       "      <td>0.9986</td>\n",
       "      <td>3.16</td>\n",
       "      <td>0.88</td>\n",
       "      <td>9.2</td>\n",
       "      <td>5</td>\n",
       "    </tr>\n",
       "    <tr>\n",
       "      <th>15</th>\n",
       "      <td>8.9</td>\n",
       "      <td>0.620</td>\n",
       "      <td>0.19</td>\n",
       "      <td>3.9</td>\n",
       "      <td>0.170</td>\n",
       "      <td>51.0</td>\n",
       "      <td>148.0</td>\n",
       "      <td>0.9986</td>\n",
       "      <td>3.17</td>\n",
       "      <td>0.93</td>\n",
       "      <td>9.2</td>\n",
       "      <td>5</td>\n",
       "    </tr>\n",
       "    <tr>\n",
       "      <th>16</th>\n",
       "      <td>8.5</td>\n",
       "      <td>0.280</td>\n",
       "      <td>0.56</td>\n",
       "      <td>1.8</td>\n",
       "      <td>0.092</td>\n",
       "      <td>35.0</td>\n",
       "      <td>103.0</td>\n",
       "      <td>0.9969</td>\n",
       "      <td>3.30</td>\n",
       "      <td>0.75</td>\n",
       "      <td>10.5</td>\n",
       "      <td>7</td>\n",
       "    </tr>\n",
       "    <tr>\n",
       "      <th>17</th>\n",
       "      <td>8.1</td>\n",
       "      <td>0.560</td>\n",
       "      <td>0.28</td>\n",
       "      <td>1.7</td>\n",
       "      <td>0.368</td>\n",
       "      <td>16.0</td>\n",
       "      <td>56.0</td>\n",
       "      <td>0.9968</td>\n",
       "      <td>3.11</td>\n",
       "      <td>1.28</td>\n",
       "      <td>9.3</td>\n",
       "      <td>5</td>\n",
       "    </tr>\n",
       "    <tr>\n",
       "      <th>18</th>\n",
       "      <td>7.4</td>\n",
       "      <td>0.590</td>\n",
       "      <td>0.08</td>\n",
       "      <td>4.4</td>\n",
       "      <td>0.086</td>\n",
       "      <td>6.0</td>\n",
       "      <td>29.0</td>\n",
       "      <td>0.9974</td>\n",
       "      <td>3.38</td>\n",
       "      <td>0.50</td>\n",
       "      <td>9.0</td>\n",
       "      <td>4</td>\n",
       "    </tr>\n",
       "    <tr>\n",
       "      <th>19</th>\n",
       "      <td>7.9</td>\n",
       "      <td>0.320</td>\n",
       "      <td>0.51</td>\n",
       "      <td>1.8</td>\n",
       "      <td>0.341</td>\n",
       "      <td>17.0</td>\n",
       "      <td>56.0</td>\n",
       "      <td>0.9969</td>\n",
       "      <td>3.04</td>\n",
       "      <td>1.08</td>\n",
       "      <td>9.2</td>\n",
       "      <td>6</td>\n",
       "    </tr>\n",
       "  </tbody>\n",
       "</table>\n",
       "</div>"
      ],
      "text/plain": [
       "    fixed acidity  volatile acidity  citric acid  residual sugar  chlorides  \\\n",
       "0             7.4             0.700         0.00             1.9      0.076   \n",
       "1             7.8             0.880         0.00             2.6      0.098   \n",
       "2             7.8             0.760         0.04             2.3      0.092   \n",
       "3            11.2             0.280         0.56             1.9      0.075   \n",
       "4             7.4             0.700         0.00             1.9      0.076   \n",
       "5             7.4             0.660         0.00             1.8      0.075   \n",
       "6             7.9             0.600         0.06             1.6      0.069   \n",
       "7             7.3             0.650         0.00             1.2      0.065   \n",
       "8             7.8             0.580         0.02             2.0      0.073   \n",
       "9             7.5             0.500         0.36             6.1      0.071   \n",
       "10            6.7             0.580         0.08             1.8      0.097   \n",
       "11            7.5             0.500         0.36             6.1      0.071   \n",
       "12            5.6             0.615         0.00             1.6      0.089   \n",
       "13            7.8             0.610         0.29             1.6      0.114   \n",
       "14            8.9             0.620         0.18             3.8      0.176   \n",
       "15            8.9             0.620         0.19             3.9      0.170   \n",
       "16            8.5             0.280         0.56             1.8      0.092   \n",
       "17            8.1             0.560         0.28             1.7      0.368   \n",
       "18            7.4             0.590         0.08             4.4      0.086   \n",
       "19            7.9             0.320         0.51             1.8      0.341   \n",
       "\n",
       "    free sulfur dioxide  total sulfur dioxide  density    pH  sulphates  \\\n",
       "0                  11.0                  34.0   0.9978  3.51       0.56   \n",
       "1                  25.0                  67.0   0.9968  3.20       0.68   \n",
       "2                  15.0                  54.0   0.9970  3.26       0.65   \n",
       "3                  17.0                  60.0   0.9980  3.16       0.58   \n",
       "4                  11.0                  34.0   0.9978  3.51       0.56   \n",
       "5                  13.0                  40.0   0.9978  3.51       0.56   \n",
       "6                  15.0                  59.0   0.9964  3.30       0.46   \n",
       "7                  15.0                  21.0   0.9946  3.39       0.47   \n",
       "8                   9.0                  18.0   0.9968  3.36       0.57   \n",
       "9                  17.0                 102.0   0.9978  3.35       0.80   \n",
       "10                 15.0                  65.0   0.9959  3.28       0.54   \n",
       "11                 17.0                 102.0   0.9978  3.35       0.80   \n",
       "12                 16.0                  59.0   0.9943  3.58       0.52   \n",
       "13                  9.0                  29.0   0.9974  3.26       1.56   \n",
       "14                 52.0                 145.0   0.9986  3.16       0.88   \n",
       "15                 51.0                 148.0   0.9986  3.17       0.93   \n",
       "16                 35.0                 103.0   0.9969  3.30       0.75   \n",
       "17                 16.0                  56.0   0.9968  3.11       1.28   \n",
       "18                  6.0                  29.0   0.9974  3.38       0.50   \n",
       "19                 17.0                  56.0   0.9969  3.04       1.08   \n",
       "\n",
       "    alcohol  quality  \n",
       "0       9.4        5  \n",
       "1       9.8        5  \n",
       "2       9.8        5  \n",
       "3       9.8        6  \n",
       "4       9.4        5  \n",
       "5       9.4        5  \n",
       "6       9.4        5  \n",
       "7      10.0        7  \n",
       "8       9.5        7  \n",
       "9      10.5        5  \n",
       "10      9.2        5  \n",
       "11     10.5        5  \n",
       "12      9.9        5  \n",
       "13      9.1        5  \n",
       "14      9.2        5  \n",
       "15      9.2        5  \n",
       "16     10.5        7  \n",
       "17      9.3        5  \n",
       "18      9.0        4  \n",
       "19      9.2        6  "
      ]
     },
     "execution_count": 7,
     "metadata": {},
     "output_type": "execute_result"
    }
   ],
   "source": [
    "Data.head(20)"
   ]
  },
  {
   "cell_type": "code",
   "execution_count": 11,
   "id": "4653f457",
   "metadata": {},
   "outputs": [
    {
     "name": "stderr",
     "output_type": "stream",
     "text": [
      "C:\\Users\\Pradeep\\anaconda3\\lib\\site-packages\\seaborn\\distributions.py:2557: FutureWarning: `distplot` is a deprecated function and will be removed in a future version. Please adapt your code to use either `displot` (a figure-level function with similar flexibility) or `histplot` (an axes-level function for histograms).\n",
      "  warnings.warn(msg, FutureWarning)\n"
     ]
    },
    {
     "data": {
      "text/plain": [
       "<AxesSubplot:xlabel='fixed acidity', ylabel='Density'>"
      ]
     },
     "execution_count": 11,
     "metadata": {},
     "output_type": "execute_result"
    },
    {
     "data": {
      "image/png": "[encoded data removed]",
      "text/plain": [
       "<Figure size 432x288 with 1 Axes>"
      ]
     },
     "metadata": {
      "needs_background": "light"
     },
     "output_type": "display_data"
    }
   ],
   "source": [
    "sns.distplot(Data[\"fixed acidity\"])\n"
   ]
  },
  {
   "cell_type": "code",
   "execution_count": 12,
   "id": "2a14d523",
   "metadata": {},
   "outputs": [
    {
     "name": "stderr",
     "output_type": "stream",
     "text": [
      "C:\\Users\\Pradeep\\anaconda3\\lib\\site-packages\\seaborn\\distributions.py:2557: FutureWarning: `distplot` is a deprecated function and will be removed in a future version. Please adapt your code to use either `displot` (a figure-level function with similar flexibility) or `histplot` (an axes-level function for histograms).\n",
      "  warnings.warn(msg, FutureWarning)\n"
     ]
    },
    {
     "data": {
      "text/plain": [
       "<AxesSubplot:xlabel='volatile acidity', ylabel='Density'>"
      ]
     },
     "execution_count": 12,
     "metadata": {},
     "output_type": "execute_result"
    },
    {
     "data": {
      "image/png": "[encoded data removed]",
      "text/plain": [
       "<Figure size 432x288 with 1 Axes>"
      ]
     },
     "metadata": {
      "needs_background": "light"
     },
     "output_type": "display_data"
    }
   ],
   "source": [
    "sns.distplot(Data[\"volatile acidity\"])\n"
   ]
  },
  {
   "cell_type": "code",
   "execution_count": 13,
   "id": "e24e96e4",
   "metadata": {},
   "outputs": [
    {
     "name": "stderr",
     "output_type": "stream",
     "text": [
      "C:\\Users\\Pradeep\\anaconda3\\lib\\site-packages\\seaborn\\distributions.py:2557: FutureWarning: `distplot` is a deprecated function and will be removed in a future version. Please adapt your code to use either `displot` (a figure-level function with similar flexibility) or `histplot` (an axes-level function for histograms).\n",
      "  warnings.warn(msg, FutureWarning)\n"
     ]
    },
    {
     "data": {
      "text/plain": [
       "<AxesSubplot:xlabel='citric acid', ylabel='Density'>"
      ]
     },
     "execution_count": 13,
     "metadata": {},
     "output_type": "execute_result"
    },
    {
     "data": {
      "image/png": "[encoded data removed]",
      "text/plain": [
       "<Figure size 432x288 with 1 Axes>"
      ]
     },
     "metadata": {
      "needs_background": "light"
     },
     "output_type": "display_data"
    }
   ],
   "source": [
    "sns.distplot(Data[\"citric acid\"])\n"
   ]
  },
  {
   "cell_type": "code",
   "execution_count": 15,
   "id": "6aa31119",
   "metadata": {},
   "outputs": [
    {
     "name": "stderr",
     "output_type": "stream",
     "text": [
      "C:\\Users\\Pradeep\\anaconda3\\lib\\site-packages\\seaborn\\distributions.py:2557: FutureWarning: `distplot` is a deprecated function and will be removed in a future version. Please adapt your code to use either `displot` (a figure-level function with similar flexibility) or `histplot` (an axes-level function for histograms).\n",
      "  warnings.warn(msg, FutureWarning)\n"
     ]
    },
    {
     "data": {
      "text/plain": [
       "<AxesSubplot:xlabel='residual sugar', ylabel='Density'>"
      ]
     },
     "execution_count": 15,
     "metadata": {},
     "output_type": "execute_result"
    },
    {
     "data": {
      "image/png": "[encoded data removed]",
      "text/plain": [
       "<Figure size 432x288 with 1 Axes>"
      ]
     },
     "metadata": {
      "needs_background": "light"
     },
     "output_type": "display_data"
    }
   ],
   "source": [
    "sns.distplot(Data[\"residual sugar\"])\n"
   ]
  },
  {
   "cell_type": "code",
   "execution_count": 16,
   "id": "cac1e0bf",
   "metadata": {},
   "outputs": [
    {
     "name": "stderr",
     "output_type": "stream",
     "text": [
      "C:\\Users\\Pradeep\\anaconda3\\lib\\site-packages\\seaborn\\distributions.py:2557: FutureWarning: `distplot` is a deprecated function and will be removed in a future version. Please adapt your code to use either `displot` (a figure-level function with similar flexibility) or `histplot` (an axes-level function for histograms).\n",
      "  warnings.warn(msg, FutureWarning)\n"
     ]
    },
    {
     "data": {
      "text/plain": [
       "<AxesSubplot:xlabel='chlorides', ylabel='Density'>"
      ]
     },
     "execution_count": 16,
     "metadata": {},
     "output_type": "execute_result"
    },
    {
     "data": {
      "image/png": "[encoded data removed]",
      "text/plain": [
       "<Figure size 432x288 with 1 Axes>"
      ]
     },
     "metadata": {
      "needs_background": "light"
     },
     "output_type": "display_data"
    }
   ],
   "source": [
    "sns.distplot(Data[\"chlorides\"])\n"
   ]
  },
  {
   "cell_type": "code",
   "execution_count": 17,
   "id": "20ae6be7",
   "metadata": {},
   "outputs": [
    {
     "name": "stderr",
     "output_type": "stream",
     "text": [
      "C:\\Users\\Pradeep\\anaconda3\\lib\\site-packages\\seaborn\\distributions.py:2557: FutureWarning: `distplot` is a deprecated function and will be removed in a future version. Please adapt your code to use either `displot` (a figure-level function with similar flexibility) or `histplot` (an axes-level function for histograms).\n",
      "  warnings.warn(msg, FutureWarning)\n"
     ]
    },
    {
     "data": {
      "text/plain": [
       "<AxesSubplot:xlabel='free sulfur dioxide', ylabel='Density'>"
      ]
     },
     "execution_count": 17,
     "metadata": {},
     "output_type": "execute_result"
    },
    {
     "data": {
      "image/png": "[encoded data removed]",
      "text/plain": [
       "<Figure size 432x288 with 1 Axes>"
      ]
     },
     "metadata": {
      "needs_background": "light"
     },
     "output_type": "display_data"
    }
   ],
   "source": [
    "sns.distplot(Data[\"free sulfur dioxide\"])\n"
   ]
  },
  {
   "cell_type": "code",
   "execution_count": 18,
   "id": "c11a1eb7",
   "metadata": {},
   "outputs": [
    {
     "name": "stderr",
     "output_type": "stream",
     "text": [
      "C:\\Users\\Pradeep\\anaconda3\\lib\\site-packages\\seaborn\\distributions.py:2557: FutureWarning: `distplot` is a deprecated function and will be removed in a future version. Please adapt your code to use either `displot` (a figure-level function with similar flexibility) or `histplot` (an axes-level function for histograms).\n",
      "  warnings.warn(msg, FutureWarning)\n"
     ]
    },
    {
     "data": {
      "text/plain": [
       "<AxesSubplot:xlabel='total sulfur dioxide', ylabel='Density'>"
      ]
     },
     "execution_count": 18,
     "metadata": {},
     "output_type": "execute_result"
    },
    {
     "data": {
      "image/png": "[encoded data removed]",
      "text/plain": [
       "<Figure size 432x288 with 1 Axes>"
      ]
     },
     "metadata": {
      "needs_background": "light"
     },
     "output_type": "display_data"
    }
   ],
   "source": [
    "sns.distplot(Data[\"total sulfur dioxide\"])\n"
   ]
  },
  {
   "cell_type": "code",
   "execution_count": 19,
   "id": "c285da3e",
   "metadata": {},
   "outputs": [
    {
     "name": "stderr",
     "output_type": "stream",
     "text": [
      "C:\\Users\\Pradeep\\anaconda3\\lib\\site-packages\\seaborn\\distributions.py:2557: FutureWarning: `distplot` is a deprecated function and will be removed in a future version. Please adapt your code to use either `displot` (a figure-level function with similar flexibility) or `histplot` (an axes-level function for histograms).\n",
      "  warnings.warn(msg, FutureWarning)\n"
     ]
    },
    {
     "data": {
      "text/plain": [
       "<AxesSubplot:xlabel='density', ylabel='Density'>"
      ]
     },
     "execution_count": 19,
     "metadata": {},
     "output_type": "execute_result"
    },
    {
     "data": {
      "image/png": "[encoded data removed]",
      "text/plain": [
       "<Figure size 432x288 with 1 Axes>"
      ]
     },
     "metadata": {
      "needs_background": "light"
     },
     "output_type": "display_data"
    }
   ],
   "source": [
    "sns.distplot(Data[\"density\"])\n"
   ]
  },
  {
   "cell_type": "code",
   "execution_count": 20,
   "id": "66fa4b04",
   "metadata": {},
   "outputs": [
    {
     "name": "stderr",
     "output_type": "stream",
     "text": [
      "C:\\Users\\Pradeep\\anaconda3\\lib\\site-packages\\seaborn\\distributions.py:2557: FutureWarning: `distplot` is a deprecated function and will be removed in a future version. Please adapt your code to use either `displot` (a figure-level function with similar flexibility) or `histplot` (an axes-level function for histograms).\n",
      "  warnings.warn(msg, FutureWarning)\n"
     ]
    },
    {
     "data": {
      "text/plain": [
       "<AxesSubplot:xlabel='pH', ylabel='Density'>"
      ]
     },
     "execution_count": 20,
     "metadata": {},
     "output_type": "execute_result"
    },
    {
     "data": {
      "image/png": "[encoded data removed]",
      "text/plain": [
       "<Figure size 432x288 with 1 Axes>"
      ]
     },
     "metadata": {
      "needs_background": "light"
     },
     "output_type": "display_data"
    }
   ],
   "source": [
    "sns.distplot(Data[\"pH\"])\n"
   ]
  },
  {
   "cell_type": "code",
   "execution_count": 21,
   "id": "c0c0d162",
   "metadata": {},
   "outputs": [
    {
     "name": "stderr",
     "output_type": "stream",
     "text": [
      "C:\\Users\\Pradeep\\anaconda3\\lib\\site-packages\\seaborn\\distributions.py:2557: FutureWarning: `distplot` is a deprecated function and will be removed in a future version. Please adapt your code to use either `displot` (a figure-level function with similar flexibility) or `histplot` (an axes-level function for histograms).\n",
      "  warnings.warn(msg, FutureWarning)\n"
     ]
    },
    {
     "data": {
      "text/plain": [
       "<AxesSubplot:xlabel='sulphates', ylabel='Density'>"
      ]
     },
     "execution_count": 21,
     "metadata": {},
     "output_type": "execute_result"
    },
    {
     "data": {
      "image/png": "[encoded data removed]",
      "text/plain": [
       "<Figure size 432x288 with 1 Axes>"
      ]
     },
     "metadata": {
      "needs_background": "light"
     },
     "output_type": "display_data"
    }
   ],
   "source": [
    "sns.distplot(Data[\"sulphates\"])\n"
   ]
  },
  {
   "cell_type": "code",
   "execution_count": 22,
   "id": "010bc747",
   "metadata": {},
   "outputs": [
    {
     "name": "stderr",
     "output_type": "stream",
     "text": [
      "C:\\Users\\Pradeep\\anaconda3\\lib\\site-packages\\seaborn\\distributions.py:2557: FutureWarning: `distplot` is a deprecated function and will be removed in a future version. Please adapt your code to use either `displot` (a figure-level function with similar flexibility) or `histplot` (an axes-level function for histograms).\n",
      "  warnings.warn(msg, FutureWarning)\n"
     ]
    },
    {
     "data": {
      "text/plain": [
       "<AxesSubplot:xlabel='alcohol', ylabel='Density'>"
      ]
     },
     "execution_count": 22,
     "metadata": {},
     "output_type": "execute_result"
    },
    {
     "data": {
      "image/png": "[encoded data removed]",
      "text/plain": [
       "<Figure size 432x288 with 1 Axes>"
      ]
     },
     "metadata": {
      "needs_background": "light"
     },
     "output_type": "display_data"
    }
   ],
   "source": [
    "sns.distplot(Data[\"alcohol\"])\n"
   ]
  },
  {
   "cell_type": "markdown",
   "id": "2df0dba4",
   "metadata": {},
   "source": [
    "fixed acidity,residual sugar,total sulfur dioxide ,pH and sulphates are not slightly skewed and not normalised\n",
    "citrix acid,volatile acidity, free sulfur dioxide,alcohol are not normalised and more skewed. so we need to treat skewness"
   ]
  },
  {
   "cell_type": "code",
   "execution_count": 25,
   "id": "97dfb9f3",
   "metadata": {},
   "outputs": [
    {
     "data": {
      "image/png": "[encoded data removed]",
      "text/plain": [
       "<Figure size 432x288 with 1 Axes>"
      ]
     },
     "metadata": {
      "needs_background": "light"
     },
     "output_type": "display_data"
    },
    {
     "data": {
      "image/png": "[encoded data removed]",
      "text/plain": [
       "<Figure size 432x288 with 1 Axes>"
      ]
     },
     "metadata": {
      "needs_background": "light"
     },
     "output_type": "display_data"
    },
    {
     "data": {
      "image/png": "[encoded data removed]",
      "text/plain": [
       "<Figure size 432x288 with 1 Axes>"
      ]
     },
     "metadata": {
      "needs_background": "light"
     },
     "output_type": "display_data"
    },
    {
     "data": {
      "image/png": "[encoded data removed]",
      "text/plain": [
       "<Figure size 432x288 with 1 Axes>"
      ]
     },
     "metadata": {
      "needs_background": "light"
     },
     "output_type": "display_data"
    },
    {
     "data": {
      "image/png": "[encoded data removed]",
      "text/plain": [
       "<Figure size 432x288 with 1 Axes>"
      ]
     },
     "metadata": {
      "needs_background": "light"
     },
     "output_type": "display_data"
    },
    {
     "data": {
      "image/png": "[encoded data removed]",
      "text/plain": [
       "<Figure size 432x288 with 1 Axes>"
      ]
     },
     "metadata": {
      "needs_background": "light"
     },
     "output_type": "display_data"
    },
    {
     "data": {
      "image/png": "[encoded data removed]",
      "text/plain": [
       "<Figure size 432x288 with 1 Axes>"
      ]
     },
     "metadata": {
      "needs_background": "light"
     },
     "output_type": "display_data"
    },
    {
     "data": {
      "image/png": "[encoded data removed]",
      "text/plain": [
       "<Figure size 432x288 with 1 Axes>"
      ]
     },
     "metadata": {
      "needs_background": "light"
     },
     "output_type": "display_data"
    },
    {
     "data": {
      "image/png": "[encoded data removed]",
      "text/plain": [
       "<Figure size 432x288 with 1 Axes>"
      ]
     },
     "metadata": {
      "needs_background": "light"
     },
     "output_type": "display_data"
    },
    {
     "data": {
      "image/png": "[encoded data removed]",
      "text/plain": [
       "<Figure size 432x288 with 1 Axes>"
      ]
     },
     "metadata": {
      "needs_background": "light"
     },
     "output_type": "display_data"
    },
    {
     "data": {
      "image/png": "[encoded data removed]",
      "text/plain": [
       "<Figure size 432x288 with 1 Axes>"
      ]
     },
     "metadata": {
      "needs_background": "light"
     },
     "output_type": "display_data"
    },
    {
     "data": {
      "image/png": "[encoded data removed]",
      "text/plain": [
       "<Figure size 432x288 with 1 Axes>"
      ]
     },
     "metadata": {
      "needs_background": "light"
     },
     "output_type": "display_data"
    }
   ],
   "source": [
    "for column in Data:\n",
    "    plt.figure()\n",
    "    Data.boxplot([column])"
   ]
  },
  {
   "cell_type": "markdown",
   "id": "2ed334f6",
   "metadata": {},
   "source": [
    "All the columns except alcohol has more outliers and needs to be treated"
   ]
  },
  {
   "cell_type": "code",
   "execution_count": 24,
   "id": "543978d2",
   "metadata": {},
   "outputs": [
    {
     "data": {
      "text/html": [
       "<div>\n",
       "<style scoped>\n",
       "    .dataframe tbody tr th:only-of-type {\n",
       "        vertical-align: middle;\n",
       "    }\n",
       "\n",
       "    .dataframe tbody tr th {\n",
       "        vertical-align: top;\n",
       "    }\n",
       "\n",
       "    .dataframe thead th {\n",
       "        text-align: right;\n",
       "    }\n",
       "</style>\n",
       "<table border=\"1\" class=\"dataframe\">\n",
       "  <thead>\n",
       "    <tr style=\"text-align: right;\">\n",
       "      <th></th>\n",
       "      <th>fixed acidity</th>\n",
       "      <th>volatile acidity</th>\n",
       "      <th>citric acid</th>\n",
       "      <th>residual sugar</th>\n",
       "      <th>chlorides</th>\n",
       "      <th>free sulfur dioxide</th>\n",
       "      <th>total sulfur dioxide</th>\n",
       "      <th>density</th>\n",
       "      <th>pH</th>\n",
       "      <th>sulphates</th>\n",
       "      <th>alcohol</th>\n",
       "      <th>quality</th>\n",
       "    </tr>\n",
       "  </thead>\n",
       "  <tbody>\n",
       "    <tr>\n",
       "      <th>fixed acidity</th>\n",
       "      <td>1.000000</td>\n",
       "      <td>-0.256131</td>\n",
       "      <td>0.671703</td>\n",
       "      <td>0.114777</td>\n",
       "      <td>0.093705</td>\n",
       "      <td>-0.153794</td>\n",
       "      <td>-0.113181</td>\n",
       "      <td>0.668047</td>\n",
       "      <td>-0.682978</td>\n",
       "      <td>0.183006</td>\n",
       "      <td>-0.061668</td>\n",
       "      <td>0.124052</td>\n",
       "    </tr>\n",
       "    <tr>\n",
       "      <th>volatile acidity</th>\n",
       "      <td>-0.256131</td>\n",
       "      <td>1.000000</td>\n",
       "      <td>-0.552496</td>\n",
       "      <td>0.001918</td>\n",
       "      <td>0.061298</td>\n",
       "      <td>-0.010504</td>\n",
       "      <td>0.076470</td>\n",
       "      <td>0.022026</td>\n",
       "      <td>0.234937</td>\n",
       "      <td>-0.260987</td>\n",
       "      <td>-0.202288</td>\n",
       "      <td>-0.390558</td>\n",
       "    </tr>\n",
       "    <tr>\n",
       "      <th>citric acid</th>\n",
       "      <td>0.671703</td>\n",
       "      <td>-0.552496</td>\n",
       "      <td>1.000000</td>\n",
       "      <td>0.143577</td>\n",
       "      <td>0.203823</td>\n",
       "      <td>-0.060978</td>\n",
       "      <td>0.035533</td>\n",
       "      <td>0.364947</td>\n",
       "      <td>-0.541904</td>\n",
       "      <td>0.312770</td>\n",
       "      <td>0.109903</td>\n",
       "      <td>0.226373</td>\n",
       "    </tr>\n",
       "    <tr>\n",
       "      <th>residual sugar</th>\n",
       "      <td>0.114777</td>\n",
       "      <td>0.001918</td>\n",
       "      <td>0.143577</td>\n",
       "      <td>1.000000</td>\n",
       "      <td>0.055610</td>\n",
       "      <td>0.187049</td>\n",
       "      <td>0.203028</td>\n",
       "      <td>0.355283</td>\n",
       "      <td>-0.085652</td>\n",
       "      <td>0.005527</td>\n",
       "      <td>0.042075</td>\n",
       "      <td>0.013732</td>\n",
       "    </tr>\n",
       "    <tr>\n",
       "      <th>chlorides</th>\n",
       "      <td>0.093705</td>\n",
       "      <td>0.061298</td>\n",
       "      <td>0.203823</td>\n",
       "      <td>0.055610</td>\n",
       "      <td>1.000000</td>\n",
       "      <td>0.005562</td>\n",
       "      <td>0.047400</td>\n",
       "      <td>0.200632</td>\n",
       "      <td>-0.265026</td>\n",
       "      <td>0.371260</td>\n",
       "      <td>-0.221141</td>\n",
       "      <td>-0.128907</td>\n",
       "    </tr>\n",
       "    <tr>\n",
       "      <th>free sulfur dioxide</th>\n",
       "      <td>-0.153794</td>\n",
       "      <td>-0.010504</td>\n",
       "      <td>-0.060978</td>\n",
       "      <td>0.187049</td>\n",
       "      <td>0.005562</td>\n",
       "      <td>1.000000</td>\n",
       "      <td>0.667666</td>\n",
       "      <td>-0.021946</td>\n",
       "      <td>0.070377</td>\n",
       "      <td>0.051658</td>\n",
       "      <td>-0.069408</td>\n",
       "      <td>-0.050656</td>\n",
       "    </tr>\n",
       "    <tr>\n",
       "      <th>total sulfur dioxide</th>\n",
       "      <td>-0.113181</td>\n",
       "      <td>0.076470</td>\n",
       "      <td>0.035533</td>\n",
       "      <td>0.203028</td>\n",
       "      <td>0.047400</td>\n",
       "      <td>0.667666</td>\n",
       "      <td>1.000000</td>\n",
       "      <td>0.071269</td>\n",
       "      <td>-0.066495</td>\n",
       "      <td>0.042947</td>\n",
       "      <td>-0.205654</td>\n",
       "      <td>-0.185100</td>\n",
       "    </tr>\n",
       "    <tr>\n",
       "      <th>density</th>\n",
       "      <td>0.668047</td>\n",
       "      <td>0.022026</td>\n",
       "      <td>0.364947</td>\n",
       "      <td>0.355283</td>\n",
       "      <td>0.200632</td>\n",
       "      <td>-0.021946</td>\n",
       "      <td>0.071269</td>\n",
       "      <td>1.000000</td>\n",
       "      <td>-0.341699</td>\n",
       "      <td>0.148506</td>\n",
       "      <td>-0.496180</td>\n",
       "      <td>-0.174919</td>\n",
       "    </tr>\n",
       "    <tr>\n",
       "      <th>pH</th>\n",
       "      <td>-0.682978</td>\n",
       "      <td>0.234937</td>\n",
       "      <td>-0.541904</td>\n",
       "      <td>-0.085652</td>\n",
       "      <td>-0.265026</td>\n",
       "      <td>0.070377</td>\n",
       "      <td>-0.066495</td>\n",
       "      <td>-0.341699</td>\n",
       "      <td>1.000000</td>\n",
       "      <td>-0.196648</td>\n",
       "      <td>0.205633</td>\n",
       "      <td>-0.057731</td>\n",
       "    </tr>\n",
       "    <tr>\n",
       "      <th>sulphates</th>\n",
       "      <td>0.183006</td>\n",
       "      <td>-0.260987</td>\n",
       "      <td>0.312770</td>\n",
       "      <td>0.005527</td>\n",
       "      <td>0.371260</td>\n",
       "      <td>0.051658</td>\n",
       "      <td>0.042947</td>\n",
       "      <td>0.148506</td>\n",
       "      <td>-0.196648</td>\n",
       "      <td>1.000000</td>\n",
       "      <td>0.093595</td>\n",
       "      <td>0.251397</td>\n",
       "    </tr>\n",
       "    <tr>\n",
       "      <th>alcohol</th>\n",
       "      <td>-0.061668</td>\n",
       "      <td>-0.202288</td>\n",
       "      <td>0.109903</td>\n",
       "      <td>0.042075</td>\n",
       "      <td>-0.221141</td>\n",
       "      <td>-0.069408</td>\n",
       "      <td>-0.205654</td>\n",
       "      <td>-0.496180</td>\n",
       "      <td>0.205633</td>\n",
       "      <td>0.093595</td>\n",
       "      <td>1.000000</td>\n",
       "      <td>0.476166</td>\n",
       "    </tr>\n",
       "    <tr>\n",
       "      <th>quality</th>\n",
       "      <td>0.124052</td>\n",
       "      <td>-0.390558</td>\n",
       "      <td>0.226373</td>\n",
       "      <td>0.013732</td>\n",
       "      <td>-0.128907</td>\n",
       "      <td>-0.050656</td>\n",
       "      <td>-0.185100</td>\n",
       "      <td>-0.174919</td>\n",
       "      <td>-0.057731</td>\n",
       "      <td>0.251397</td>\n",
       "      <td>0.476166</td>\n",
       "      <td>1.000000</td>\n",
       "    </tr>\n",
       "  </tbody>\n",
       "</table>\n",
       "</div>"
      ],
      "text/plain": [
       "                      fixed acidity  volatile acidity  citric acid  \\\n",
       "fixed acidity              1.000000         -0.256131     0.671703   \n",
       "volatile acidity          -0.256131          1.000000    -0.552496   \n",
       "citric acid                0.671703         -0.552496     1.000000   \n",
       "residual sugar             0.114777          0.001918     0.143577   \n",
       "chlorides                  0.093705          0.061298     0.203823   \n",
       "free sulfur dioxide       -0.153794         -0.010504    -0.060978   \n",
       "total sulfur dioxide      -0.113181          0.076470     0.035533   \n",
       "density                    0.668047          0.022026     0.364947   \n",
       "pH                        -0.682978          0.234937    -0.541904   \n",
       "sulphates                  0.183006         -0.260987     0.312770   \n",
       "alcohol                   -0.061668         -0.202288     0.109903   \n",
       "quality                    0.124052         -0.390558     0.226373   \n",
       "\n",
       "                      residual sugar  chlorides  free sulfur dioxide  \\\n",
       "fixed acidity               0.114777   0.093705            -0.153794   \n",
       "volatile acidity            0.001918   0.061298            -0.010504   \n",
       "citric acid                 0.143577   0.203823            -0.060978   \n",
       "residual sugar              1.000000   0.055610             0.187049   \n",
       "chlorides                   0.055610   1.000000             0.005562   \n",
       "free sulfur dioxide         0.187049   0.005562             1.000000   \n",
       "total sulfur dioxide        0.203028   0.047400             0.667666   \n",
       "density                     0.355283   0.200632            -0.021946   \n",
       "pH                         -0.085652  -0.265026             0.070377   \n",
       "sulphates                   0.005527   0.371260             0.051658   \n",
       "alcohol                     0.042075  -0.221141            -0.069408   \n",
       "quality                     0.013732  -0.128907            -0.050656   \n",
       "\n",
       "                      total sulfur dioxide   density        pH  sulphates  \\\n",
       "fixed acidity                    -0.113181  0.668047 -0.682978   0.183006   \n",
       "volatile acidity                  0.076470  0.022026  0.234937  -0.260987   \n",
       "citric acid                       0.035533  0.364947 -0.541904   0.312770   \n",
       "residual sugar                    0.203028  0.355283 -0.085652   0.005527   \n",
       "chlorides                         0.047400  0.200632 -0.265026   0.371260   \n",
       "free sulfur dioxide               0.667666 -0.021946  0.070377   0.051658   \n",
       "total sulfur dioxide              1.000000  0.071269 -0.066495   0.042947   \n",
       "density                           0.071269  1.000000 -0.341699   0.148506   \n",
       "pH                               -0.066495 -0.341699  1.000000  -0.196648   \n",
       "sulphates                         0.042947  0.148506 -0.196648   1.000000   \n",
       "alcohol                          -0.205654 -0.496180  0.205633   0.093595   \n",
       "quality                          -0.185100 -0.174919 -0.057731   0.251397   \n",
       "\n",
       "                       alcohol   quality  \n",
       "fixed acidity        -0.061668  0.124052  \n",
       "volatile acidity     -0.202288 -0.390558  \n",
       "citric acid           0.109903  0.226373  \n",
       "residual sugar        0.042075  0.013732  \n",
       "chlorides            -0.221141 -0.128907  \n",
       "free sulfur dioxide  -0.069408 -0.050656  \n",
       "total sulfur dioxide -0.205654 -0.185100  \n",
       "density              -0.496180 -0.174919  \n",
       "pH                    0.205633 -0.057731  \n",
       "sulphates             0.093595  0.251397  \n",
       "alcohol               1.000000  0.476166  \n",
       "quality               0.476166  1.000000  "
      ]
     },
     "execution_count": 24,
     "metadata": {},
     "output_type": "execute_result"
    }
   ],
   "source": [
    "Data.corr()"
   ]
  },
  {
   "cell_type": "code",
   "execution_count": 32,
   "id": "a5a6c305",
   "metadata": {},
   "outputs": [
    {
     "data": {
      "text/plain": [
       "<AxesSubplot:>"
      ]
     },
     "execution_count": 32,
     "metadata": {},
     "output_type": "execute_result"
    },
    {
     "data": {
      "image/png": "[encoded data removed]",
      "text/plain": [
       "<Figure size 720x720 with 2 Axes>"
      ]
     },
     "metadata": {
      "needs_background": "light"
     },
     "output_type": "display_data"
    }
   ],
   "source": [
    "plt.figure(figsize=(10,10))\n",
    "sns.heatmap(Data.corr(),cmap=\"coolwarm\",annot=True)"
   ]
  },
  {
   "cell_type": "code",
   "execution_count": 34,
   "id": "fff65631",
   "metadata": {},
   "outputs": [],
   "source": [
    "Data_new=Data.drop(\"density\",axis=1)"
   ]
  },
  {
   "cell_type": "code",
   "execution_count": 35,
   "id": "8af24f66",
   "metadata": {},
   "outputs": [],
   "source": [
    "Data_new=Data_new.drop(\"fixed acidity\",axis=1)"
   ]
  },
  {
   "cell_type": "code",
   "execution_count": 36,
   "id": "48b2178e",
   "metadata": {},
   "outputs": [
    {
     "data": {
      "text/plain": [
       "(1599, 10)"
      ]
     },
     "execution_count": 36,
     "metadata": {},
     "output_type": "execute_result"
    }
   ],
   "source": [
    "Data_new.shape"
   ]
  },
  {
   "cell_type": "markdown",
   "id": "fb9b9198",
   "metadata": {},
   "source": [
    "Dropped density and fixed acidity as they have strong correlation between them and also with citric acid. Also the correlation of citric acid is more with target variable than fixed acidity and density"
   ]
  },
  {
   "cell_type": "code",
   "execution_count": 40,
   "id": "f944ad18",
   "metadata": {},
   "outputs": [],
   "source": [
    "Data_new[\"best quality\"] = [ 1 if x>=7 else 0 for x in Data_new.quality] \n"
   ]
  },
  {
   "cell_type": "code",
   "execution_count": 42,
   "id": "6676bafe",
   "metadata": {},
   "outputs": [
    {
     "data": {
      "text/html": [
       "<div>\n",
       "<style scoped>\n",
       "    .dataframe tbody tr th:only-of-type {\n",
       "        vertical-align: middle;\n",
       "    }\n",
       "\n",
       "    .dataframe tbody tr th {\n",
       "        vertical-align: top;\n",
       "    }\n",
       "\n",
       "    .dataframe thead th {\n",
       "        text-align: right;\n",
       "    }\n",
       "</style>\n",
       "<table border=\"1\" class=\"dataframe\">\n",
       "  <thead>\n",
       "    <tr style=\"text-align: right;\">\n",
       "      <th></th>\n",
       "      <th>volatile acidity</th>\n",
       "      <th>citric acid</th>\n",
       "      <th>residual sugar</th>\n",
       "      <th>chlorides</th>\n",
       "      <th>free sulfur dioxide</th>\n",
       "      <th>total sulfur dioxide</th>\n",
       "      <th>pH</th>\n",
       "      <th>sulphates</th>\n",
       "      <th>alcohol</th>\n",
       "      <th>quality</th>\n",
       "      <th>best quality</th>\n",
       "    </tr>\n",
       "  </thead>\n",
       "  <tbody>\n",
       "    <tr>\n",
       "      <th>0</th>\n",
       "      <td>0.700</td>\n",
       "      <td>0.00</td>\n",
       "      <td>1.9</td>\n",
       "      <td>0.076</td>\n",
       "      <td>11.0</td>\n",
       "      <td>34.0</td>\n",
       "      <td>3.51</td>\n",
       "      <td>0.56</td>\n",
       "      <td>9.4</td>\n",
       "      <td>5</td>\n",
       "      <td>0</td>\n",
       "    </tr>\n",
       "    <tr>\n",
       "      <th>1</th>\n",
       "      <td>0.880</td>\n",
       "      <td>0.00</td>\n",
       "      <td>2.6</td>\n",
       "      <td>0.098</td>\n",
       "      <td>25.0</td>\n",
       "      <td>67.0</td>\n",
       "      <td>3.20</td>\n",
       "      <td>0.68</td>\n",
       "      <td>9.8</td>\n",
       "      <td>5</td>\n",
       "      <td>0</td>\n",
       "    </tr>\n",
       "    <tr>\n",
       "      <th>2</th>\n",
       "      <td>0.760</td>\n",
       "      <td>0.04</td>\n",
       "      <td>2.3</td>\n",
       "      <td>0.092</td>\n",
       "      <td>15.0</td>\n",
       "      <td>54.0</td>\n",
       "      <td>3.26</td>\n",
       "      <td>0.65</td>\n",
       "      <td>9.8</td>\n",
       "      <td>5</td>\n",
       "      <td>0</td>\n",
       "    </tr>\n",
       "    <tr>\n",
       "      <th>3</th>\n",
       "      <td>0.280</td>\n",
       "      <td>0.56</td>\n",
       "      <td>1.9</td>\n",
       "      <td>0.075</td>\n",
       "      <td>17.0</td>\n",
       "      <td>60.0</td>\n",
       "      <td>3.16</td>\n",
       "      <td>0.58</td>\n",
       "      <td>9.8</td>\n",
       "      <td>6</td>\n",
       "      <td>0</td>\n",
       "    </tr>\n",
       "    <tr>\n",
       "      <th>4</th>\n",
       "      <td>0.700</td>\n",
       "      <td>0.00</td>\n",
       "      <td>1.9</td>\n",
       "      <td>0.076</td>\n",
       "      <td>11.0</td>\n",
       "      <td>34.0</td>\n",
       "      <td>3.51</td>\n",
       "      <td>0.56</td>\n",
       "      <td>9.4</td>\n",
       "      <td>5</td>\n",
       "      <td>0</td>\n",
       "    </tr>\n",
       "    <tr>\n",
       "      <th>5</th>\n",
       "      <td>0.660</td>\n",
       "      <td>0.00</td>\n",
       "      <td>1.8</td>\n",
       "      <td>0.075</td>\n",
       "      <td>13.0</td>\n",
       "      <td>40.0</td>\n",
       "      <td>3.51</td>\n",
       "      <td>0.56</td>\n",
       "      <td>9.4</td>\n",
       "      <td>5</td>\n",
       "      <td>0</td>\n",
       "    </tr>\n",
       "    <tr>\n",
       "      <th>6</th>\n",
       "      <td>0.600</td>\n",
       "      <td>0.06</td>\n",
       "      <td>1.6</td>\n",
       "      <td>0.069</td>\n",
       "      <td>15.0</td>\n",
       "      <td>59.0</td>\n",
       "      <td>3.30</td>\n",
       "      <td>0.46</td>\n",
       "      <td>9.4</td>\n",
       "      <td>5</td>\n",
       "      <td>0</td>\n",
       "    </tr>\n",
       "    <tr>\n",
       "      <th>7</th>\n",
       "      <td>0.650</td>\n",
       "      <td>0.00</td>\n",
       "      <td>1.2</td>\n",
       "      <td>0.065</td>\n",
       "      <td>15.0</td>\n",
       "      <td>21.0</td>\n",
       "      <td>3.39</td>\n",
       "      <td>0.47</td>\n",
       "      <td>10.0</td>\n",
       "      <td>7</td>\n",
       "      <td>1</td>\n",
       "    </tr>\n",
       "    <tr>\n",
       "      <th>8</th>\n",
       "      <td>0.580</td>\n",
       "      <td>0.02</td>\n",
       "      <td>2.0</td>\n",
       "      <td>0.073</td>\n",
       "      <td>9.0</td>\n",
       "      <td>18.0</td>\n",
       "      <td>3.36</td>\n",
       "      <td>0.57</td>\n",
       "      <td>9.5</td>\n",
       "      <td>7</td>\n",
       "      <td>1</td>\n",
       "    </tr>\n",
       "    <tr>\n",
       "      <th>9</th>\n",
       "      <td>0.500</td>\n",
       "      <td>0.36</td>\n",
       "      <td>6.1</td>\n",
       "      <td>0.071</td>\n",
       "      <td>17.0</td>\n",
       "      <td>102.0</td>\n",
       "      <td>3.35</td>\n",
       "      <td>0.80</td>\n",
       "      <td>10.5</td>\n",
       "      <td>5</td>\n",
       "      <td>0</td>\n",
       "    </tr>\n",
       "    <tr>\n",
       "      <th>10</th>\n",
       "      <td>0.580</td>\n",
       "      <td>0.08</td>\n",
       "      <td>1.8</td>\n",
       "      <td>0.097</td>\n",
       "      <td>15.0</td>\n",
       "      <td>65.0</td>\n",
       "      <td>3.28</td>\n",
       "      <td>0.54</td>\n",
       "      <td>9.2</td>\n",
       "      <td>5</td>\n",
       "      <td>0</td>\n",
       "    </tr>\n",
       "    <tr>\n",
       "      <th>11</th>\n",
       "      <td>0.500</td>\n",
       "      <td>0.36</td>\n",
       "      <td>6.1</td>\n",
       "      <td>0.071</td>\n",
       "      <td>17.0</td>\n",
       "      <td>102.0</td>\n",
       "      <td>3.35</td>\n",
       "      <td>0.80</td>\n",
       "      <td>10.5</td>\n",
       "      <td>5</td>\n",
       "      <td>0</td>\n",
       "    </tr>\n",
       "    <tr>\n",
       "      <th>12</th>\n",
       "      <td>0.615</td>\n",
       "      <td>0.00</td>\n",
       "      <td>1.6</td>\n",
       "      <td>0.089</td>\n",
       "      <td>16.0</td>\n",
       "      <td>59.0</td>\n",
       "      <td>3.58</td>\n",
       "      <td>0.52</td>\n",
       "      <td>9.9</td>\n",
       "      <td>5</td>\n",
       "      <td>0</td>\n",
       "    </tr>\n",
       "    <tr>\n",
       "      <th>13</th>\n",
       "      <td>0.610</td>\n",
       "      <td>0.29</td>\n",
       "      <td>1.6</td>\n",
       "      <td>0.114</td>\n",
       "      <td>9.0</td>\n",
       "      <td>29.0</td>\n",
       "      <td>3.26</td>\n",
       "      <td>1.56</td>\n",
       "      <td>9.1</td>\n",
       "      <td>5</td>\n",
       "      <td>0</td>\n",
       "    </tr>\n",
       "    <tr>\n",
       "      <th>14</th>\n",
       "      <td>0.620</td>\n",
       "      <td>0.18</td>\n",
       "      <td>3.8</td>\n",
       "      <td>0.176</td>\n",
       "      <td>52.0</td>\n",
       "      <td>145.0</td>\n",
       "      <td>3.16</td>\n",
       "      <td>0.88</td>\n",
       "      <td>9.2</td>\n",
       "      <td>5</td>\n",
       "      <td>0</td>\n",
       "    </tr>\n",
       "    <tr>\n",
       "      <th>15</th>\n",
       "      <td>0.620</td>\n",
       "      <td>0.19</td>\n",
       "      <td>3.9</td>\n",
       "      <td>0.170</td>\n",
       "      <td>51.0</td>\n",
       "      <td>148.0</td>\n",
       "      <td>3.17</td>\n",
       "      <td>0.93</td>\n",
       "      <td>9.2</td>\n",
       "      <td>5</td>\n",
       "      <td>0</td>\n",
       "    </tr>\n",
       "    <tr>\n",
       "      <th>16</th>\n",
       "      <td>0.280</td>\n",
       "      <td>0.56</td>\n",
       "      <td>1.8</td>\n",
       "      <td>0.092</td>\n",
       "      <td>35.0</td>\n",
       "      <td>103.0</td>\n",
       "      <td>3.30</td>\n",
       "      <td>0.75</td>\n",
       "      <td>10.5</td>\n",
       "      <td>7</td>\n",
       "      <td>1</td>\n",
       "    </tr>\n",
       "    <tr>\n",
       "      <th>17</th>\n",
       "      <td>0.560</td>\n",
       "      <td>0.28</td>\n",
       "      <td>1.7</td>\n",
       "      <td>0.368</td>\n",
       "      <td>16.0</td>\n",
       "      <td>56.0</td>\n",
       "      <td>3.11</td>\n",
       "      <td>1.28</td>\n",
       "      <td>9.3</td>\n",
       "      <td>5</td>\n",
       "      <td>0</td>\n",
       "    </tr>\n",
       "    <tr>\n",
       "      <th>18</th>\n",
       "      <td>0.590</td>\n",
       "      <td>0.08</td>\n",
       "      <td>4.4</td>\n",
       "      <td>0.086</td>\n",
       "      <td>6.0</td>\n",
       "      <td>29.0</td>\n",
       "      <td>3.38</td>\n",
       "      <td>0.50</td>\n",
       "      <td>9.0</td>\n",
       "      <td>4</td>\n",
       "      <td>0</td>\n",
       "    </tr>\n",
       "    <tr>\n",
       "      <th>19</th>\n",
       "      <td>0.320</td>\n",
       "      <td>0.51</td>\n",
       "      <td>1.8</td>\n",
       "      <td>0.341</td>\n",
       "      <td>17.0</td>\n",
       "      <td>56.0</td>\n",
       "      <td>3.04</td>\n",
       "      <td>1.08</td>\n",
       "      <td>9.2</td>\n",
       "      <td>6</td>\n",
       "      <td>0</td>\n",
       "    </tr>\n",
       "  </tbody>\n",
       "</table>\n",
       "</div>"
      ],
      "text/plain": [
       "    volatile acidity  citric acid  residual sugar  chlorides  \\\n",
       "0              0.700         0.00             1.9      0.076   \n",
       "1              0.880         0.00             2.6      0.098   \n",
       "2              0.760         0.04             2.3      0.092   \n",
       "3              0.280         0.56             1.9      0.075   \n",
       "4              0.700         0.00             1.9      0.076   \n",
       "5              0.660         0.00             1.8      0.075   \n",
       "6              0.600         0.06             1.6      0.069   \n",
       "7              0.650         0.00             1.2      0.065   \n",
       "8              0.580         0.02             2.0      0.073   \n",
       "9              0.500         0.36             6.1      0.071   \n",
       "10             0.580         0.08             1.8      0.097   \n",
       "11             0.500         0.36             6.1      0.071   \n",
       "12             0.615         0.00             1.6      0.089   \n",
       "13             0.610         0.29             1.6      0.114   \n",
       "14             0.620         0.18             3.8      0.176   \n",
       "15             0.620         0.19             3.9      0.170   \n",
       "16             0.280         0.56             1.8      0.092   \n",
       "17             0.560         0.28             1.7      0.368   \n",
       "18             0.590         0.08             4.4      0.086   \n",
       "19             0.320         0.51             1.8      0.341   \n",
       "\n",
       "    free sulfur dioxide  total sulfur dioxide    pH  sulphates  alcohol  \\\n",
       "0                  11.0                  34.0  3.51       0.56      9.4   \n",
       "1                  25.0                  67.0  3.20       0.68      9.8   \n",
       "2                  15.0                  54.0  3.26       0.65      9.8   \n",
       "3                  17.0                  60.0  3.16       0.58      9.8   \n",
       "4                  11.0                  34.0  3.51       0.56      9.4   \n",
       "5                  13.0                  40.0  3.51       0.56      9.4   \n",
       "6                  15.0                  59.0  3.30       0.46      9.4   \n",
       "7                  15.0                  21.0  3.39       0.47     10.0   \n",
       "8                   9.0                  18.0  3.36       0.57      9.5   \n",
       "9                  17.0                 102.0  3.35       0.80     10.5   \n",
       "10                 15.0                  65.0  3.28       0.54      9.2   \n",
       "11                 17.0                 102.0  3.35       0.80     10.5   \n",
       "12                 16.0                  59.0  3.58       0.52      9.9   \n",
       "13                  9.0                  29.0  3.26       1.56      9.1   \n",
       "14                 52.0                 145.0  3.16       0.88      9.2   \n",
       "15                 51.0                 148.0  3.17       0.93      9.2   \n",
       "16                 35.0                 103.0  3.30       0.75     10.5   \n",
       "17                 16.0                  56.0  3.11       1.28      9.3   \n",
       "18                  6.0                  29.0  3.38       0.50      9.0   \n",
       "19                 17.0                  56.0  3.04       1.08      9.2   \n",
       "\n",
       "    quality  best quality  \n",
       "0         5             0  \n",
       "1         5             0  \n",
       "2         5             0  \n",
       "3         6             0  \n",
       "4         5             0  \n",
       "5         5             0  \n",
       "6         5             0  \n",
       "7         7             1  \n",
       "8         7             1  \n",
       "9         5             0  \n",
       "10        5             0  \n",
       "11        5             0  \n",
       "12        5             0  \n",
       "13        5             0  \n",
       "14        5             0  \n",
       "15        5             0  \n",
       "16        7             1  \n",
       "17        5             0  \n",
       "18        4             0  \n",
       "19        6             0  "
      ]
     },
     "execution_count": 42,
     "metadata": {},
     "output_type": "execute_result"
    }
   ],
   "source": [
    "Data_new.head(20)"
   ]
  },
  {
   "cell_type": "markdown",
   "id": "1ccd324b",
   "metadata": {},
   "source": [
    "# Removing  Outliers"
   ]
  },
  {
   "cell_type": "code",
   "execution_count": 44,
   "id": "84fb4f46",
   "metadata": {},
   "outputs": [
    {
     "data": {
      "text/plain": [
       "(1599, 11)"
      ]
     },
     "execution_count": 44,
     "metadata": {},
     "output_type": "execute_result"
    }
   ],
   "source": [
    "from scipy.stats import zscore\n",
    "z=np.abs(zscore(Data_new))\n",
    "z.shape"
   ]
  },
  {
   "cell_type": "code",
   "execution_count": 48,
   "id": "1cca03cb",
   "metadata": {},
   "outputs": [
    {
     "data": {
      "text/html": [
       "<div>\n",
       "<style scoped>\n",
       "    .dataframe tbody tr th:only-of-type {\n",
       "        vertical-align: middle;\n",
       "    }\n",
       "\n",
       "    .dataframe tbody tr th {\n",
       "        vertical-align: top;\n",
       "    }\n",
       "\n",
       "    .dataframe thead th {\n",
       "        text-align: right;\n",
       "    }\n",
       "</style>\n",
       "<table border=\"1\" class=\"dataframe\">\n",
       "  <thead>\n",
       "    <tr style=\"text-align: right;\">\n",
       "      <th></th>\n",
       "      <th>0</th>\n",
       "      <th>1</th>\n",
       "      <th>2</th>\n",
       "      <th>3</th>\n",
       "      <th>4</th>\n",
       "      <th>5</th>\n",
       "      <th>6</th>\n",
       "      <th>7</th>\n",
       "      <th>8</th>\n",
       "      <th>9</th>\n",
       "      <th>10</th>\n",
       "    </tr>\n",
       "  </thead>\n",
       "  <tbody>\n",
       "    <tr>\n",
       "      <th>0</th>\n",
       "      <td>0.961877</td>\n",
       "      <td>1.391472</td>\n",
       "      <td>0.453218</td>\n",
       "      <td>0.243707</td>\n",
       "      <td>0.466193</td>\n",
       "      <td>0.379133</td>\n",
       "      <td>1.288643</td>\n",
       "      <td>0.579207</td>\n",
       "      <td>0.960246</td>\n",
       "      <td>0.787823</td>\n",
       "      <td>0.396256</td>\n",
       "    </tr>\n",
       "    <tr>\n",
       "      <th>1</th>\n",
       "      <td>1.967442</td>\n",
       "      <td>1.391472</td>\n",
       "      <td>0.043416</td>\n",
       "      <td>0.223875</td>\n",
       "      <td>0.872638</td>\n",
       "      <td>0.624363</td>\n",
       "      <td>0.719933</td>\n",
       "      <td>0.128950</td>\n",
       "      <td>0.584777</td>\n",
       "      <td>0.787823</td>\n",
       "      <td>0.396256</td>\n",
       "    </tr>\n",
       "    <tr>\n",
       "      <th>2</th>\n",
       "      <td>1.297065</td>\n",
       "      <td>1.186070</td>\n",
       "      <td>0.169427</td>\n",
       "      <td>0.096353</td>\n",
       "      <td>0.083669</td>\n",
       "      <td>0.229047</td>\n",
       "      <td>0.331177</td>\n",
       "      <td>0.048089</td>\n",
       "      <td>0.584777</td>\n",
       "      <td>0.787823</td>\n",
       "      <td>0.396256</td>\n",
       "    </tr>\n",
       "    <tr>\n",
       "      <th>3</th>\n",
       "      <td>1.384443</td>\n",
       "      <td>1.484154</td>\n",
       "      <td>0.453218</td>\n",
       "      <td>0.264960</td>\n",
       "      <td>0.107592</td>\n",
       "      <td>0.411500</td>\n",
       "      <td>0.979104</td>\n",
       "      <td>0.461180</td>\n",
       "      <td>0.584777</td>\n",
       "      <td>0.450848</td>\n",
       "      <td>0.396256</td>\n",
       "    </tr>\n",
       "    <tr>\n",
       "      <th>4</th>\n",
       "      <td>0.961877</td>\n",
       "      <td>1.391472</td>\n",
       "      <td>0.453218</td>\n",
       "      <td>0.243707</td>\n",
       "      <td>0.466193</td>\n",
       "      <td>0.379133</td>\n",
       "      <td>1.288643</td>\n",
       "      <td>0.579207</td>\n",
       "      <td>0.960246</td>\n",
       "      <td>0.787823</td>\n",
       "      <td>0.396256</td>\n",
       "    </tr>\n",
       "    <tr>\n",
       "      <th>5</th>\n",
       "      <td>0.738418</td>\n",
       "      <td>1.391472</td>\n",
       "      <td>0.524166</td>\n",
       "      <td>0.264960</td>\n",
       "      <td>0.274931</td>\n",
       "      <td>0.196679</td>\n",
       "      <td>1.288643</td>\n",
       "      <td>0.579207</td>\n",
       "      <td>0.960246</td>\n",
       "      <td>0.787823</td>\n",
       "      <td>0.396256</td>\n",
       "    </tr>\n",
       "    <tr>\n",
       "      <th>6</th>\n",
       "      <td>0.403229</td>\n",
       "      <td>1.083370</td>\n",
       "      <td>0.666062</td>\n",
       "      <td>0.392483</td>\n",
       "      <td>0.083669</td>\n",
       "      <td>0.381091</td>\n",
       "      <td>0.072005</td>\n",
       "      <td>1.169337</td>\n",
       "      <td>0.960246</td>\n",
       "      <td>0.787823</td>\n",
       "      <td>0.396256</td>\n",
       "    </tr>\n",
       "    <tr>\n",
       "      <th>7</th>\n",
       "      <td>0.682553</td>\n",
       "      <td>1.391472</td>\n",
       "      <td>0.949853</td>\n",
       "      <td>0.477498</td>\n",
       "      <td>0.083669</td>\n",
       "      <td>0.774449</td>\n",
       "      <td>0.511130</td>\n",
       "      <td>1.110324</td>\n",
       "      <td>0.397043</td>\n",
       "      <td>1.689519</td>\n",
       "      <td>2.523621</td>\n",
       "    </tr>\n",
       "    <tr>\n",
       "      <th>8</th>\n",
       "      <td>0.291499</td>\n",
       "      <td>1.288771</td>\n",
       "      <td>0.382271</td>\n",
       "      <td>0.307468</td>\n",
       "      <td>0.657454</td>\n",
       "      <td>0.865676</td>\n",
       "      <td>0.316751</td>\n",
       "      <td>0.520193</td>\n",
       "      <td>0.866379</td>\n",
       "      <td>1.689519</td>\n",
       "      <td>2.523621</td>\n",
       "    </tr>\n",
       "    <tr>\n",
       "      <th>9</th>\n",
       "      <td>0.155419</td>\n",
       "      <td>0.457144</td>\n",
       "      <td>2.526589</td>\n",
       "      <td>0.349975</td>\n",
       "      <td>0.107592</td>\n",
       "      <td>1.688677</td>\n",
       "      <td>0.251958</td>\n",
       "      <td>0.837107</td>\n",
       "      <td>0.072294</td>\n",
       "      <td>0.787823</td>\n",
       "      <td>0.396256</td>\n",
       "    </tr>\n",
       "    <tr>\n",
       "      <th>10</th>\n",
       "      <td>0.291499</td>\n",
       "      <td>0.980669</td>\n",
       "      <td>0.524166</td>\n",
       "      <td>0.202621</td>\n",
       "      <td>0.083669</td>\n",
       "      <td>0.563545</td>\n",
       "      <td>0.201591</td>\n",
       "      <td>0.697233</td>\n",
       "      <td>1.147981</td>\n",
       "      <td>0.787823</td>\n",
       "      <td>0.396256</td>\n",
       "    </tr>\n",
       "    <tr>\n",
       "      <th>11</th>\n",
       "      <td>0.155419</td>\n",
       "      <td>0.457144</td>\n",
       "      <td>2.526589</td>\n",
       "      <td>0.349975</td>\n",
       "      <td>0.107592</td>\n",
       "      <td>1.688677</td>\n",
       "      <td>0.251958</td>\n",
       "      <td>0.837107</td>\n",
       "      <td>0.072294</td>\n",
       "      <td>0.787823</td>\n",
       "      <td>0.396256</td>\n",
       "    </tr>\n",
       "    <tr>\n",
       "      <th>12</th>\n",
       "      <td>0.487026</td>\n",
       "      <td>1.391472</td>\n",
       "      <td>0.666062</td>\n",
       "      <td>0.032592</td>\n",
       "      <td>0.011961</td>\n",
       "      <td>0.381091</td>\n",
       "      <td>1.742192</td>\n",
       "      <td>0.815259</td>\n",
       "      <td>0.490910</td>\n",
       "      <td>0.787823</td>\n",
       "      <td>0.396256</td>\n",
       "    </tr>\n",
       "    <tr>\n",
       "      <th>13</th>\n",
       "      <td>0.459094</td>\n",
       "      <td>0.097691</td>\n",
       "      <td>0.666062</td>\n",
       "      <td>0.563935</td>\n",
       "      <td>0.657454</td>\n",
       "      <td>0.531178</td>\n",
       "      <td>0.331177</td>\n",
       "      <td>5.322101</td>\n",
       "      <td>1.241848</td>\n",
       "      <td>0.787823</td>\n",
       "      <td>0.396256</td>\n",
       "    </tr>\n",
       "    <tr>\n",
       "      <th>14</th>\n",
       "      <td>0.514959</td>\n",
       "      <td>0.467164</td>\n",
       "      <td>0.894790</td>\n",
       "      <td>1.881666</td>\n",
       "      <td>3.454669</td>\n",
       "      <td>2.996263</td>\n",
       "      <td>0.979104</td>\n",
       "      <td>1.309212</td>\n",
       "      <td>1.147981</td>\n",
       "      <td>0.787823</td>\n",
       "      <td>0.396256</td>\n",
       "    </tr>\n",
       "    <tr>\n",
       "      <th>15</th>\n",
       "      <td>0.514959</td>\n",
       "      <td>0.415813</td>\n",
       "      <td>0.965737</td>\n",
       "      <td>1.754143</td>\n",
       "      <td>3.359038</td>\n",
       "      <td>3.087490</td>\n",
       "      <td>0.914312</td>\n",
       "      <td>1.604277</td>\n",
       "      <td>1.147981</td>\n",
       "      <td>0.787823</td>\n",
       "      <td>0.396256</td>\n",
       "    </tr>\n",
       "    <tr>\n",
       "      <th>16</th>\n",
       "      <td>1.384443</td>\n",
       "      <td>1.484154</td>\n",
       "      <td>0.524166</td>\n",
       "      <td>0.096353</td>\n",
       "      <td>1.828946</td>\n",
       "      <td>1.719086</td>\n",
       "      <td>0.072005</td>\n",
       "      <td>0.542042</td>\n",
       "      <td>0.072294</td>\n",
       "      <td>1.689519</td>\n",
       "      <td>2.523621</td>\n",
       "    </tr>\n",
       "    <tr>\n",
       "      <th>17</th>\n",
       "      <td>0.179770</td>\n",
       "      <td>0.046341</td>\n",
       "      <td>0.595114</td>\n",
       "      <td>5.962380</td>\n",
       "      <td>0.011961</td>\n",
       "      <td>0.289865</td>\n",
       "      <td>1.303068</td>\n",
       "      <td>3.669735</td>\n",
       "      <td>1.054113</td>\n",
       "      <td>0.787823</td>\n",
       "      <td>0.396256</td>\n",
       "    </tr>\n",
       "    <tr>\n",
       "      <th>18</th>\n",
       "      <td>0.347364</td>\n",
       "      <td>0.980669</td>\n",
       "      <td>1.320476</td>\n",
       "      <td>0.031169</td>\n",
       "      <td>0.944346</td>\n",
       "      <td>0.531178</td>\n",
       "      <td>0.446337</td>\n",
       "      <td>0.933285</td>\n",
       "      <td>1.335715</td>\n",
       "      <td>2.026494</td>\n",
       "      <td>0.396256</td>\n",
       "    </tr>\n",
       "    <tr>\n",
       "      <th>19</th>\n",
       "      <td>1.160984</td>\n",
       "      <td>1.227401</td>\n",
       "      <td>0.524166</td>\n",
       "      <td>5.388530</td>\n",
       "      <td>0.107592</td>\n",
       "      <td>0.289865</td>\n",
       "      <td>1.756618</td>\n",
       "      <td>2.489473</td>\n",
       "      <td>1.147981</td>\n",
       "      <td>0.450848</td>\n",
       "      <td>0.396256</td>\n",
       "    </tr>\n",
       "    <tr>\n",
       "      <th>20</th>\n",
       "      <td>1.719632</td>\n",
       "      <td>1.073350</td>\n",
       "      <td>0.524166</td>\n",
       "      <td>0.222453</td>\n",
       "      <td>1.255161</td>\n",
       "      <td>0.411500</td>\n",
       "      <td>0.511130</td>\n",
       "      <td>0.756246</td>\n",
       "      <td>0.960246</td>\n",
       "      <td>0.450848</td>\n",
       "      <td>0.396256</td>\n",
       "    </tr>\n",
       "    <tr>\n",
       "      <th>21</th>\n",
       "      <td>0.769931</td>\n",
       "      <td>0.200392</td>\n",
       "      <td>0.169427</td>\n",
       "      <td>0.116184</td>\n",
       "      <td>0.681377</td>\n",
       "      <td>0.745999</td>\n",
       "      <td>1.353436</td>\n",
       "      <td>0.048089</td>\n",
       "      <td>0.678644</td>\n",
       "      <td>0.787823</td>\n",
       "      <td>0.396256</td>\n",
       "    </tr>\n",
       "    <tr>\n",
       "      <th>22</th>\n",
       "      <td>0.546472</td>\n",
       "      <td>0.313113</td>\n",
       "      <td>0.666062</td>\n",
       "      <td>0.393905</td>\n",
       "      <td>0.561823</td>\n",
       "      <td>0.287906</td>\n",
       "      <td>0.914312</td>\n",
       "      <td>1.486251</td>\n",
       "      <td>0.866379</td>\n",
       "      <td>0.787823</td>\n",
       "      <td>0.396256</td>\n",
       "    </tr>\n",
       "    <tr>\n",
       "      <th>23</th>\n",
       "      <td>0.211283</td>\n",
       "      <td>0.826617</td>\n",
       "      <td>0.169427</td>\n",
       "      <td>0.073677</td>\n",
       "      <td>0.657454</td>\n",
       "      <td>0.624363</td>\n",
       "      <td>0.914312</td>\n",
       "      <td>0.756246</td>\n",
       "      <td>0.960246</td>\n",
       "      <td>0.787823</td>\n",
       "      <td>0.396256</td>\n",
       "    </tr>\n",
       "    <tr>\n",
       "      <th>24</th>\n",
       "      <td>0.714066</td>\n",
       "      <td>0.672566</td>\n",
       "      <td>0.098479</td>\n",
       "      <td>0.052423</td>\n",
       "      <td>0.490115</td>\n",
       "      <td>0.196679</td>\n",
       "      <td>0.770301</td>\n",
       "      <td>0.166115</td>\n",
       "      <td>0.678644</td>\n",
       "      <td>0.450848</td>\n",
       "      <td>0.396256</td>\n",
       "    </tr>\n",
       "    <tr>\n",
       "      <th>25</th>\n",
       "      <td>0.769931</td>\n",
       "      <td>0.569865</td>\n",
       "      <td>0.807957</td>\n",
       "      <td>0.158692</td>\n",
       "      <td>0.466193</td>\n",
       "      <td>0.713631</td>\n",
       "      <td>0.187166</td>\n",
       "      <td>0.579207</td>\n",
       "      <td>1.054113</td>\n",
       "      <td>0.787823</td>\n",
       "      <td>0.396256</td>\n",
       "    </tr>\n",
       "    <tr>\n",
       "      <th>26</th>\n",
       "      <td>0.658202</td>\n",
       "      <td>0.159061</td>\n",
       "      <td>0.524166</td>\n",
       "      <td>0.158692</td>\n",
       "      <td>1.135608</td>\n",
       "      <td>1.078539</td>\n",
       "      <td>0.201591</td>\n",
       "      <td>0.402167</td>\n",
       "      <td>0.866379</td>\n",
       "      <td>0.787823</td>\n",
       "      <td>0.396256</td>\n",
       "    </tr>\n",
       "    <tr>\n",
       "      <th>27</th>\n",
       "      <td>0.546472</td>\n",
       "      <td>0.313113</td>\n",
       "      <td>0.666062</td>\n",
       "      <td>0.393905</td>\n",
       "      <td>0.561823</td>\n",
       "      <td>0.287906</td>\n",
       "      <td>0.914312</td>\n",
       "      <td>1.486251</td>\n",
       "      <td>0.866379</td>\n",
       "      <td>0.787823</td>\n",
       "      <td>0.396256</td>\n",
       "    </tr>\n",
       "    <tr>\n",
       "      <th>28</th>\n",
       "      <td>1.017741</td>\n",
       "      <td>1.391472</td>\n",
       "      <td>0.453218</td>\n",
       "      <td>0.158692</td>\n",
       "      <td>0.179300</td>\n",
       "      <td>0.348724</td>\n",
       "      <td>1.029472</td>\n",
       "      <td>0.638220</td>\n",
       "      <td>0.960246</td>\n",
       "      <td>0.787823</td>\n",
       "      <td>0.396256</td>\n",
       "    </tr>\n",
       "    <tr>\n",
       "      <th>29</th>\n",
       "      <td>0.654620</td>\n",
       "      <td>1.391472</td>\n",
       "      <td>0.382271</td>\n",
       "      <td>0.116184</td>\n",
       "      <td>0.753085</td>\n",
       "      <td>0.926494</td>\n",
       "      <td>0.446337</td>\n",
       "      <td>0.402167</td>\n",
       "      <td>0.584777</td>\n",
       "      <td>0.450848</td>\n",
       "      <td>0.396256</td>\n",
       "    </tr>\n",
       "    <tr>\n",
       "      <th>30</th>\n",
       "      <td>0.822215</td>\n",
       "      <td>1.032019</td>\n",
       "      <td>0.098479</td>\n",
       "      <td>0.032592</td>\n",
       "      <td>0.107592</td>\n",
       "      <td>1.080498</td>\n",
       "      <td>0.251958</td>\n",
       "      <td>0.697233</td>\n",
       "      <td>0.303175</td>\n",
       "      <td>0.787823</td>\n",
       "      <td>0.396256</td>\n",
       "    </tr>\n",
       "    <tr>\n",
       "      <th>31</th>\n",
       "      <td>0.878080</td>\n",
       "      <td>1.391472</td>\n",
       "      <td>0.027532</td>\n",
       "      <td>0.372651</td>\n",
       "      <td>0.585746</td>\n",
       "      <td>0.287906</td>\n",
       "      <td>0.964679</td>\n",
       "      <td>0.520193</td>\n",
       "      <td>0.166161</td>\n",
       "      <td>0.450848</td>\n",
       "      <td>0.396256</td>\n",
       "    </tr>\n",
       "    <tr>\n",
       "      <th>32</th>\n",
       "      <td>0.710485</td>\n",
       "      <td>0.775267</td>\n",
       "      <td>0.169427</td>\n",
       "      <td>0.094931</td>\n",
       "      <td>0.083669</td>\n",
       "      <td>2.023176</td>\n",
       "      <td>0.914312</td>\n",
       "      <td>0.010924</td>\n",
       "      <td>0.584777</td>\n",
       "      <td>0.787823</td>\n",
       "      <td>0.396256</td>\n",
       "    </tr>\n",
       "    <tr>\n",
       "      <th>33</th>\n",
       "      <td>0.431161</td>\n",
       "      <td>0.775267</td>\n",
       "      <td>5.790187</td>\n",
       "      <td>0.307468</td>\n",
       "      <td>2.307100</td>\n",
       "      <td>1.110907</td>\n",
       "      <td>0.899886</td>\n",
       "      <td>0.815259</td>\n",
       "      <td>0.960246</td>\n",
       "      <td>0.450848</td>\n",
       "      <td>0.396256</td>\n",
       "    </tr>\n",
       "    <tr>\n",
       "      <th>34</th>\n",
       "      <td>1.160984</td>\n",
       "      <td>0.107711</td>\n",
       "      <td>0.524166</td>\n",
       "      <td>0.330144</td>\n",
       "      <td>0.274931</td>\n",
       "      <td>0.107411</td>\n",
       "      <td>0.446337</td>\n",
       "      <td>0.638220</td>\n",
       "      <td>1.147981</td>\n",
       "      <td>0.787823</td>\n",
       "      <td>0.396256</td>\n",
       "    </tr>\n",
       "    <tr>\n",
       "      <th>35</th>\n",
       "      <td>0.654620</td>\n",
       "      <td>1.391472</td>\n",
       "      <td>2.100902</td>\n",
       "      <td>0.031169</td>\n",
       "      <td>1.039977</td>\n",
       "      <td>0.865676</td>\n",
       "      <td>0.575922</td>\n",
       "      <td>0.638220</td>\n",
       "      <td>0.772512</td>\n",
       "      <td>0.450848</td>\n",
       "      <td>0.396256</td>\n",
       "    </tr>\n",
       "    <tr>\n",
       "      <th>36</th>\n",
       "      <td>0.403229</td>\n",
       "      <td>0.672566</td>\n",
       "      <td>0.098479</td>\n",
       "      <td>0.031169</td>\n",
       "      <td>1.231239</td>\n",
       "      <td>0.956903</td>\n",
       "      <td>0.705508</td>\n",
       "      <td>0.343154</td>\n",
       "      <td>0.353895</td>\n",
       "      <td>0.450848</td>\n",
       "      <td>0.396256</td>\n",
       "    </tr>\n",
       "    <tr>\n",
       "      <th>37</th>\n",
       "      <td>0.825796</td>\n",
       "      <td>0.046341</td>\n",
       "      <td>0.311323</td>\n",
       "      <td>0.456244</td>\n",
       "      <td>0.274931</td>\n",
       "      <td>0.500769</td>\n",
       "      <td>0.525555</td>\n",
       "      <td>0.424016</td>\n",
       "      <td>0.678644</td>\n",
       "      <td>1.689519</td>\n",
       "      <td>2.523621</td>\n",
       "    </tr>\n",
       "    <tr>\n",
       "      <th>38</th>\n",
       "      <td>3.364062</td>\n",
       "      <td>0.929318</td>\n",
       "      <td>0.737010</td>\n",
       "      <td>1.796651</td>\n",
       "      <td>0.848716</td>\n",
       "      <td>0.835267</td>\n",
       "      <td>1.223850</td>\n",
       "      <td>1.051311</td>\n",
       "      <td>0.584777</td>\n",
       "      <td>2.026494</td>\n",
       "      <td>0.396256</td>\n",
       "    </tr>\n",
       "    <tr>\n",
       "      <th>39</th>\n",
       "      <td>0.434742</td>\n",
       "      <td>0.457144</td>\n",
       "      <td>2.384693</td>\n",
       "      <td>0.286214</td>\n",
       "      <td>0.370562</td>\n",
       "      <td>1.232543</td>\n",
       "      <td>0.122373</td>\n",
       "      <td>1.014147</td>\n",
       "      <td>0.072294</td>\n",
       "      <td>0.787823</td>\n",
       "      <td>0.396256</td>\n",
       "    </tr>\n",
       "    <tr>\n",
       "      <th>40</th>\n",
       "      <td>0.434742</td>\n",
       "      <td>0.457144</td>\n",
       "      <td>2.384693</td>\n",
       "      <td>0.286214</td>\n",
       "      <td>0.370562</td>\n",
       "      <td>1.232543</td>\n",
       "      <td>0.122373</td>\n",
       "      <td>1.014147</td>\n",
       "      <td>0.072294</td>\n",
       "      <td>0.787823</td>\n",
       "      <td>0.396256</td>\n",
       "    </tr>\n",
       "    <tr>\n",
       "      <th>41</th>\n",
       "      <td>0.459094</td>\n",
       "      <td>0.149042</td>\n",
       "      <td>0.185312</td>\n",
       "      <td>0.011338</td>\n",
       "      <td>0.107592</td>\n",
       "      <td>0.014225</td>\n",
       "      <td>0.331177</td>\n",
       "      <td>0.874272</td>\n",
       "      <td>1.054113</td>\n",
       "      <td>2.026494</td>\n",
       "      <td>0.396256</td>\n",
       "    </tr>\n",
       "    <tr>\n",
       "      <th>42</th>\n",
       "      <td>0.211283</td>\n",
       "      <td>0.364463</td>\n",
       "      <td>0.043416</td>\n",
       "      <td>5.197246</td>\n",
       "      <td>0.753085</td>\n",
       "      <td>0.987312</td>\n",
       "      <td>0.655141</td>\n",
       "      <td>1.427238</td>\n",
       "      <td>0.072294</td>\n",
       "      <td>0.450848</td>\n",
       "      <td>0.396256</td>\n",
       "    </tr>\n",
       "    <tr>\n",
       "      <th>43</th>\n",
       "      <td>0.738418</td>\n",
       "      <td>0.261762</td>\n",
       "      <td>0.240375</td>\n",
       "      <td>0.392483</td>\n",
       "      <td>0.657454</td>\n",
       "      <td>0.713631</td>\n",
       "      <td>0.072005</td>\n",
       "      <td>3.197630</td>\n",
       "      <td>0.115441</td>\n",
       "      <td>0.787823</td>\n",
       "      <td>0.396256</td>\n",
       "    </tr>\n",
       "    <tr>\n",
       "      <th>44</th>\n",
       "      <td>0.794282</td>\n",
       "      <td>1.288771</td>\n",
       "      <td>0.524166</td>\n",
       "      <td>0.796303</td>\n",
       "      <td>1.039977</td>\n",
       "      <td>1.078539</td>\n",
       "      <td>1.094265</td>\n",
       "      <td>0.815259</td>\n",
       "      <td>0.866379</td>\n",
       "      <td>0.787823</td>\n",
       "      <td>0.396256</td>\n",
       "    </tr>\n",
       "    <tr>\n",
       "      <th>45</th>\n",
       "      <td>0.043689</td>\n",
       "      <td>0.621215</td>\n",
       "      <td>0.311323</td>\n",
       "      <td>0.711289</td>\n",
       "      <td>0.753085</td>\n",
       "      <td>0.563545</td>\n",
       "      <td>3.815561</td>\n",
       "      <td>0.579207</td>\n",
       "      <td>2.512842</td>\n",
       "      <td>2.026494</td>\n",
       "      <td>0.396256</td>\n",
       "    </tr>\n",
       "    <tr>\n",
       "      <th>46</th>\n",
       "      <td>2.274699</td>\n",
       "      <td>0.816598</td>\n",
       "      <td>0.240375</td>\n",
       "      <td>0.563935</td>\n",
       "      <td>0.585746</td>\n",
       "      <td>2.053585</td>\n",
       "      <td>0.395969</td>\n",
       "      <td>0.424016</td>\n",
       "      <td>1.147981</td>\n",
       "      <td>0.787823</td>\n",
       "      <td>0.396256</td>\n",
       "    </tr>\n",
       "    <tr>\n",
       "      <th>47</th>\n",
       "      <td>1.328579</td>\n",
       "      <td>1.278752</td>\n",
       "      <td>0.666062</td>\n",
       "      <td>0.542681</td>\n",
       "      <td>0.370562</td>\n",
       "      <td>0.287906</td>\n",
       "      <td>0.395969</td>\n",
       "      <td>0.461180</td>\n",
       "      <td>0.866379</td>\n",
       "      <td>0.787823</td>\n",
       "      <td>0.396256</td>\n",
       "    </tr>\n",
       "    <tr>\n",
       "      <th>48</th>\n",
       "      <td>0.714066</td>\n",
       "      <td>0.210412</td>\n",
       "      <td>0.666062</td>\n",
       "      <td>0.456244</td>\n",
       "      <td>1.039977</td>\n",
       "      <td>1.048130</td>\n",
       "      <td>0.187166</td>\n",
       "      <td>0.579207</td>\n",
       "      <td>1.147981</td>\n",
       "      <td>0.787823</td>\n",
       "      <td>0.396256</td>\n",
       "    </tr>\n",
       "    <tr>\n",
       "      <th>49</th>\n",
       "      <td>1.216849</td>\n",
       "      <td>0.508495</td>\n",
       "      <td>0.807957</td>\n",
       "      <td>0.286214</td>\n",
       "      <td>0.370562</td>\n",
       "      <td>1.506223</td>\n",
       "      <td>0.057580</td>\n",
       "      <td>0.461180</td>\n",
       "      <td>1.147981</td>\n",
       "      <td>0.787823</td>\n",
       "      <td>0.396256</td>\n",
       "    </tr>\n",
       "  </tbody>\n",
       "</table>\n",
       "</div>"
      ],
      "text/plain": [
       "          0         1         2         3         4         5         6   \\\n",
       "0   0.961877  1.391472  0.453218  0.243707  0.466193  0.379133  1.288643   \n",
       "1   1.967442  1.391472  0.043416  0.223875  0.872638  0.624363  0.719933   \n",
       "2   1.297065  1.186070  0.169427  0.096353  0.083669  0.229047  0.331177   \n",
       "3   1.384443  1.484154  0.453218  0.264960  0.107592  0.411500  0.979104   \n",
       "4   0.961877  1.391472  0.453218  0.243707  0.466193  0.379133  1.288643   \n",
       "5   0.738418  1.391472  0.524166  0.264960  0.274931  0.196679  1.288643   \n",
       "6   0.403229  1.083370  0.666062  0.392483  0.083669  0.381091  0.072005   \n",
       "7   0.682553  1.391472  0.949853  0.477498  0.083669  0.774449  0.511130   \n",
       "8   0.291499  1.288771  0.382271  0.307468  0.657454  0.865676  0.316751   \n",
       "9   0.155419  0.457144  2.526589  0.349975  0.107592  1.688677  0.251958   \n",
       "10  0.291499  0.980669  0.524166  0.202621  0.083669  0.563545  0.201591   \n",
       "11  0.155419  0.457144  2.526589  0.349975  0.107592  1.688677  0.251958   \n",
       "12  0.487026  1.391472  0.666062  0.032592  0.011961  0.381091  1.742192   \n",
       "13  0.459094  0.097691  0.666062  0.563935  0.657454  0.531178  0.331177   \n",
       "14  0.514959  0.467164  0.894790  1.881666  3.454669  2.996263  0.979104   \n",
       "15  0.514959  0.415813  0.965737  1.754143  3.359038  3.087490  0.914312   \n",
       "16  1.384443  1.484154  0.524166  0.096353  1.828946  1.719086  0.072005   \n",
       "17  0.179770  0.046341  0.595114  5.962380  0.011961  0.289865  1.303068   \n",
       "18  0.347364  0.980669  1.320476  0.031169  0.944346  0.531178  0.446337   \n",
       "19  1.160984  1.227401  0.524166  5.388530  0.107592  0.289865  1.756618   \n",
       "20  1.719632  1.073350  0.524166  0.222453  1.255161  0.411500  0.511130   \n",
       "21  0.769931  0.200392  0.169427  0.116184  0.681377  0.745999  1.353436   \n",
       "22  0.546472  0.313113  0.666062  0.393905  0.561823  0.287906  0.914312   \n",
       "23  0.211283  0.826617  0.169427  0.073677  0.657454  0.624363  0.914312   \n",
       "24  0.714066  0.672566  0.098479  0.052423  0.490115  0.196679  0.770301   \n",
       "25  0.769931  0.569865  0.807957  0.158692  0.466193  0.713631  0.187166   \n",
       "26  0.658202  0.159061  0.524166  0.158692  1.135608  1.078539  0.201591   \n",
       "27  0.546472  0.313113  0.666062  0.393905  0.561823  0.287906  0.914312   \n",
       "28  1.017741  1.391472  0.453218  0.158692  0.179300  0.348724  1.029472   \n",
       "29  0.654620  1.391472  0.382271  0.116184  0.753085  0.926494  0.446337   \n",
       "30  0.822215  1.032019  0.098479  0.032592  0.107592  1.080498  0.251958   \n",
       "31  0.878080  1.391472  0.027532  0.372651  0.585746  0.287906  0.964679   \n",
       "32  0.710485  0.775267  0.169427  0.094931  0.083669  2.023176  0.914312   \n",
       "33  0.431161  0.775267  5.790187  0.307468  2.307100  1.110907  0.899886   \n",
       "34  1.160984  0.107711  0.524166  0.330144  0.274931  0.107411  0.446337   \n",
       "35  0.654620  1.391472  2.100902  0.031169  1.039977  0.865676  0.575922   \n",
       "36  0.403229  0.672566  0.098479  0.031169  1.231239  0.956903  0.705508   \n",
       "37  0.825796  0.046341  0.311323  0.456244  0.274931  0.500769  0.525555   \n",
       "38  3.364062  0.929318  0.737010  1.796651  0.848716  0.835267  1.223850   \n",
       "39  0.434742  0.457144  2.384693  0.286214  0.370562  1.232543  0.122373   \n",
       "40  0.434742  0.457144  2.384693  0.286214  0.370562  1.232543  0.122373   \n",
       "41  0.459094  0.149042  0.185312  0.011338  0.107592  0.014225  0.331177   \n",
       "42  0.211283  0.364463  0.043416  5.197246  0.753085  0.987312  0.655141   \n",
       "43  0.738418  0.261762  0.240375  0.392483  0.657454  0.713631  0.072005   \n",
       "44  0.794282  1.288771  0.524166  0.796303  1.039977  1.078539  1.094265   \n",
       "45  0.043689  0.621215  0.311323  0.711289  0.753085  0.563545  3.815561   \n",
       "46  2.274699  0.816598  0.240375  0.563935  0.585746  2.053585  0.395969   \n",
       "47  1.328579  1.278752  0.666062  0.542681  0.370562  0.287906  0.395969   \n",
       "48  0.714066  0.210412  0.666062  0.456244  1.039977  1.048130  0.187166   \n",
       "49  1.216849  0.508495  0.807957  0.286214  0.370562  1.506223  0.057580   \n",
       "\n",
       "          7         8         9         10  \n",
       "0   0.579207  0.960246  0.787823  0.396256  \n",
       "1   0.128950  0.584777  0.787823  0.396256  \n",
       "2   0.048089  0.584777  0.787823  0.396256  \n",
       "3   0.461180  0.584777  0.450848  0.396256  \n",
       "4   0.579207  0.960246  0.787823  0.396256  \n",
       "5   0.579207  0.960246  0.787823  0.396256  \n",
       "6   1.169337  0.960246  0.787823  0.396256  \n",
       "7   1.110324  0.397043  1.689519  2.523621  \n",
       "8   0.520193  0.866379  1.689519  2.523621  \n",
       "9   0.837107  0.072294  0.787823  0.396256  \n",
       "10  0.697233  1.147981  0.787823  0.396256  \n",
       "11  0.837107  0.072294  0.787823  0.396256  \n",
       "12  0.815259  0.490910  0.787823  0.396256  \n",
       "13  5.322101  1.241848  0.787823  0.396256  \n",
       "14  1.309212  1.147981  0.787823  0.396256  \n",
       "15  1.604277  1.147981  0.787823  0.396256  \n",
       "16  0.542042  0.072294  1.689519  2.523621  \n",
       "17  3.669735  1.054113  0.787823  0.396256  \n",
       "18  0.933285  1.335715  2.026494  0.396256  \n",
       "19  2.489473  1.147981  0.450848  0.396256  \n",
       "20  0.756246  0.960246  0.450848  0.396256  \n",
       "21  0.048089  0.678644  0.787823  0.396256  \n",
       "22  1.486251  0.866379  0.787823  0.396256  \n",
       "23  0.756246  0.960246  0.787823  0.396256  \n",
       "24  0.166115  0.678644  0.450848  0.396256  \n",
       "25  0.579207  1.054113  0.787823  0.396256  \n",
       "26  0.402167  0.866379  0.787823  0.396256  \n",
       "27  1.486251  0.866379  0.787823  0.396256  \n",
       "28  0.638220  0.960246  0.787823  0.396256  \n",
       "29  0.402167  0.584777  0.450848  0.396256  \n",
       "30  0.697233  0.303175  0.787823  0.396256  \n",
       "31  0.520193  0.166161  0.450848  0.396256  \n",
       "32  0.010924  0.584777  0.787823  0.396256  \n",
       "33  0.815259  0.960246  0.450848  0.396256  \n",
       "34  0.638220  1.147981  0.787823  0.396256  \n",
       "35  0.638220  0.772512  0.450848  0.396256  \n",
       "36  0.343154  0.353895  0.450848  0.396256  \n",
       "37  0.424016  0.678644  1.689519  2.523621  \n",
       "38  1.051311  0.584777  2.026494  0.396256  \n",
       "39  1.014147  0.072294  0.787823  0.396256  \n",
       "40  1.014147  0.072294  0.787823  0.396256  \n",
       "41  0.874272  1.054113  2.026494  0.396256  \n",
       "42  1.427238  0.072294  0.450848  0.396256  \n",
       "43  3.197630  0.115441  0.787823  0.396256  \n",
       "44  0.815259  0.866379  0.787823  0.396256  \n",
       "45  0.579207  2.512842  2.026494  0.396256  \n",
       "46  0.424016  1.147981  0.787823  0.396256  \n",
       "47  0.461180  0.866379  0.787823  0.396256  \n",
       "48  0.579207  1.147981  0.787823  0.396256  \n",
       "49  0.461180  1.147981  0.787823  0.396256  "
      ]
     },
     "execution_count": 48,
     "metadata": {},
     "output_type": "execute_result"
    }
   ],
   "source": [
    "z1=pd.DataFrame(z)\n",
    "z1\n",
    "z1.head(50)"
   ]
  },
  {
   "cell_type": "code",
   "execution_count": 49,
   "id": "e9c8d3f2",
   "metadata": {},
   "outputs": [
    {
     "data": {
      "text/html": [
       "<div>\n",
       "<style scoped>\n",
       "    .dataframe tbody tr th:only-of-type {\n",
       "        vertical-align: middle;\n",
       "    }\n",
       "\n",
       "    .dataframe tbody tr th {\n",
       "        vertical-align: top;\n",
       "    }\n",
       "\n",
       "    .dataframe thead th {\n",
       "        text-align: right;\n",
       "    }\n",
       "</style>\n",
       "<table border=\"1\" class=\"dataframe\">\n",
       "  <thead>\n",
       "    <tr style=\"text-align: right;\">\n",
       "      <th></th>\n",
       "      <th>volatile acidity</th>\n",
       "      <th>citric acid</th>\n",
       "      <th>residual sugar</th>\n",
       "      <th>chlorides</th>\n",
       "      <th>free sulfur dioxide</th>\n",
       "      <th>total sulfur dioxide</th>\n",
       "      <th>pH</th>\n",
       "      <th>sulphates</th>\n",
       "      <th>alcohol</th>\n",
       "      <th>quality</th>\n",
       "      <th>best quality</th>\n",
       "    </tr>\n",
       "  </thead>\n",
       "  <tbody>\n",
       "    <tr>\n",
       "      <th>0</th>\n",
       "      <td>0.700</td>\n",
       "      <td>0.00</td>\n",
       "      <td>1.9</td>\n",
       "      <td>0.076</td>\n",
       "      <td>11.0</td>\n",
       "      <td>34.0</td>\n",
       "      <td>3.51</td>\n",
       "      <td>0.56</td>\n",
       "      <td>9.4</td>\n",
       "      <td>5</td>\n",
       "      <td>0</td>\n",
       "    </tr>\n",
       "    <tr>\n",
       "      <th>1</th>\n",
       "      <td>0.880</td>\n",
       "      <td>0.00</td>\n",
       "      <td>2.6</td>\n",
       "      <td>0.098</td>\n",
       "      <td>25.0</td>\n",
       "      <td>67.0</td>\n",
       "      <td>3.20</td>\n",
       "      <td>0.68</td>\n",
       "      <td>9.8</td>\n",
       "      <td>5</td>\n",
       "      <td>0</td>\n",
       "    </tr>\n",
       "    <tr>\n",
       "      <th>2</th>\n",
       "      <td>0.760</td>\n",
       "      <td>0.04</td>\n",
       "      <td>2.3</td>\n",
       "      <td>0.092</td>\n",
       "      <td>15.0</td>\n",
       "      <td>54.0</td>\n",
       "      <td>3.26</td>\n",
       "      <td>0.65</td>\n",
       "      <td>9.8</td>\n",
       "      <td>5</td>\n",
       "      <td>0</td>\n",
       "    </tr>\n",
       "    <tr>\n",
       "      <th>3</th>\n",
       "      <td>0.280</td>\n",
       "      <td>0.56</td>\n",
       "      <td>1.9</td>\n",
       "      <td>0.075</td>\n",
       "      <td>17.0</td>\n",
       "      <td>60.0</td>\n",
       "      <td>3.16</td>\n",
       "      <td>0.58</td>\n",
       "      <td>9.8</td>\n",
       "      <td>6</td>\n",
       "      <td>0</td>\n",
       "    </tr>\n",
       "    <tr>\n",
       "      <th>4</th>\n",
       "      <td>0.700</td>\n",
       "      <td>0.00</td>\n",
       "      <td>1.9</td>\n",
       "      <td>0.076</td>\n",
       "      <td>11.0</td>\n",
       "      <td>34.0</td>\n",
       "      <td>3.51</td>\n",
       "      <td>0.56</td>\n",
       "      <td>9.4</td>\n",
       "      <td>5</td>\n",
       "      <td>0</td>\n",
       "    </tr>\n",
       "    <tr>\n",
       "      <th>...</th>\n",
       "      <td>...</td>\n",
       "      <td>...</td>\n",
       "      <td>...</td>\n",
       "      <td>...</td>\n",
       "      <td>...</td>\n",
       "      <td>...</td>\n",
       "      <td>...</td>\n",
       "      <td>...</td>\n",
       "      <td>...</td>\n",
       "      <td>...</td>\n",
       "      <td>...</td>\n",
       "    </tr>\n",
       "    <tr>\n",
       "      <th>1594</th>\n",
       "      <td>0.600</td>\n",
       "      <td>0.08</td>\n",
       "      <td>2.0</td>\n",
       "      <td>0.090</td>\n",
       "      <td>32.0</td>\n",
       "      <td>44.0</td>\n",
       "      <td>3.45</td>\n",
       "      <td>0.58</td>\n",
       "      <td>10.5</td>\n",
       "      <td>5</td>\n",
       "      <td>0</td>\n",
       "    </tr>\n",
       "    <tr>\n",
       "      <th>1595</th>\n",
       "      <td>0.550</td>\n",
       "      <td>0.10</td>\n",
       "      <td>2.2</td>\n",
       "      <td>0.062</td>\n",
       "      <td>39.0</td>\n",
       "      <td>51.0</td>\n",
       "      <td>3.52</td>\n",
       "      <td>0.76</td>\n",
       "      <td>11.2</td>\n",
       "      <td>6</td>\n",
       "      <td>0</td>\n",
       "    </tr>\n",
       "    <tr>\n",
       "      <th>1596</th>\n",
       "      <td>0.510</td>\n",
       "      <td>0.13</td>\n",
       "      <td>2.3</td>\n",
       "      <td>0.076</td>\n",
       "      <td>29.0</td>\n",
       "      <td>40.0</td>\n",
       "      <td>3.42</td>\n",
       "      <td>0.75</td>\n",
       "      <td>11.0</td>\n",
       "      <td>6</td>\n",
       "      <td>0</td>\n",
       "    </tr>\n",
       "    <tr>\n",
       "      <th>1597</th>\n",
       "      <td>0.645</td>\n",
       "      <td>0.12</td>\n",
       "      <td>2.0</td>\n",
       "      <td>0.075</td>\n",
       "      <td>32.0</td>\n",
       "      <td>44.0</td>\n",
       "      <td>3.57</td>\n",
       "      <td>0.71</td>\n",
       "      <td>10.2</td>\n",
       "      <td>5</td>\n",
       "      <td>0</td>\n",
       "    </tr>\n",
       "    <tr>\n",
       "      <th>1598</th>\n",
       "      <td>0.310</td>\n",
       "      <td>0.47</td>\n",
       "      <td>3.6</td>\n",
       "      <td>0.067</td>\n",
       "      <td>18.0</td>\n",
       "      <td>42.0</td>\n",
       "      <td>3.39</td>\n",
       "      <td>0.66</td>\n",
       "      <td>11.0</td>\n",
       "      <td>6</td>\n",
       "      <td>0</td>\n",
       "    </tr>\n",
       "  </tbody>\n",
       "</table>\n",
       "<p>1469 rows × 11 columns</p>\n",
       "</div>"
      ],
      "text/plain": [
       "      volatile acidity  citric acid  residual sugar  chlorides  \\\n",
       "0                0.700         0.00             1.9      0.076   \n",
       "1                0.880         0.00             2.6      0.098   \n",
       "2                0.760         0.04             2.3      0.092   \n",
       "3                0.280         0.56             1.9      0.075   \n",
       "4                0.700         0.00             1.9      0.076   \n",
       "...                ...          ...             ...        ...   \n",
       "1594             0.600         0.08             2.0      0.090   \n",
       "1595             0.550         0.10             2.2      0.062   \n",
       "1596             0.510         0.13             2.3      0.076   \n",
       "1597             0.645         0.12             2.0      0.075   \n",
       "1598             0.310         0.47             3.6      0.067   \n",
       "\n",
       "      free sulfur dioxide  total sulfur dioxide    pH  sulphates  alcohol  \\\n",
       "0                    11.0                  34.0  3.51       0.56      9.4   \n",
       "1                    25.0                  67.0  3.20       0.68      9.8   \n",
       "2                    15.0                  54.0  3.26       0.65      9.8   \n",
       "3                    17.0                  60.0  3.16       0.58      9.8   \n",
       "4                    11.0                  34.0  3.51       0.56      9.4   \n",
       "...                   ...                   ...   ...        ...      ...   \n",
       "1594                 32.0                  44.0  3.45       0.58     10.5   \n",
       "1595                 39.0                  51.0  3.52       0.76     11.2   \n",
       "1596                 29.0                  40.0  3.42       0.75     11.0   \n",
       "1597                 32.0                  44.0  3.57       0.71     10.2   \n",
       "1598                 18.0                  42.0  3.39       0.66     11.0   \n",
       "\n",
       "      quality  best quality  \n",
       "0           5             0  \n",
       "1           5             0  \n",
       "2           5             0  \n",
       "3           6             0  \n",
       "4           5             0  \n",
       "...       ...           ...  \n",
       "1594        5             0  \n",
       "1595        6             0  \n",
       "1596        6             0  \n",
       "1597        5             0  \n",
       "1598        6             0  \n",
       "\n",
       "[1469 rows x 11 columns]"
      ]
     },
     "execution_count": 49,
     "metadata": {},
     "output_type": "execute_result"
    }
   ],
   "source": [
    "DF=Data_new[(z<3).all(axis=1)]\n",
    "DF"
   ]
  },
  {
   "cell_type": "code",
   "execution_count": 50,
   "id": "08cb34a1",
   "metadata": {},
   "outputs": [
    {
     "data": {
      "text/plain": [
       "8.130081300813007"
      ]
     },
     "execution_count": 50,
     "metadata": {},
     "output_type": "execute_result"
    }
   ],
   "source": [
    "Dataloss=((1599-1469)/1599)*100\n",
    "Dataloss"
   ]
  },
  {
   "cell_type": "code",
   "execution_count": null,
   "id": "63f2939e",
   "metadata": {},
   "outputs": [],
   "source": []
  },
  {
   "cell_type": "code",
   "execution_count": 52,
   "id": "47e65d67",
   "metadata": {},
   "outputs": [
    {
     "data": {
      "image/png": "[encoded data removed]",
      "text/plain": [
       "<Figure size 432x288 with 1 Axes>"
      ]
     },
     "metadata": {
      "needs_background": "light"
     },
     "output_type": "display_data"
    },
    {
     "data": {
      "image/png": "[encoded data removed]",
      "text/plain": [
       "<Figure size 432x288 with 1 Axes>"
      ]
     },
     "metadata": {
      "needs_background": "light"
     },
     "output_type": "display_data"
    },
    {
     "data": {
      "image/png": "[encoded data removed]",
      "text/plain": [
       "<Figure size 432x288 with 1 Axes>"
      ]
     },
     "metadata": {
      "needs_background": "light"
     },
     "output_type": "display_data"
    },
    {
     "data": {
      "image/png": "[encoded data removed]",
      "text/plain": [
       "<Figure size 432x288 with 1 Axes>"
      ]
     },
     "metadata": {
      "needs_background": "light"
     },
     "output_type": "display_data"
    },
    {
     "data": {
      "image/png": "[encoded data removed]",
      "text/plain": [
       "<Figure size 432x288 with 1 Axes>"
      ]
     },
     "metadata": {
      "needs_background": "light"
     },
     "output_type": "display_data"
    },
    {
     "data": {
      "image/png": "[encoded data removed]",
      "text/plain": [
       "<Figure size 432x288 with 1 Axes>"
      ]
     },
     "metadata": {
      "needs_background": "light"
     },
     "output_type": "display_data"
    },
    {
     "data": {
      "image/png": "[encoded data removed]",
      "text/plain": [
       "<Figure size 432x288 with 1 Axes>"
      ]
     },
     "metadata": {
      "needs_background": "light"
     },
     "output_type": "display_data"
    },
    {
     "data": {
      "image/png": "[encoded data removed]",
      "text/plain": [
       "<Figure size 432x288 with 1 Axes>"
      ]
     },
     "metadata": {
      "needs_background": "light"
     },
     "output_type": "display_data"
    },
    {
     "data": {
      "image/png": "[encoded data removed]",
      "text/plain": [
       "<Figure size 432x288 with 1 Axes>"
      ]
     },
     "metadata": {
      "needs_background": "light"
     },
     "output_type": "display_data"
    },
    {
     "data": {
      "image/png": "[encoded data removed]",
      "text/plain": [
       "<Figure size 432x288 with 1 Axes>"
      ]
     },
     "metadata": {
      "needs_background": "light"
     },
     "output_type": "display_data"
    },
    {
     "data": {
      "image/png": "[encoded data removed]",
      "text/plain": [
       "<Figure size 432x288 with 1 Axes>"
      ]
     },
     "metadata": {
      "needs_background": "light"
     },
     "output_type": "display_data"
    }
   ],
   "source": [
    "for column in DF:\n",
    "    plt.figure()\n",
    "    DF.boxplot([column])"
   ]
  },
  {
   "cell_type": "code",
   "execution_count": 53,
   "id": "e96c5b33",
   "metadata": {},
   "outputs": [
    {
     "data": {
      "text/plain": [
       "volatile acidity        0.371810\n",
       "citric acid             0.289119\n",
       "residual sugar          2.400965\n",
       "chlorides               2.164831\n",
       "free sulfur dioxide     0.869892\n",
       "total sulfur dioxide    1.172086\n",
       "pH                      0.033796\n",
       "sulphates               0.860540\n",
       "alcohol                 0.751937\n",
       "quality                 0.399771\n",
       "best quality            2.074357\n",
       "dtype: float64"
      ]
     },
     "execution_count": 53,
     "metadata": {},
     "output_type": "execute_result"
    }
   ],
   "source": [
    "DF.skew()"
   ]
  },
  {
   "cell_type": "code",
   "execution_count": 56,
   "id": "e13f8f89",
   "metadata": {},
   "outputs": [
    {
     "data": {
      "text/html": [
       "<div>\n",
       "<style scoped>\n",
       "    .dataframe tbody tr th:only-of-type {\n",
       "        vertical-align: middle;\n",
       "    }\n",
       "\n",
       "    .dataframe tbody tr th {\n",
       "        vertical-align: top;\n",
       "    }\n",
       "\n",
       "    .dataframe thead th {\n",
       "        text-align: right;\n",
       "    }\n",
       "</style>\n",
       "<table border=\"1\" class=\"dataframe\">\n",
       "  <thead>\n",
       "    <tr style=\"text-align: right;\">\n",
       "      <th></th>\n",
       "      <th>volatile acidity</th>\n",
       "      <th>citric acid</th>\n",
       "      <th>residual sugar</th>\n",
       "      <th>chlorides</th>\n",
       "      <th>free sulfur dioxide</th>\n",
       "      <th>total sulfur dioxide</th>\n",
       "      <th>pH</th>\n",
       "      <th>sulphates</th>\n",
       "      <th>alcohol</th>\n",
       "    </tr>\n",
       "  </thead>\n",
       "  <tbody>\n",
       "    <tr>\n",
       "      <th>0</th>\n",
       "      <td>0.700</td>\n",
       "      <td>0.00</td>\n",
       "      <td>1.9</td>\n",
       "      <td>0.076</td>\n",
       "      <td>11.0</td>\n",
       "      <td>34.0</td>\n",
       "      <td>3.51</td>\n",
       "      <td>0.56</td>\n",
       "      <td>9.4</td>\n",
       "    </tr>\n",
       "    <tr>\n",
       "      <th>1</th>\n",
       "      <td>0.880</td>\n",
       "      <td>0.00</td>\n",
       "      <td>2.6</td>\n",
       "      <td>0.098</td>\n",
       "      <td>25.0</td>\n",
       "      <td>67.0</td>\n",
       "      <td>3.20</td>\n",
       "      <td>0.68</td>\n",
       "      <td>9.8</td>\n",
       "    </tr>\n",
       "    <tr>\n",
       "      <th>2</th>\n",
       "      <td>0.760</td>\n",
       "      <td>0.04</td>\n",
       "      <td>2.3</td>\n",
       "      <td>0.092</td>\n",
       "      <td>15.0</td>\n",
       "      <td>54.0</td>\n",
       "      <td>3.26</td>\n",
       "      <td>0.65</td>\n",
       "      <td>9.8</td>\n",
       "    </tr>\n",
       "    <tr>\n",
       "      <th>3</th>\n",
       "      <td>0.280</td>\n",
       "      <td>0.56</td>\n",
       "      <td>1.9</td>\n",
       "      <td>0.075</td>\n",
       "      <td>17.0</td>\n",
       "      <td>60.0</td>\n",
       "      <td>3.16</td>\n",
       "      <td>0.58</td>\n",
       "      <td>9.8</td>\n",
       "    </tr>\n",
       "    <tr>\n",
       "      <th>4</th>\n",
       "      <td>0.700</td>\n",
       "      <td>0.00</td>\n",
       "      <td>1.9</td>\n",
       "      <td>0.076</td>\n",
       "      <td>11.0</td>\n",
       "      <td>34.0</td>\n",
       "      <td>3.51</td>\n",
       "      <td>0.56</td>\n",
       "      <td>9.4</td>\n",
       "    </tr>\n",
       "    <tr>\n",
       "      <th>...</th>\n",
       "      <td>...</td>\n",
       "      <td>...</td>\n",
       "      <td>...</td>\n",
       "      <td>...</td>\n",
       "      <td>...</td>\n",
       "      <td>...</td>\n",
       "      <td>...</td>\n",
       "      <td>...</td>\n",
       "      <td>...</td>\n",
       "    </tr>\n",
       "    <tr>\n",
       "      <th>1594</th>\n",
       "      <td>0.600</td>\n",
       "      <td>0.08</td>\n",
       "      <td>2.0</td>\n",
       "      <td>0.090</td>\n",
       "      <td>32.0</td>\n",
       "      <td>44.0</td>\n",
       "      <td>3.45</td>\n",
       "      <td>0.58</td>\n",
       "      <td>10.5</td>\n",
       "    </tr>\n",
       "    <tr>\n",
       "      <th>1595</th>\n",
       "      <td>0.550</td>\n",
       "      <td>0.10</td>\n",
       "      <td>2.2</td>\n",
       "      <td>0.062</td>\n",
       "      <td>39.0</td>\n",
       "      <td>51.0</td>\n",
       "      <td>3.52</td>\n",
       "      <td>0.76</td>\n",
       "      <td>11.2</td>\n",
       "    </tr>\n",
       "    <tr>\n",
       "      <th>1596</th>\n",
       "      <td>0.510</td>\n",
       "      <td>0.13</td>\n",
       "      <td>2.3</td>\n",
       "      <td>0.076</td>\n",
       "      <td>29.0</td>\n",
       "      <td>40.0</td>\n",
       "      <td>3.42</td>\n",
       "      <td>0.75</td>\n",
       "      <td>11.0</td>\n",
       "    </tr>\n",
       "    <tr>\n",
       "      <th>1597</th>\n",
       "      <td>0.645</td>\n",
       "      <td>0.12</td>\n",
       "      <td>2.0</td>\n",
       "      <td>0.075</td>\n",
       "      <td>32.0</td>\n",
       "      <td>44.0</td>\n",
       "      <td>3.57</td>\n",
       "      <td>0.71</td>\n",
       "      <td>10.2</td>\n",
       "    </tr>\n",
       "    <tr>\n",
       "      <th>1598</th>\n",
       "      <td>0.310</td>\n",
       "      <td>0.47</td>\n",
       "      <td>3.6</td>\n",
       "      <td>0.067</td>\n",
       "      <td>18.0</td>\n",
       "      <td>42.0</td>\n",
       "      <td>3.39</td>\n",
       "      <td>0.66</td>\n",
       "      <td>11.0</td>\n",
       "    </tr>\n",
       "  </tbody>\n",
       "</table>\n",
       "<p>1469 rows × 9 columns</p>\n",
       "</div>"
      ],
      "text/plain": [
       "      volatile acidity  citric acid  residual sugar  chlorides  \\\n",
       "0                0.700         0.00             1.9      0.076   \n",
       "1                0.880         0.00             2.6      0.098   \n",
       "2                0.760         0.04             2.3      0.092   \n",
       "3                0.280         0.56             1.9      0.075   \n",
       "4                0.700         0.00             1.9      0.076   \n",
       "...                ...          ...             ...        ...   \n",
       "1594             0.600         0.08             2.0      0.090   \n",
       "1595             0.550         0.10             2.2      0.062   \n",
       "1596             0.510         0.13             2.3      0.076   \n",
       "1597             0.645         0.12             2.0      0.075   \n",
       "1598             0.310         0.47             3.6      0.067   \n",
       "\n",
       "      free sulfur dioxide  total sulfur dioxide    pH  sulphates  alcohol  \n",
       "0                    11.0                  34.0  3.51       0.56      9.4  \n",
       "1                    25.0                  67.0  3.20       0.68      9.8  \n",
       "2                    15.0                  54.0  3.26       0.65      9.8  \n",
       "3                    17.0                  60.0  3.16       0.58      9.8  \n",
       "4                    11.0                  34.0  3.51       0.56      9.4  \n",
       "...                   ...                   ...   ...        ...      ...  \n",
       "1594                 32.0                  44.0  3.45       0.58     10.5  \n",
       "1595                 39.0                  51.0  3.52       0.76     11.2  \n",
       "1596                 29.0                  40.0  3.42       0.75     11.0  \n",
       "1597                 32.0                  44.0  3.57       0.71     10.2  \n",
       "1598                 18.0                  42.0  3.39       0.66     11.0  \n",
       "\n",
       "[1469 rows x 9 columns]"
      ]
     },
     "execution_count": 56,
     "metadata": {},
     "output_type": "execute_result"
    }
   ],
   "source": [
    "x=DF.iloc[:,:-2]\n",
    "y=DF.iloc[:,-1]\n"
   ]
  },
  {
   "cell_type": "markdown",
   "id": "d1f5cb95",
   "metadata": {},
   "source": [
    "# Removing skewness"
   ]
  },
  {
   "cell_type": "code",
   "execution_count": 58,
   "id": "ff2a3e24",
   "metadata": {},
   "outputs": [],
   "source": [
    "from sklearn.preprocessing import power_transform\n",
    "x=power_transform(x,method='yeo-johnson')"
   ]
  },
  {
   "cell_type": "code",
   "execution_count": 60,
   "id": "b75047b2",
   "metadata": {},
   "outputs": [
    {
     "data": {
      "text/plain": [
       "array([[ 1.05641261, -1.5291849 , -0.60802426, ...,  1.36354514,\n",
       "        -0.59123727, -1.11570197],\n",
       "       [ 1.92040892, -1.5291849 ,  0.61545483, ..., -0.78124906,\n",
       "         0.44019924, -0.53409745],\n",
       "       [ 1.35738563, -1.25286451,  0.18149042, ..., -0.36245722,\n",
       "         0.20977823, -0.53409745],\n",
       "       ...,\n",
       "       [ 0.00193496, -0.67847537,  0.18149042, ...,  0.74563083,\n",
       "         0.91903427,  0.73126454],\n",
       "       [ 0.76787745, -0.73932778, -0.3821248 , ...,  1.77339854,\n",
       "         0.65491563, -0.04286055],\n",
       "       [-1.31709481,  1.0525156 ,  1.51909265, ...,  0.53880885,\n",
       "         0.28841746,  0.73126454]])"
      ]
     },
     "execution_count": 60,
     "metadata": {},
     "output_type": "execute_result"
    }
   ],
   "source": [
    "from sklearn.preprocessing import StandardScaler\n",
    "S=StandardScaler()\n",
    "x=S.fit_transform(x)\n",
    "x"
   ]
  },
  {
   "cell_type": "markdown",
   "id": "8f5f4c23",
   "metadata": {},
   "source": [
    "# using Binary classifier as outcome has only 2 values"
   ]
  },
  {
   "cell_type": "code",
   "execution_count": 62,
   "id": "09ae0986",
   "metadata": {},
   "outputs": [],
   "source": [
    "from sklearn.model_selection import train_test_split\n",
    "from sklearn.linear_model import LogisticRegression\n",
    "lr=LogisticRegression()\n",
    "from sklearn.metrics import accuracy_score"
   ]
  },
  {
   "cell_type": "markdown",
   "id": "108ab717",
   "metadata": {},
   "source": [
    "# splitting the DF "
   ]
  },
  {
   "cell_type": "code",
   "execution_count": 68,
   "id": "214fa597",
   "metadata": {},
   "outputs": [
    {
     "name": "stdout",
     "output_type": "stream",
     "text": [
      "At random state: 49\n",
      "Traning score is :- 88.42553191489361\n",
      "Test score is :- 88.43537414965986\n",
      "At random state: 82\n",
      "Traning score is :- 88.08510638297872\n",
      "Test score is :- 88.09523809523809\n",
      "At random state: 107\n",
      "Traning score is :- 88.08510638297872\n",
      "Test score is :- 88.09523809523809\n",
      "At random state: 301\n",
      "Traning score is :- 88.08510638297872\n",
      "Test score is :- 88.09523809523809\n",
      "At random state: 366\n",
      "Traning score is :- 88.08510638297872\n",
      "Test score is :- 88.09523809523809\n",
      "At random state: 375\n",
      "Traning score is :- 88.08510638297872\n",
      "Test score is :- 88.09523809523809\n",
      "At random state: 488\n",
      "Traning score is :- 88.08510638297872\n",
      "Test score is :- 88.09523809523809\n",
      "At random state: 492\n",
      "Traning score is :- 88.08510638297872\n",
      "Test score is :- 88.09523809523809\n",
      "At random state: 556\n",
      "Traning score is :- 88.08510638297872\n",
      "Test score is :- 88.09523809523809\n",
      "At random state: 594\n",
      "Traning score is :- 88.08510638297872\n",
      "Test score is :- 88.09523809523809\n",
      "At random state: 614\n",
      "Traning score is :- 88.42553191489361\n",
      "Test score is :- 88.43537414965986\n",
      "At random state: 700\n",
      "Traning score is :- 88.08510638297872\n",
      "Test score is :- 88.09523809523809\n",
      "At random state: 758\n",
      "Traning score is :- 88.42553191489361\n",
      "Test score is :- 88.43537414965986\n",
      "At random state: 767\n",
      "Traning score is :- 87.82978723404256\n",
      "Test score is :- 87.75510204081633\n",
      "At random state: 835\n",
      "Traning score is :- 88.42553191489361\n",
      "Test score is :- 88.43537414965986\n",
      "At random state: 995\n",
      "Traning score is :- 88.08510638297872\n",
      "Test score is :- 88.09523809523809\n"
     ]
    }
   ],
   "source": [
    "l=[]\n",
    "for i in range(1,1000):\n",
    "    x_train,x_test,y_train,y_test=train_test_split(x,y,random_state=i,test_size=0.20)\n",
    "    lr.fit(x_train,y_train)\n",
    "    pred_train=lr.predict(x_train)\n",
    "    pred_test=lr.predict(x_test)\n",
    "    if round(accuracy_score(y_train,pred_train)*100,1)==round(accuracy_score(y_test,pred_test)*100,1):\n",
    "        print(\"At random state:\",i)\n",
    "        print(\"Traning score is :-\",accuracy_score(y_train,pred_train)*100)\n",
    "        print(\"Test score is :-\",accuracy_score(y_test,pred_test)*100)\n",
    "        l.append(i)\n",
    "    \n",
    "    "
   ]
  },
  {
   "cell_type": "code",
   "execution_count": 69,
   "id": "51515661",
   "metadata": {},
   "outputs": [],
   "source": [
    "x_train,x_test,y_train,y_test=train_test_split(x,y,random_state=835,test_size=0.20)"
   ]
  },
  {
   "cell_type": "code",
   "execution_count": 70,
   "id": "8c16de11",
   "metadata": {},
   "outputs": [
    {
     "name": "stdout",
     "output_type": "stream",
     "text": [
      "              precision    recall  f1-score   support\n",
      "\n",
      "           0       0.85      0.93      0.88       247\n",
      "           1       0.22      0.11      0.14        47\n",
      "\n",
      "    accuracy                           0.80       294\n",
      "   macro avg       0.53      0.52      0.51       294\n",
      "weighted avg       0.74      0.80      0.77       294\n",
      "\n"
     ]
    }
   ],
   "source": [
    "from sklearn.metrics import classification_report\n",
    "print(classification_report(y_test,pred_test))"
   ]
  },
  {
   "cell_type": "markdown",
   "id": "593e6e90",
   "metadata": {},
   "source": [
    "# CV"
   ]
  },
  {
   "cell_type": "code",
   "execution_count": 71,
   "id": "a65066cc",
   "metadata": {},
   "outputs": [
    {
     "name": "stdout",
     "output_type": "stream",
     "text": [
      "cv: 2\n",
      "cross validation score is 84.06810135498341\n",
      "Accuracy_score : 88.43537414965986\n",
      "cv: 3\n",
      "cross validation score is 87.0653701153263\n",
      "Accuracy_score : 88.43537414965986\n",
      "cv: 4\n",
      "cross validation score is 87.33914080085297\n",
      "Accuracy_score : 88.43537414965986\n",
      "cv: 5\n",
      "cross validation score is 87.06693598941283\n",
      "Accuracy_score : 88.43537414965986\n",
      "cv: 6\n",
      "cross validation score is 87.1336567413851\n",
      "Accuracy_score : 88.43537414965986\n",
      "cv: 7\n",
      "cross validation score is 87.3374995931387\n",
      "Accuracy_score : 88.43537414965986\n",
      "cv: 8\n",
      "cross validation score is 86.99809931100023\n",
      "Accuracy_score : 88.43537414965986\n",
      "cv: 9\n",
      "cross validation score is 87.40710259863336\n",
      "Accuracy_score : 88.43537414965986\n"
     ]
    }
   ],
   "source": [
    "lr_predict=lr.predict(x_test)\n",
    "from sklearn.model_selection import cross_val_score\n",
    "lss=accuracy_score(y_test,lr_predict)\n",
    "for j in range(2,10):\n",
    "    lssscore=cross_val_score(lr,x,y,cv=j)\n",
    "    lsc=lssscore.mean()\n",
    "    print(\"cv:\",j)\n",
    "    print(\"cross validation score is\",lsc*100)\n",
    "    print(\"Accuracy_score :\",lss*100)\n",
    "    "
   ]
  },
  {
   "cell_type": "markdown",
   "id": "32c0fba0",
   "metadata": {},
   "source": [
    "# ROC Curve"
   ]
  },
  {
   "cell_type": "code",
   "execution_count": 76,
   "id": "0d83065c",
   "metadata": {},
   "outputs": [
    {
     "data": {
      "text/plain": [
       "[<matplotlib.lines.Line2D at 0x294d6880220>]"
      ]
     },
     "execution_count": 76,
     "metadata": {},
     "output_type": "execute_result"
    },
    {
     "data": {
      "image/png": "[encoded data removed]",
      "text/plain": [
       "<Figure size 432x288 with 1 Axes>"
      ]
     },
     "metadata": {
      "needs_background": "light"
     },
     "output_type": "display_data"
    }
   ],
   "source": [
    "from sklearn.metrics import roc_curve,auc\n",
    "fpr,tpr,thresholds=roc_curve(pred_test,y_test)\n",
    "roc_auc=auc(fpr,tpr)\n",
    "\n",
    "plt.figure()\n",
    "plt.plot(fpr,tpr)\n",
    "plt.plot([0,1],[0,1])\n"
   ]
  },
  {
   "cell_type": "markdown",
   "id": "78c8998c",
   "metadata": {},
   "source": [
    "# Random Forest"
   ]
  },
  {
   "cell_type": "code",
   "execution_count": 104,
   "id": "1a57981c",
   "metadata": {},
   "outputs": [
    {
     "name": "stdout",
     "output_type": "stream",
     "text": [
      "{'criterion': 'mse', 'max_features': 'log2'}\n"
     ]
    }
   ],
   "source": [
    "from sklearn.model_selection import GridSearchCV\n",
    "from sklearn.ensemble import RandomForestRegressor\n",
    "from sklearn.metrics import r2_score\n",
    "\n",
    "parameters = {'criterion':['mse', 'mae'],'max_features':[\"auto\", \"sqrt\", \"log2\"]}\n",
    "rf =RandomForestRegressor()\n",
    "FitParameters = GridSearchCV(rf,parameters)\n",
    "FitParameters.fit(x_train,y_train)\n",
    "\n",
    "print(FitParameters.best_params_)"
   ]
  },
  {
   "cell_type": "code",
   "execution_count": 105,
   "id": "cef6015a",
   "metadata": {},
   "outputs": [
    {
     "name": "stdout",
     "output_type": "stream",
     "text": [
      "R2 Score: 50.7402480833836\n",
      "Cross Val Score: 41.36685619789674\n"
     ]
    }
   ],
   "source": [
    "rf= RandomForestRegressor(criterion=\"mse\",max_features=\"log2\")\n",
    "rf.fit(x_train, y_train)\n",
    "rf.score(x_train, y_train)\n",
    "pred_decision = rf.predict(x_test)\n",
    "\n",
    "rfs = r2_score(y_test,pred_decision)\n",
    "print('R2 Score:',rfs*100)\n",
    "\n",
    "rfscore = cross_val_score(rf,x_train,y_train,cv=9)\n",
    "rfc = rfscore.mean()\n",
    "print('Cross Val Score:',rfc*100)"
   ]
  },
  {
   "cell_type": "markdown",
   "id": "4afbd52f",
   "metadata": {},
   "source": [
    "# Decision Tree"
   ]
  },
  {
   "cell_type": "code",
   "execution_count": 81,
   "id": "3f860485",
   "metadata": {},
   "outputs": [
    {
     "name": "stdout",
     "output_type": "stream",
     "text": [
      "{'criterion': 'entropy', 'max_features': 'sqrt'}\n"
     ]
    }
   ],
   "source": [
    "from sklearn.tree import DecisionTreeClassifier\n",
    "parameters = {'criterion':['gini', 'entropy'],'max_features':[\"auto\", \"sqrt\", \"log2\"]}\n",
    "DTC =DecisionTreeClassifier()\n",
    "FitParameters = GridSearchCV(DTC,parameters)\n",
    "FitParameters.fit(x_train,y_train)\n",
    "\n",
    "print(FitParameters.best_params_)"
   ]
  },
  {
   "cell_type": "code",
   "execution_count": 82,
   "id": "9df9aeea",
   "metadata": {},
   "outputs": [
    {
     "name": "stdout",
     "output_type": "stream",
     "text": [
      "              precision    recall  f1-score   support\n",
      "\n",
      "           0       0.96      0.92      0.94       258\n",
      "           1       0.55      0.72      0.63        36\n",
      "\n",
      "    accuracy                           0.89       294\n",
      "   macro avg       0.76      0.82      0.78       294\n",
      "weighted avg       0.91      0.89      0.90       294\n",
      "\n"
     ]
    }
   ],
   "source": [
    "DTC1= DecisionTreeClassifier(criterion=\"entropy\",max_features=\"sqrt\")\n",
    "DTC1.fit(x_train, y_train)\n",
    "DTC1.score(x_train, y_train)\n",
    "x_predict = DTC1.predict(x_test)\n",
    "\n",
    "print(classification_report(x_predict,y_test))"
   ]
  },
  {
   "cell_type": "markdown",
   "id": "d1614283",
   "metadata": {},
   "source": [
    "# svc"
   ]
  },
  {
   "cell_type": "code",
   "execution_count": 95,
   "id": "9dce4322",
   "metadata": {},
   "outputs": [
    {
     "name": "stdout",
     "output_type": "stream",
     "text": [
      "{'gamma': 'auto'}\n"
     ]
    }
   ],
   "source": [
    "from sklearn.svm import SVC\n",
    "parameters = {'gamma':['scale','auto']}\n",
    "SVC =svm.SVC()\n",
    "FitParameters = GridSearchCV(SVC,parameters)\n",
    "FitParameters.fit(x_train,y_train)\n",
    "\n",
    "print(FitParameters.best_params_)\n"
   ]
  },
  {
   "cell_type": "code",
   "execution_count": 97,
   "id": "8f5770a5",
   "metadata": {},
   "outputs": [
    {
     "name": "stdout",
     "output_type": "stream",
     "text": [
      "              precision    recall  f1-score   support\n",
      "\n",
      "           0       0.99      0.88      0.93       276\n",
      "           1       0.32      0.83      0.46        18\n",
      "\n",
      "    accuracy                           0.88       294\n",
      "   macro avg       0.65      0.86      0.70       294\n",
      "weighted avg       0.95      0.88      0.90       294\n",
      "\n"
     ]
    }
   ],
   "source": [
    "svc= svm.SVC(gamma=\"auto\")\n",
    "svc.fit(x_train, y_train)\n",
    "svc.score(x_train, y_train)\n",
    "x_predict = svc.predict(x_test)\n",
    "\n",
    "print(classification_report(x_predict,y_test))"
   ]
  },
  {
   "cell_type": "markdown",
   "id": "47270b02",
   "metadata": {},
   "source": [
    "# Gaussian Naive Bayes"
   ]
  },
  {
   "cell_type": "code",
   "execution_count": null,
   "id": "bf2491a1",
   "metadata": {},
   "outputs": [],
   "source": []
  },
  {
   "cell_type": "code",
   "execution_count": 106,
   "id": "2c6907f9",
   "metadata": {},
   "outputs": [
    {
     "name": "stdout",
     "output_type": "stream",
     "text": [
      "              precision    recall  f1-score   support\n",
      "\n",
      "           0       0.92      0.92      0.92       246\n",
      "           1       0.60      0.58      0.59        48\n",
      "\n",
      "    accuracy                           0.87       294\n",
      "   macro avg       0.76      0.75      0.76       294\n",
      "weighted avg       0.87      0.87      0.87       294\n",
      "\n"
     ]
    }
   ],
   "source": [
    "from sklearn.naive_bayes import GaussianNB\n",
    "gnb =GaussianNB()\n",
    "gnb.fit(x_train, y_train)\n",
    "gnb.score(x_train, y_train)\n",
    "x_predict = gnb.predict(x_test)\n",
    "\n",
    "print(classification_report(x_predict,y_test))"
   ]
  },
  {
   "cell_type": "markdown",
   "id": "09f5a155",
   "metadata": {},
   "source": [
    "From the accuracy we conclude that Decision Tree gives us 89% accuracy and this is the best fit algorithm."
   ]
  },
  {
   "cell_type": "code",
   "execution_count": 107,
   "id": "3dbf96da",
   "metadata": {},
   "outputs": [],
   "source": [
    "import pickle\n",
    "filename = 'RW.pkl'\n",
    "pickle.dump(DTC, open(filename, 'wb'))"
   ]
  },
  {
   "cell_type": "code",
   "execution_count": 108,
   "id": "2cf3fd01",
   "metadata": {},
   "outputs": [
    {
     "data": {
      "text/plain": [
       "array([0, 0, 1, 0, 0, 0, 0, 0, 0, 0, 0, 1, 0, 0, 0, 0, 0, 0, 0, 1, 0, 0,\n",
       "       0, 1, 0, 1, 1, 0, 0, 1, 0, 0, 0, 0, 0, 0, 0, 0, 1, 0, 0, 0, 1, 0,\n",
       "       1, 0, 0, 1, 0, 0, 0, 0, 0, 0, 0, 0, 0, 0, 0, 0, 0, 0, 0, 0, 0, 0,\n",
       "       1, 0, 0, 0, 0, 0, 0, 0, 0, 0, 0, 1, 0, 0, 0, 1, 0, 0, 0, 0, 1, 1,\n",
       "       0, 0, 0, 0, 0, 0, 1, 0, 0, 0, 0, 0, 0, 0, 0, 0, 0, 0, 1, 0, 0, 0,\n",
       "       0, 0, 0, 0, 0, 0, 0, 0, 0, 1, 0, 0, 0, 0, 1, 0, 0, 0, 0, 0, 0, 0,\n",
       "       0, 0, 0, 0, 0, 0, 0, 0, 0, 1, 0, 0, 0, 0, 0, 0, 0, 0, 0, 0, 1, 0,\n",
       "       1, 0, 0, 1, 0, 0, 0, 0, 1, 0, 1, 1, 0, 0, 1, 0, 0, 1, 0, 0, 0, 1,\n",
       "       1, 0, 1, 0, 0, 0, 0, 1, 0, 1, 0, 0, 0, 0, 0, 0, 0, 0, 0, 0, 1, 0,\n",
       "       0, 1, 0, 0, 0, 1, 0, 0, 0, 0, 0, 0, 0, 0, 0, 0, 0, 0, 0, 0, 0, 1,\n",
       "       1, 0, 0, 0, 0, 0, 0, 0, 0, 0, 0, 0, 1, 1, 0, 0, 1, 0, 0, 0, 0, 0,\n",
       "       0, 0, 0, 0, 0, 0, 1, 0, 0, 0, 1, 0, 0, 0, 0, 0, 0, 0, 0, 0, 0, 0,\n",
       "       1, 0, 0, 0, 0, 0, 0, 0, 0, 0, 0, 0, 0, 0, 0, 1, 0, 0, 0, 0, 0, 0,\n",
       "       0, 0, 1, 0, 0, 0, 0, 0], dtype=int64)"
      ]
     },
     "execution_count": 108,
     "metadata": {},
     "output_type": "execute_result"
    }
   ],
   "source": [
    "import numpy as np\n",
    "a=np.array(y_test)\n",
    "a"
   ]
  },
  {
   "cell_type": "code",
   "execution_count": 110,
   "id": "00576eb0",
   "metadata": {},
   "outputs": [
    {
     "data": {
      "text/plain": [
       "array([0, 0, 0, 0, 0, 0, 0, 0, 0, 0, 0, 0, 0, 0, 0, 0, 0, 0, 0, 0, 0, 0,\n",
       "       0, 1, 0, 0, 1, 0, 0, 1, 0, 0, 1, 0, 0, 0, 0, 0, 1, 0, 0, 0, 1, 0,\n",
       "       1, 0, 1, 0, 0, 0, 0, 0, 0, 0, 0, 0, 0, 0, 0, 0, 0, 0, 0, 0, 0, 0,\n",
       "       1, 0, 0, 0, 0, 0, 0, 0, 0, 0, 0, 1, 0, 0, 0, 0, 0, 0, 0, 0, 1, 1,\n",
       "       0, 0, 0, 0, 0, 0, 0, 0, 0, 0, 0, 0, 0, 0, 0, 1, 0, 0, 0, 0, 0, 0,\n",
       "       0, 0, 0, 0, 0, 0, 0, 0, 0, 1, 0, 0, 0, 0, 0, 0, 0, 0, 1, 0, 0, 0,\n",
       "       0, 0, 0, 0, 1, 0, 0, 0, 0, 0, 0, 0, 0, 0, 0, 0, 0, 0, 0, 0, 0, 1,\n",
       "       1, 0, 0, 0, 0, 0, 0, 0, 0, 0, 1, 1, 0, 0, 0, 0, 0, 1, 1, 0, 0, 0,\n",
       "       0, 0, 1, 0, 0, 0, 0, 1, 0, 0, 0, 0, 0, 0, 0, 0, 0, 0, 0, 0, 1, 0,\n",
       "       0, 1, 0, 1, 0, 1, 0, 0, 0, 0, 0, 0, 0, 0, 0, 0, 0, 0, 0, 0, 0, 1,\n",
       "       1, 0, 0, 0, 0, 0, 0, 0, 0, 0, 0, 0, 0, 0, 0, 0, 0, 0, 0, 0, 0, 0,\n",
       "       0, 0, 0, 0, 0, 0, 1, 0, 0, 0, 0, 0, 0, 0, 0, 0, 0, 0, 0, 0, 0, 0,\n",
       "       1, 0, 0, 0, 0, 1, 0, 0, 0, 0, 0, 0, 0, 0, 0, 1, 0, 0, 0, 0, 0, 0,\n",
       "       0, 1, 1, 0, 0, 0, 0, 0], dtype=int64)"
      ]
     },
     "execution_count": 110,
     "metadata": {},
     "output_type": "execute_result"
    }
   ],
   "source": [
    "predicted=np.array(DTC1.predict(x_test))\n",
    "predicted"
   ]
  },
  {
   "cell_type": "code",
   "execution_count": 111,
   "id": "038f3bd8",
   "metadata": {},
   "outputs": [],
   "source": [
    "conclusion=pd.DataFrame({\"original\":a,\"predicted\":predicted}, index= range(len(a)))"
   ]
  },
  {
   "cell_type": "code",
   "execution_count": 112,
   "id": "3e4ede15",
   "metadata": {},
   "outputs": [
    {
     "data": {
      "text/html": [
       "<div>\n",
       "<style scoped>\n",
       "    .dataframe tbody tr th:only-of-type {\n",
       "        vertical-align: middle;\n",
       "    }\n",
       "\n",
       "    .dataframe tbody tr th {\n",
       "        vertical-align: top;\n",
       "    }\n",
       "\n",
       "    .dataframe thead th {\n",
       "        text-align: right;\n",
       "    }\n",
       "</style>\n",
       "<table border=\"1\" class=\"dataframe\">\n",
       "  <thead>\n",
       "    <tr style=\"text-align: right;\">\n",
       "      <th></th>\n",
       "      <th>original</th>\n",
       "      <th>predicted</th>\n",
       "    </tr>\n",
       "  </thead>\n",
       "  <tbody>\n",
       "    <tr>\n",
       "      <th>0</th>\n",
       "      <td>0</td>\n",
       "      <td>0</td>\n",
       "    </tr>\n",
       "    <tr>\n",
       "      <th>1</th>\n",
       "      <td>0</td>\n",
       "      <td>0</td>\n",
       "    </tr>\n",
       "    <tr>\n",
       "      <th>2</th>\n",
       "      <td>1</td>\n",
       "      <td>0</td>\n",
       "    </tr>\n",
       "    <tr>\n",
       "      <th>3</th>\n",
       "      <td>0</td>\n",
       "      <td>0</td>\n",
       "    </tr>\n",
       "    <tr>\n",
       "      <th>4</th>\n",
       "      <td>0</td>\n",
       "      <td>0</td>\n",
       "    </tr>\n",
       "    <tr>\n",
       "      <th>...</th>\n",
       "      <td>...</td>\n",
       "      <td>...</td>\n",
       "    </tr>\n",
       "    <tr>\n",
       "      <th>289</th>\n",
       "      <td>0</td>\n",
       "      <td>0</td>\n",
       "    </tr>\n",
       "    <tr>\n",
       "      <th>290</th>\n",
       "      <td>0</td>\n",
       "      <td>0</td>\n",
       "    </tr>\n",
       "    <tr>\n",
       "      <th>291</th>\n",
       "      <td>0</td>\n",
       "      <td>0</td>\n",
       "    </tr>\n",
       "    <tr>\n",
       "      <th>292</th>\n",
       "      <td>0</td>\n",
       "      <td>0</td>\n",
       "    </tr>\n",
       "    <tr>\n",
       "      <th>293</th>\n",
       "      <td>0</td>\n",
       "      <td>0</td>\n",
       "    </tr>\n",
       "  </tbody>\n",
       "</table>\n",
       "<p>294 rows × 2 columns</p>\n",
       "</div>"
      ],
      "text/plain": [
       "     original  predicted\n",
       "0           0          0\n",
       "1           0          0\n",
       "2           1          0\n",
       "3           0          0\n",
       "4           0          0\n",
       "..        ...        ...\n",
       "289         0          0\n",
       "290         0          0\n",
       "291         0          0\n",
       "292         0          0\n",
       "293         0          0\n",
       "\n",
       "[294 rows x 2 columns]"
      ]
     },
     "execution_count": 112,
     "metadata": {},
     "output_type": "execute_result"
    }
   ],
   "source": [
    "conclusion"
   ]
  },
  {
   "cell_type": "code",
   "execution_count": null,
   "id": "c7c1d17c",
   "metadata": {},
   "outputs": [],
   "source": []
  }
 ],
 "metadata": {
  "kernelspec": {
   "display_name": "Python 3",
   "language": "python",
   "name": "python3"
  },
  "language_info": {
   "codemirror_mode": {
    "name": "ipython",
    "version": 3
   },
   "file_extension": ".py",
   "mimetype": "text/x-python",
   "name": "python",
   "nbconvert_exporter": "python",
   "pygments_lexer": "ipython3",
   "version": "3.8.8"
  }
 },
 "nbformat": 4,
 "nbformat_minor": 5
}
